{
 "cells": [
  {
   "cell_type": "code",
   "execution_count": null,
   "metadata": {
    "vscode": {
     "languageId": "r"
    }
   },
   "outputs": [],
   "source": [
    "library(Seurat)\n",
    "library(dplyr)\n",
    "library(patchwork)\n",
    "# library(readr)\n",
    "library(ggplot2)\n",
    "#有云服务器的，可开启并运算，这里我用4个线程：\n",
    "library(future)\n",
    "library(qs)\n",
    "# check the current active plan\n",
    "plan()\n",
    "# change the current plan to access parallelization\n",
    "plan(\"multisession\", workers =40)\n",
    "plan()\n",
    "\n",
    "#设置可用的内存\n",
    "# options(future.globals.maxSize = 4 * 1024^3)\n",
    "plan(\"sequential\")\n",
    "future::plan()"
   ]
  },
  {
   "cell_type": "markdown",
   "metadata": {},
   "source": [
    "### 质量控制并确定变异基因"
   ]
  },
  {
   "cell_type": "code",
   "execution_count": null,
   "metadata": {
    "vscode": {
     "languageId": "r"
    }
   },
   "outputs": [],
   "source": [
    "# qread速度很快\n",
    "library(qs)\n",
    "system.time({\n",
    "    seurat.data = qread(file = \"./Outdata/Step3.Cluster_annotion.qs\")\n",
    "           })"
   ]
  },
  {
   "cell_type": "code",
   "execution_count": null,
   "metadata": {
    "vscode": {
     "languageId": "r"
    }
   },
   "outputs": [],
   "source": [
    "table(seurat.data@meta.data$celltype)"
   ]
  },
  {
   "cell_type": "markdown",
   "metadata": {},
   "source": [
    "#### 选择需要二次聚类的细胞类型"
   ]
  },
  {
   "cell_type": "code",
   "execution_count": null,
   "metadata": {
    "vscode": {
     "languageId": "r"
    }
   },
   "outputs": [],
   "source": [
    "## 选择需要二次聚类的细胞类型\n",
    "seurat.data = subset(seurat.data, celltype %in% c(\"Macrophage\"))"
   ]
  },
  {
   "cell_type": "code",
   "execution_count": null,
   "metadata": {
    "vscode": {
     "languageId": "r"
    }
   },
   "outputs": [],
   "source": [
    "#使用PercentageFeatureSet函数计算线粒体基因的百分比\n",
    "seurat.data[[\"percent.mt\"]] <- PercentageFeatureSet(object = seurat.data, pattern = \"^mt-\")\n",
    "pdf(file=\"04.featureViolin.pdf\",width=10,height=6)           #保存基因特征小提琴图\n",
    "VlnPlot(object = seurat.data, features = c(\"nFeature_RNA\", \"nCount_RNA\", \"percent.mt\"), ncol = 3,group.by = \"group\")\n",
    "dev.off()\n",
    "seurat.data <- subset(x = seurat.data, subset = nFeature_RNA > 50 & percent.mt < 5)    #对数据进行过滤\n"
   ]
  },
  {
   "cell_type": "code",
   "execution_count": null,
   "metadata": {
    "vscode": {
     "languageId": "r"
    }
   },
   "outputs": [],
   "source": [
    "#测序深度的相关性绘图\n",
    "pdf(file=\"04.featureCor.pdf\",width=10,height=6)              #保存基因特征相关性图\n",
    "plot1 <- FeatureScatter(object = seurat.data, feature1 = \"nCount_RNA\", feature2 = \"percent.mt\",pt.size=1.5,group.by = \"group\")\n",
    "plot2 <- FeatureScatter(object = seurat.data, feature1 = \"nCount_RNA\", feature2 = \"nFeature_RNA\",,pt.size=1.5,group.by = \"group\")\n",
    "CombinePlots(plots = list(plot1, plot2))\n",
    "dev.off()\n"
   ]
  },
  {
   "cell_type": "code",
   "execution_count": null,
   "metadata": {
    "vscode": {
     "languageId": "r"
    }
   },
   "outputs": [],
   "source": [
    "#对数据进行标准化\n",
    "seurat.data <- NormalizeData(object = seurat.data, normalization.method = \"LogNormalize\", scale.factor = 10000)\n",
    "#提取那些在细胞间变异系数较大的基因\n",
    "seurat.data <- FindVariableFeatures(object = seurat.data, selection.method = \"vst\", nfeatures = 2000)\n",
    "\n"
   ]
  },
  {
   "cell_type": "code",
   "execution_count": null,
   "metadata": {
    "vscode": {
     "languageId": "r"
    }
   },
   "outputs": [],
   "source": [
    "seurat.data"
   ]
  },
  {
   "cell_type": "code",
   "execution_count": null,
   "metadata": {
    "vscode": {
     "languageId": "r"
    }
   },
   "outputs": [],
   "source": [
    "#输出特征方差图\n",
    "top10 <- head(x = VariableFeatures(object = seurat.data), 10)\n",
    "pdf(file=\"04.featureVar.pdf\",width=10,height=6)              #保存基因特征方差图\n",
    "plot1 <- VariableFeaturePlot(object = seurat.data)\n",
    "plot2 <- LabelPoints(plot = plot1, points = top10, repel = TRUE)\n",
    "CombinePlots(plots = list(plot1, plot2))\n",
    "dev.off()"
   ]
  },
  {
   "cell_type": "code",
   "execution_count": null,
   "metadata": {
    "vscode": {
     "languageId": "r"
    }
   },
   "outputs": [],
   "source": [
    "pcSelect=20\n",
    "\n",
    "##PCA分析\n",
    "seurat.data=ScaleData(seurat.data)                     #PCA降维之前的标准预处理步骤\n",
    "seurat.data=RunPCA(object= seurat.data,npcs = pcSelect,pc.genes=VariableFeatures(object = seurat.data))     #PCA分析\n"
   ]
  },
  {
   "cell_type": "code",
   "execution_count": null,
   "metadata": {
    "vscode": {
     "languageId": "r"
    }
   },
   "outputs": [],
   "source": [
    "seurat.data = seurat.data %>% \n",
    "    RunUMAP(reduction = \"pca\", dims = 1:pcSelect, verbose = F)"
   ]
  },
  {
   "cell_type": "markdown",
   "metadata": {},
   "source": [
    "### 去批次"
   ]
  },
  {
   "cell_type": "code",
   "execution_count": null,
   "metadata": {
    "vscode": {
     "languageId": "r"
    }
   },
   "outputs": [],
   "source": [
    "### 3.2 检查批次\n",
    "options(repr.plot.width = 10, repr.plot.height = 4.5)\n",
    "p1.compare=wrap_plots(ncol = 2,\n",
    "                      DimPlot(seurat.data, reduction = \"pca\", group.by = \"sampleID\")+NoAxes()+ggtitle(\"Before_PCA\"),\n",
    "                      DimPlot(seurat.data, reduction = \"umap\", group.by = \"sampleID\")+NoAxes()+ggtitle(\"Before_UMAP\"),\n",
    "                      guides = \"collect\"\n",
    ")\n",
    "p1.compare"
   ]
  },
  {
   "cell_type": "code",
   "execution_count": null,
   "metadata": {
    "vscode": {
     "languageId": "r"
    }
   },
   "outputs": [],
   "source": [
    "### 4.1 RunHarmony 小样本运行比较快\n",
    "library(harmony)\n",
    "seurat.data <- seurat.data %>% RunHarmony(\"sampleID\", plot_convergence = T)"
   ]
  },
  {
   "cell_type": "code",
   "execution_count": null,
   "metadata": {
    "vscode": {
     "languageId": "r"
    }
   },
   "outputs": [],
   "source": [
    "### 去批次之后，还需要再RunUMAP一次更新harmony\n",
    "seurat.data <- seurat.data %>% \n",
    "  RunUMAP(reduction = \"harmony\", dims = 1:pcSelect, verbose = F)"
   ]
  },
  {
   "cell_type": "code",
   "execution_count": null,
   "metadata": {
    "vscode": {
     "languageId": "r"
    }
   },
   "outputs": [],
   "source": [
    "p2.compare=wrap_plots(ncol = 2,\n",
    "                      DimPlot(seurat.data, reduction = \"harmony\", group.by = \"sampleID\")+NoAxes()+ggtitle(\"After_PCA (harmony)\"),\n",
    "                      DimPlot(seurat.data, reduction = \"umap\", group.by = \"sampleID\")+NoAxes()+ggtitle(\"After_UMAP\"),\n",
    "                      guides = \"collect\"\n",
    ")\n",
    "# p2.compare\n",
    "\n",
    "options(repr.plot.width = 10, repr.plot.height = 9)\n",
    "wrap_plots(p1.compare, p2.compare, ncol = 1)\n"
   ]
  },
  {
   "cell_type": "code",
   "execution_count": null,
   "metadata": {
    "vscode": {
     "languageId": "r"
    }
   },
   "outputs": [],
   "source": [
    "pdf(file=\"after_hamrmony.pdf\",width=10,height=9)\n",
    "wrap_plots(p1.compare, p2.compare, ncol = 1)\n",
    "dev.off()"
   ]
  },
  {
   "cell_type": "markdown",
   "metadata": {},
   "source": [
    "### 找合适的resolution"
   ]
  },
  {
   "cell_type": "code",
   "execution_count": null,
   "metadata": {
    "vscode": {
     "languageId": "r"
    }
   },
   "outputs": [],
   "source": [
    "# 对比多种resolution的聚类结果\n",
    "seurat.data <- FindNeighbors(seurat.data,reduction = \"harmony\", dims = 1:pcSelect)\n",
    "for (res in c(0.05,0.1,0.2,0.3,0.5,0.8,1,1.2,1.4,1.5,2)){\n",
    "  print(res)\n",
    "  seurat.data <- FindClusters(seurat.data,resolution = res, algorithm = 1)\n",
    "}"
   ]
  },
  {
   "cell_type": "code",
   "execution_count": null,
   "metadata": {
    "vscode": {
     "languageId": "r"
    }
   },
   "outputs": [],
   "source": [
    "options(repr.plot.width = 20, repr.plot.height = 8)\n",
    "#umap可视化\n",
    "cluster_umap <- wrap_plots(ncol = 5,\n",
    "                           DimPlot(seurat.data, reduction = \"umap\", group.by = \"RNA_snn_res.0.05\", label = T) & NoAxes(),  \n",
    "                           DimPlot(seurat.data, reduction = \"umap\", group.by = \"RNA_snn_res.0.1\", label = T) & NoAxes(),\n",
    "                           DimPlot(seurat.data, reduction = \"umap\", group.by = \"RNA_snn_res.0.2\", label = T) & NoAxes(),\n",
    "                           DimPlot(seurat.data, reduction = \"umap\", group.by = \"RNA_snn_res.0.3\", label = T)& NoAxes(),\n",
    "                           DimPlot(seurat.data, reduction = \"umap\", group.by = \"RNA_snn_res.0.5\", label = T) & NoAxes(),\n",
    "                           DimPlot(seurat.data, reduction = \"umap\", group.by = \"RNA_snn_res.0.8\", label = T) & NoAxes(), \n",
    "                           DimPlot(seurat.data, reduction = \"umap\", group.by = \"RNA_snn_res.1\", label = T) & NoAxes(),\n",
    "                           DimPlot(seurat.data, reduction = \"umap\", group.by = \"RNA_snn_res.1.2\", label = T) & NoAxes(),\n",
    "                           DimPlot(seurat.data, reduction = \"umap\", group.by = \"RNA_snn_res.1.4\", label = T)& NoAxes(),\n",
    "                           DimPlot(seurat.data, reduction = \"umap\", group.by = \"RNA_snn_res.1.5\", label = T)& NoAxes()\n",
    ")\n",
    "cluster_umap"
   ]
  },
  {
   "cell_type": "code",
   "execution_count": null,
   "metadata": {
    "vscode": {
     "languageId": "r"
    }
   },
   "outputs": [],
   "source": [
    "Idents(seurat.data) <- seurat.data@meta.data$RNA_snn_res.0.2"
   ]
  },
  {
   "cell_type": "code",
   "execution_count": null,
   "metadata": {
    "vscode": {
     "languageId": "r"
    }
   },
   "outputs": [],
   "source": [
    "pdf(file=\"07.Umap_0.2.pdf\",width=6.5,height=6)\n",
    "# 默认用seurat_clusters列（最后一次聚类得到的列）\n",
    "DimPlot(seurat.data, reduction = \"umap\", label = TRUE) & NoAxes()\n",
    "dev.off()"
   ]
  },
  {
   "cell_type": "code",
   "execution_count": null,
   "metadata": {
    "vscode": {
     "languageId": "r"
    }
   },
   "outputs": [],
   "source": [
    "#qs速度快\n",
    "#install.packages('qs')\n",
    "library(qs)\n",
    "system.time({\n",
    "    qsave(seurat.data,file = \"./Outdata/Cluster_no_annotion_End.qs\") \n",
    "})"
   ]
  },
  {
   "cell_type": "markdown",
   "metadata": {},
   "source": [
    "## 按照差异基因0.2的清晰度聚类"
   ]
  },
  {
   "cell_type": "code",
   "execution_count": null,
   "metadata": {
    "vscode": {
     "languageId": "r"
    }
   },
   "outputs": [],
   "source": [
    "# qread速度很快\n",
    "library(qs)\n",
    "system.time({\n",
    "    seurat.data = qread(file = \"./Outdata/Sub_annotion.qs\")\n",
    "           })"
   ]
  },
  {
   "cell_type": "code",
   "execution_count": null,
   "metadata": {
    "vscode": {
     "languageId": "r"
    }
   },
   "outputs": [],
   "source": [
    "seurat.data <- subset(seurat.data, subset = !grepl(\"\\\\(\", celltype))\n"
   ]
  },
  {
   "cell_type": "code",
   "execution_count": null,
   "metadata": {
    "vscode": {
     "languageId": "r"
    }
   },
   "outputs": [],
   "source": [
    "head(seurat.data@meta.data)"
   ]
  },
  {
   "cell_type": "code",
   "execution_count": null,
   "metadata": {
    "vscode": {
     "languageId": "r"
    }
   },
   "outputs": [],
   "source": [
    "Idents(seurat.data) <- seurat.data@meta.data$RNA_snn_res.0.2"
   ]
  },
  {
   "cell_type": "code",
   "execution_count": null,
   "metadata": {
    "vscode": {
     "languageId": "r"
    }
   },
   "outputs": [],
   "source": [
    "##寻找差异表达的特征\n",
    "log2FCfilter=1 # 表示2的1次方，即相差两倍\n",
    "adjPvalFilter=0.05"
   ]
  },
  {
   "cell_type": "code",
   "execution_count": null,
   "metadata": {
    "vscode": {
     "languageId": "r"
    }
   },
   "outputs": [],
   "source": [
    "\n",
    "seurat.data.markers <- FindAllMarkers(object = seurat.data,\n",
    "                               only.pos = FALSE,\n",
    "                               min.pct = 0.25,\n",
    "                               logfc.threshold = log2FCfilter)\n"
   ]
  },
  {
   "cell_type": "code",
   "execution_count": null,
   "metadata": {
    "vscode": {
     "languageId": "r"
    }
   },
   "outputs": [],
   "source": [
    "# 选择前3个基因z作为每个cluster的标志基因\n",
    "top3 <- seurat.data.markers %>% group_by(cluster) %>% top_n(n = 5, wt = avg_log2FC)\n"
   ]
  },
  {
   "cell_type": "code",
   "execution_count": null,
   "metadata": {
    "vscode": {
     "languageId": "r"
    }
   },
   "outputs": [],
   "source": [
    "#绘制差异基因在各个细胞类型的热图（图片有问题）\n",
    "pdf(file=\"06.Heatmap.pdf\",width=25,height=15)\n",
    "DoHeatmap(seurat.data, features = top3$gene, \n",
    "# group.by = \"RNA_snn_res.0.2\"\n",
    ")+ \n",
    "#   RotatedAxis() +  # 旋转 X 轴文字，推荐 Seurat 自带函数\n",
    "  theme(\n",
    "    # axis.text.x = element_text(size = 16, angle = 45),  # 横轴文字\n",
    "    axis.text.y = element_text(size = 18),                          # 纵轴文字\n",
    "    # axis.title.x = element_blank(),  # 去掉X轴标题\n",
    "    # axis.title.y = element_blank(),  # 去掉Y轴标题\n",
    "    legend.title = element_text(size = 18),\n",
    "    legend.text  = element_text(size = 18),\n",
    "    legend.key.size = unit(1, \"cm\")  # 图例符号大小\n",
    "  )\n",
    "dev.off()"
   ]
  },
  {
   "cell_type": "code",
   "execution_count": null,
   "metadata": {
    "vscode": {
     "languageId": "r"
    }
   },
   "outputs": [],
   "source": [
    "save(seurat.data.markers,\n",
    "     file = \"Step6.celltype.markers.0.2_macro.Rdata\")"
   ]
  },
  {
   "cell_type": "code",
   "execution_count": null,
   "metadata": {
    "vscode": {
     "languageId": "r"
    }
   },
   "outputs": [],
   "source": [
    "sig.markers=seurat.data.markers[(abs(as.numeric(as.vector(seurat.data.markers$avg_log2FC)))>log2FCfilter & as.numeric(as.vector(seurat.data.markers$p_val_adj))<adjPvalFilter),]\n",
    "write.table(sig.markers,file=\"06.markers_macro.xls\",sep=\"\\t\",row.names=F,quote=F)\n"
   ]
  },
  {
   "cell_type": "code",
   "execution_count": null,
   "metadata": {
    "vscode": {
     "languageId": "r"
    }
   },
   "outputs": [],
   "source": [
    "head(sig.markers)"
   ]
  },
  {
   "cell_type": "markdown",
   "metadata": {},
   "source": [
    "### 主要细胞类型注释"
   ]
  },
  {
   "cell_type": "code",
   "execution_count": null,
   "metadata": {
    "vscode": {
     "languageId": "r"
    }
   },
   "outputs": [],
   "source": [
    "library(Seurat)\n",
    "library(dplyr)\n",
    "library(patchwork)\n",
    "# library(readr)\n",
    "library(ggplot2)\n",
    "#有云服务器的，可开启并运算，这里我用4个线程：\n",
    "library(future)\n",
    "library(qs)\n",
    "# check the current active plan\n",
    "plan()\n",
    "# change the current plan to access parallelization\n",
    "plan(\"multisession\", workers =40)\n",
    "plan()\n",
    "\n",
    "#设置可用的内存\n",
    "# options(future.globals.maxSize = 4 * 1024^3)\n",
    "plan(\"sequential\")\n",
    "future::plan()"
   ]
  },
  {
   "cell_type": "code",
   "execution_count": null,
   "metadata": {
    "vscode": {
     "languageId": "r"
    }
   },
   "outputs": [],
   "source": [
    "# 读取未注释的数据\n",
    "seurat.data = qread(file = \"./Outdata/Cluster_no_annotion_End.qs\")"
   ]
  },
  {
   "cell_type": "code",
   "execution_count": null,
   "metadata": {
    "vscode": {
     "languageId": "r"
    }
   },
   "outputs": [],
   "source": [
    "check_genes = c(\n",
    "                \"Adgre1\",\"Fcgr1\",\"Cd68\", # 巨噬细胞\n",
    "                \"Cpa3\",\"Hpgds\",\"Ms4a2\", # 肥大细胞\n",
    "                \"Clec10a\",\"Clec4c\", #DC cells\n",
    "                \"Retnlg\",\"Fcer1g\",\"Cd14\",   # 髓系细胞 (Myeloid_cells)  需要进一步细分巨噬细胞、中性粒细胞\n",
    "                \"Col1a1\",\"Col1a2\",\"Dcn\",# 成纤维细胞 Fibroblast\n",
    "                \"Epcam\",\"Cdh1\",\"Krt18\",   # 上皮细胞 (Epithelial cells)\n",
    "                \"S100a9\", \"S100a8\",'Csf3r',\"Fcgr3b\", #\"Mki67\", #中性粒细胞\n",
    "                \"Cd79a\", \"Ms4a1\",\"Cd19\",\"Igkc\", #B细胞\n",
    "                \"Acta2\", \"Myh11\", #平滑肌细胞 Smooth muscle cells\n",
    "                \"Cd3d\",\"Cd3g\", #T细胞\n",
    "                \"Nkg7\",\"Gzma\",\"Ccl5\",   # NK细胞 (NK_cells)\n",
    "                \"Ppbp\",\"Gp1bb\", # Platelets\n",
    "                \"Cldn5\",\"Pecam1\",\"Ramp2\"   # 内皮细胞 (Endothelial cells)\n",
    ")\n",
    "\n",
    "\n",
    "DotPlot(object = seurat.data, features = check_genes, \n",
    "        assay = \"RNA\",scale = T) + coord_flip()"
   ]
  },
  {
   "cell_type": "code",
   "execution_count": null,
   "metadata": {
    "vscode": {
     "languageId": "r"
    }
   },
   "outputs": [],
   "source": [
    "###分配细胞名称\n",
    "celltype=data.frame(ClusterID=0:12,celltype='NA')\n",
    "\n",
    "## Neutrophils_c1\n",
    "celltype[celltype$ClusterID %in% c(0),2]='Macrophages_c0' #CRL\n",
    "\n",
    "## Macrophages\n",
    "celltype[celltype$ClusterID %in% c(1),2]='Macrophages_c1' #CRL\n",
    "\n",
    "## Macrophages_cells\n",
    "celltype[celltype$ClusterID %in% c(2),2]='Macrophages_c2' #CRL\n",
    "\n",
    "## B_cells\n",
    "celltype[celltype$ClusterID %in% c(3),2]='Macrophages_c3(Epi)' # 还有毒性T细胞 #CRL\n",
    "\n",
    "## Smooth muscle cells\n",
    "celltype[celltype$ClusterID %in% c(4),2]='Macrophages_c4' #CRL\n",
    "\n",
    "## Smooth muscle cells\n",
    "celltype[celltype$ClusterID %in% c(5),2]='Macrophages_c5' #CRL\n",
    "\n",
    "## Smooth muscle cells\n",
    "celltype[celltype$ClusterID %in% c(6),2]='Macrophages_c6' #CRL\n",
    "\n",
    "## Smooth muscle cells\n",
    "celltype[celltype$ClusterID %in% c(7),2]='Macrophages_c7(Neu)' #CRL\n",
    "\n",
    "## Smooth muscle cells\n",
    "celltype[celltype$ClusterID %in% c(8),2]='Macrophages_c8(NK/T)' #CRL\n",
    "\n",
    "## Smooth muscle cells\n",
    "celltype[celltype$ClusterID %in% c(9),2]='Macrophages_c9' #CRL\n",
    "\n",
    "## Smooth muscle cells\n",
    "celltype[celltype$ClusterID %in% c(10),2]='Macrophages_c10' #CRL\n",
    "\n",
    "## Smooth muscle cells\n",
    "celltype[celltype$ClusterID %in% c(11),2]='Macrophages_c11' #CRL\n",
    "\n",
    "## Smooth muscle cells\n",
    "celltype[celltype$ClusterID %in% c(12),2]='Macrophages_c12(Neu)' #CRL\n",
    "\n",
    "\n",
    "colnames(celltype) = c(\"ClusterID\",\"celltype_main\")\n",
    "seurat.data@meta.data$celltype = \"NA\"\n",
    "for(i in 1:nrow(celltype)){\n",
    "  seurat.data@meta.data[which(seurat.data@active.ident == celltype$ClusterID[i]),'celltype'] <- celltype$celltype[i]}\n",
    "table(seurat.data@meta.data$celltype)"
   ]
  },
  {
   "cell_type": "code",
   "execution_count": null,
   "metadata": {
    "vscode": {
     "languageId": "r"
    }
   },
   "outputs": [],
   "source": [
    "pdf(file=\"Sub_End_Umap_annotion_0.2.pdf\",width=12,height=10)\n",
    "DimPlot(seurat.data, reduction = \"umap\", group.by = \"celltype\", label = T)& NoAxes()\n",
    "dev.off()"
   ]
  },
  {
   "cell_type": "code",
   "execution_count": null,
   "metadata": {
    "vscode": {
     "languageId": "r"
    }
   },
   "outputs": [],
   "source": [
    "head(seurat.data@meta.data)\n",
    "Idents(seurat.data) <- seurat.data@meta.data$celltype\n",
    "table(seurat.data@meta.data$celltype)"
   ]
  },
  {
   "cell_type": "code",
   "execution_count": null,
   "metadata": {
    "vscode": {
     "languageId": "r"
    }
   },
   "outputs": [],
   "source": [
    "## 2.5 保存数据\n",
    "qsave(seurat.data, file = \"./Outdata/Sub_annotion.qs\")"
   ]
  },
  {
   "cell_type": "markdown",
   "metadata": {},
   "source": [
    "### 按照指定细胞类型顺序绘制Marker基因图"
   ]
  },
  {
   "cell_type": "code",
   "execution_count": null,
   "metadata": {
    "vscode": {
     "languageId": "r"
    }
   },
   "outputs": [],
   "source": [
    "# 按照指定顺序定义因子水平\n",
    "celltype_order <- c(\n",
    "  \"Macrophages_c0\",\n",
    "  \"Macrophages_c1\",\n",
    "  \"Macrophages_c2\",\n",
    "  \"Macrophages_c3(Epi)\",\n",
    "  \"Macrophages_c4\",\n",
    "  \"Macrophages_c5\",\n",
    "  \"Macrophages_c6\",\n",
    "  \"Macrophages_c7(Neu)\",\n",
    "  \"Macrophages_c8(NK/T)\",\n",
    "  \"Macrophages_c9\",\n",
    "  \"Macrophages_c10\",\n",
    "  \"Macrophages_c11\",\n",
    "  \"Macrophages_c12(Neu)\",\n",
    "  \"Macrophages_c13\"\n",
    ")\n",
    "# 确保 celltype 列为因子\n",
    "seurat.data$celltype <- factor(seurat.data$celltype, levels = celltype_order)\n",
    "\n",
    "# DotPlot\n",
    "p <- DotPlot(\n",
    "    seurat.data, \n",
    "    features = check_genes, \n",
    "    assay = \"RNA\", \n",
    "    scale = TRUE,\n",
    "    group.by = \"celltype\"\n",
    ") + \n",
    "  RotatedAxis() +  # 旋转 X 轴文字，推荐 Seurat 自带函数\n",
    "  theme(\n",
    "    axis.text.x = element_text(size = 16, angle = 45, hjust = 1),  # 横轴文字\n",
    "    axis.text.y = element_text(size = 16),                          # 纵轴文字\n",
    "    axis.title.x = element_blank(),  # 去掉X轴标题\n",
    "    axis.title.y = element_blank(),  # 去掉Y轴标题\n",
    "    legend.title = element_text(size = 16),\n",
    "    legend.text  = element_text(size = 16),\n",
    "    legend.key.size = unit(0.6, \"cm\")  # 图例符号大小\n",
    "  )\n",
    "\n",
    "# 保存\n",
    "pdf(file=\"Macro_reordered_easy.pdf\", width=14, height=8)\n",
    "print(p)\n",
    "dev.off()\n"
   ]
  },
  {
   "cell_type": "code",
   "execution_count": null,
   "metadata": {
    "vscode": {
     "languageId": "r"
    }
   },
   "outputs": [],
   "source": [
    "library(Seurat)\n",
    "library(ggplot2)\n",
    "\n",
    "pdf(file=\"Macro_0.5_easy.pdf\", width=12, height=8)\n",
    "\n",
    "p <- DimPlot(\n",
    "    seurat.data, \n",
    "    reduction = \"umap\", \n",
    "    group.by = \"celltype\", \n",
    "    label = TRUE, \n",
    "    label.size = 6\n",
    ") & \n",
    "  NoAxes() &  \n",
    "  theme(\n",
    "    legend.title   = element_text(size = 16),   # 图例标题\n",
    "    legend.text    = element_text(size = 16),   # 图例文字\n",
    "  )\n",
    "\n",
    "print(p)\n",
    "dev.off()"
   ]
  },
  {
   "cell_type": "markdown",
   "metadata": {},
   "source": [
    "## Marker基因可视化"
   ]
  },
  {
   "cell_type": "code",
   "execution_count": null,
   "metadata": {
    "vscode": {
     "languageId": "r"
    }
   },
   "outputs": [],
   "source": [
    "library(Seurat)\n",
    "library(dplyr)\n",
    "library(patchwork)\n",
    "# library(readr)\n",
    "library(ggplot2)\n",
    "#有云服务器的，可开启并运算，这里我用4个线程：\n",
    "library(future)\n",
    "library(qs)\n",
    "# check the current active plan\n",
    "plan()\n",
    "# change the current plan to access parallelization\n",
    "plan(\"multisession\", workers =40)\n",
    "plan()\n",
    "\n",
    "#设置可用的内存\n",
    "# options(future.globals.maxSize = 4 * 1024^3)\n",
    "plan(\"sequential\")\n",
    "future::plan()"
   ]
  },
  {
   "cell_type": "code",
   "execution_count": null,
   "metadata": {
    "vscode": {
     "languageId": "r"
    }
   },
   "outputs": [],
   "source": [
    "seurat.data=qread(file = \"./Outdata/Sub_annotion.qs\")"
   ]
  },
  {
   "cell_type": "code",
   "execution_count": null,
   "metadata": {
    "vscode": {
     "languageId": "r"
    }
   },
   "outputs": [],
   "source": [
    "seurat.data <- subset(seurat.data, subset = !grepl(\"\\\\(\", celltype))\n"
   ]
  },
  {
   "cell_type": "code",
   "execution_count": null,
   "metadata": {
    "vscode": {
     "languageId": "r"
    }
   },
   "outputs": [],
   "source": [
    "seurat.data  <- subset(seurat.data, subset = celltype %in% c(\"Macrophages_c2\", \"Macrophages_c9\", \"Macrophages_c10\"))"
   ]
  },
  {
   "cell_type": "code",
   "execution_count": null,
   "metadata": {
    "vscode": {
     "languageId": "r"
    }
   },
   "outputs": [],
   "source": [
    "levels(seurat.data)"
   ]
  },
  {
   "cell_type": "code",
   "execution_count": null,
   "metadata": {
    "vscode": {
     "languageId": "r"
    }
   },
   "outputs": [],
   "source": [
    "pdf(file=\"06.markerViolin_M1M2.pdf\",width=12,height=8)\n",
    "cluster10Marker=c(\"Cd86\",\"Nos2\",\"Cxcl9\",\"Cxcl10\",\"Cd163\",\"Arg1\",\"Mrc1\",\"Chil3\")\n",
    "DotPlot(object = seurat.data, features = cluster10Marker) + theme(\n",
    "    axis.text.x = element_text(size = 16, angle = 45, hjust = 1),  # 横轴文字\n",
    "    axis.text.y = element_text(size = 16),                          # 纵轴文字\n",
    "    axis.title.x = element_blank(),  # 去掉X轴标题\n",
    "    axis.title.y = element_blank(),  # 去掉Y轴标题\n",
    "    legend.title = element_text(size = 16),\n",
    "    legend.text  = element_text(size = 16),\n",
    "    legend.key.size = unit(0.8, \"cm\")  # 图例符号大小\n",
    "  )\n",
    "dev.off ()"
   ]
  },
  {
   "cell_type": "code",
   "execution_count": null,
   "metadata": {
    "vscode": {
     "languageId": "r"
    }
   },
   "outputs": [],
   "source": [
    "\n",
    "\n",
    "# # 绘制marker的小提琴图\n",
    "pdf(file=\"06.markerViolin.pdf\",width=12,height=8)\n",
    "VlnPlot(object = seurat.data, features = c(\"Clec4e\"),pt.size = 0)+\n",
    "# theme(text = element_text(size = 16))\n",
    "theme(\n",
    "    axis.text.x = element_text(size = 16),   # x 轴刻度字体\n",
    "    axis.text.y = element_text(size = 16),   # y 轴刻度字体\n",
    "    axis.title.x = element_text(size = 16),  # x 轴标题\n",
    "    axis.title.y = element_text(size = 16),  # y 轴标题\n",
    "    plot.title  = element_text(size = 16, hjust = 0.5), # 主标题\n",
    "    legend.text  = element_text(size = 16),\n",
    "    legend.key.size = unit(1.3, \"cm\")\n",
    "  )\n",
    "dev.off()\n"
   ]
  },
  {
   "cell_type": "code",
   "execution_count": null,
   "metadata": {
    "vscode": {
     "languageId": "r"
    }
   },
   "outputs": [],
   "source": [
    "\n",
    "\n",
    "#绘制marker在各个cluster的散点图\n",
    "pdf(file=\"06.markerScatter_cytokines.pdf\",width=15,height=8)\n",
    "FeaturePlot(object = seurat.data, features = c(\"Tlr2\",\"Cxcl2\",\"Lcn2\",\"Il1b\"),cols = c(\"gray\", \"red\"), label = T, ncol = 2,label.size = 6)& NoAxes()+\n",
    "theme(\n",
    "    # axis.text.x = element_text(size = 16),   # x 轴刻度字体\n",
    "    # axis.text.y = element_text(size = 16),   # y 轴刻度字体\n",
    "    # axis.title.x = element_text(size = 16),  # x 轴标题\n",
    "    # axis.title.y = element_text(size = 16),  # y 轴标题\n",
    "    plot.title  = element_text(size = 16, hjust = 0.5), # 主标题\n",
    "    legend.text  = element_text(size = 16),\n",
    "    legend.key.size = unit(1, \"cm\")\n",
    "  )\n",
    "dev.off()\n"
   ]
  },
  {
   "cell_type": "code",
   "execution_count": null,
   "metadata": {
    "vscode": {
     "languageId": "r"
    }
   },
   "outputs": [],
   "source": [
    "\n",
    "# #绘制marker在各个cluster的气泡图\n",
    "pdf(file=\"06.markerBubble.pdf\",width=12,height=6)\n",
    "cluster10Marker=c(\"Nos2\",\"Cxcl9\",\"Cxcl10\",\"Arg1\",\"Mrc1\",\"Chil3\")\n",
    "DotPlot(object = seurat.data, features = cluster10Marker) + theme(\n",
    "    axis.text.x = element_text(size = 16, angle = 45, hjust = 1),  # 横轴文字\n",
    "    axis.text.y = element_text(size = 16),                          # 纵轴文字\n",
    "    axis.title.x = element_blank(),  # 去掉X轴标题\n",
    "    axis.title.y = element_blank(),  # 去掉Y轴标题\n",
    "    legend.title = element_text(size = 16),\n",
    "    legend.text  = element_text(size = 16),\n",
    "    legend.key.size = unit(0.8, \"cm\")  # 图例符号大小\n",
    "  )\n",
    "dev.off()\n"
   ]
  },
  {
   "cell_type": "markdown",
   "metadata": {},
   "source": [
    "### 富集分析"
   ]
  },
  {
   "cell_type": "markdown",
   "metadata": {},
   "source": [
    "基因SYMBOL转GENE ID(富集的前提)"
   ]
  },
  {
   "cell_type": "code",
   "execution_count": null,
   "metadata": {
    "vscode": {
     "languageId": "r"
    }
   },
   "outputs": [],
   "source": [
    "# 重新加载数据\n",
    "load(\"Step6.celltype.markers.0.2_macro.Rdata\")"
   ]
  },
  {
   "cell_type": "code",
   "execution_count": null,
   "metadata": {
    "vscode": {
     "languageId": "r"
    }
   },
   "outputs": [],
   "source": [
    "##寻找差异表达的特征\n",
    "log2FCfilter=1 # 表示2的1次方，即相差两倍\n",
    "adjPvalFilter=0.05\n",
    "\n",
    "head(seurat.data.markers)"
   ]
  },
  {
   "cell_type": "code",
   "execution_count": null,
   "metadata": {
    "vscode": {
     "languageId": "r"
    }
   },
   "outputs": [],
   "source": [
    "sig.markers=seurat.data.markers[(abs(as.numeric(as.vector(seurat.data.markers$avg_log2FC)))>log2FCfilter & as.numeric(as.vector(seurat.data.markers$p_val_adj))<adjPvalFilter),]\n"
   ]
  },
  {
   "cell_type": "code",
   "execution_count": null,
   "metadata": {
    "vscode": {
     "languageId": "r"
    }
   },
   "outputs": [],
   "source": [
    "library(\"org.Mm.eg.db\")          #引用包小鼠\n",
    "# rt=read.table(\"symbol.txt\",sep=\"\\t\",check.names=F,header=T)    #读取文件\n",
    "genes=as.vector(sig.markers[,7])\n",
    "entrezIDs <- mget(genes, org.Mm.egSYMBOL2EG, ifnotfound=NA)    #找出基因对应的id\n",
    "entrezIDs <- as.character(entrezIDs)\n",
    "sig.markers_entrezIDs=cbind(sig.markers,entrezID=entrezIDs)\n",
    "write.table(sig.markers_entrezIDs,file=\"./shengxinzixue/id.txt\",sep=\"\\t\",quote=F,row.names=F)    #输出结果"
   ]
  },
  {
   "cell_type": "code",
   "execution_count": null,
   "metadata": {
    "vscode": {
     "languageId": "r"
    }
   },
   "outputs": [],
   "source": [
    "table(sig.markers_entrezIDs$cluster)"
   ]
  },
  {
   "cell_type": "markdown",
   "metadata": {},
   "source": [
    "### GO富集（Macrophages_c10类）"
   ]
  },
  {
   "cell_type": "code",
   "execution_count": null,
   "metadata": {
    "vscode": {
     "languageId": "r"
    }
   },
   "outputs": [],
   "source": [
    "### 选择cluster为0的亚群进行富集分析\n",
    "library(\"clusterProfiler\")"
   ]
  },
  {
   "cell_type": "code",
   "execution_count": null,
   "metadata": {
    "vscode": {
     "languageId": "r"
    }
   },
   "outputs": [],
   "source": [
    "sig.markers_entrezIDs <- subset(sig.markers_entrezIDs, cluster == \"Macrophages_c10\") \n",
    " \n",
    "sig.markers_entrezIDs=sig.markers_entrezIDs[is.na(sig.markers_entrezIDs[,\"entrezID\"])==F,]                                 #去除基因id为NA的基因\n",
    "gene=sig.markers_entrezIDs$entrezID\n",
    "\n",
    "#GO富集分析\n",
    "kk <- enrichGO(gene = gene,\n",
    "               OrgDb = org.Mm.eg.db, \n",
    "               pvalueCutoff =0.05, \n",
    "               qvalueCutoff = 0.05,\n",
    "               ont=\"all\",\n",
    "               readable =T)\n",
    "write.table(kk,file=\"./shengxinzixue/GO_c10.txt\",sep=\"\\t\",quote=F,row.names = F)                 #保存富集结果"
   ]
  },
  {
   "cell_type": "code",
   "execution_count": null,
   "metadata": {
    "vscode": {
     "languageId": "r"
    }
   },
   "outputs": [],
   "source": [
    "library(enrichplot)\n",
    "library(ggplot2)\n",
    "library(grid)  # 用于 unit()\n",
    "\n",
    "# 输出 PDF\n",
    "pdf(file=\"GO_barplot_c10.pdf\", width=8, height=12)\n",
    "\n",
    "# 绘图\n",
    "barplot(kk,\n",
    "        drop = TRUE,\n",
    "        showCategory = 5,  #控制柱子的数量\n",
    "        split = \"ONTOLOGY\") +\n",
    "  facet_grid(ONTOLOGY ~ ., scales = \"free\") +   # 注意是 scales = \"free\"\n",
    "  theme_minimal() +  # 可以换成 theme_bw() 或 theme_classic() 根据喜好\n",
    "  theme(\n",
    "    axis.text.x = element_text(color = \"black\", size = 16, angle = 45, hjust = 1), # x轴文字旋转更美观\n",
    "    axis.text.y = element_text(color = \"black\", size = 16),\n",
    "    axis.title = element_text(color = \"black\", size = 20),\n",
    "    strip.text.y = element_text(color = \"black\", size = 20),  # 分面标签\n",
    "    legend.text = element_text(size = 16),\n",
    "    legend.title = element_text(size = 16),\n",
    "    legend.key.size = unit(1, \"cm\")\n",
    "  )\n",
    "\n",
    "dev.off()\n"
   ]
  },
  {
   "cell_type": "code",
   "execution_count": null,
   "metadata": {
    "vscode": {
     "languageId": "r"
    }
   },
   "outputs": [],
   "source": [
    "pdf(file=\"GO_bubble_c10.pdf\", width = 8, height = 12)\n",
    "\n",
    "dotplot(kk, showCategory = 5, split = \"ONTOLOGY\") +\n",
    "  facet_grid(ONTOLOGY ~ ., scale = \"free\") +\n",
    "  theme(\n",
    "    axis.text.x = element_text(color = \"black\", size = 16),   # x轴文字\n",
    "    axis.text.y = element_text(color = \"black\", size = 16),   # y轴文字\n",
    "    strip.text.y = element_text(color = \"black\", size = 20),  # 分面标签\n",
    "    axis.title  = element_text(color = \"black\", size = 20),   # 坐标轴标题\n",
    "    legend.text = element_text(size = 16),                    # 图例文字\n",
    "    legend.title= element_text(size = 16),                    # 图例标题\n",
    "    legend.key.size = unit(1, \"cm\")                           # 图例方块大小\n",
    "  )\n",
    "\n",
    "dev.off()\n"
   ]
  },
  {
   "cell_type": "markdown",
   "metadata": {},
   "source": [
    "## KEGG (Macrophages_c2类)"
   ]
  },
  {
   "cell_type": "code",
   "execution_count": null,
   "metadata": {
    "vscode": {
     "languageId": "r"
    }
   },
   "outputs": [],
   "source": [
    "#kegg富集分析\n",
    "kk <- enrichKEGG(gene = gene,\n",
    "                 organism = \"mmu\",\n",
    "                 pvalueCutoff = 0.05,\n",
    "                 qvalueCutoff = 0.05)\n",
    "\n",
    "write.table(kk,file=\"./shengxinzixue/KEGGId_2.txt\",sep=\"\\t\",quote=F,row.names = F)                          #保存富集结果"
   ]
  },
  {
   "cell_type": "code",
   "execution_count": null,
   "metadata": {
    "vscode": {
     "languageId": "r"
    }
   },
   "outputs": [],
   "source": [
    "#柱状图\n",
    "pdf(file=\"KEGG_barplot_c2.pdf\",width = 10,height = 20)\n",
    "# options(repr.plot.width = 10, repr.plot.height = 15)\n",
    "barplot(kk, drop = TRUE, showCategory = 30) +\n",
    "  theme(\n",
    "    axis.text.x = element_text(color = \"black\", size = 16),  # x轴文字\n",
    "    axis.text.y = element_text(color = \"black\", size = 16),    # y轴文字\n",
    "    strip.text.y = element_text(color = \"black\", size = 20),  # 分面标签\n",
    "    axis.title = element_text(color = \"black\", size = 20) # 坐标轴标题\n",
    "  )+\n",
    "    theme(\n",
    "    legend.text = element_text(size = 16),   # 图例文字大小\n",
    "    legend.title = element_text(size = 16),  # 图例标题大小\n",
    "    legend.key.size = unit(1, \"cm\")          # 图例方块大小\n",
    "  )\n",
    "\n",
    "dev.off()\n",
    "\n"
   ]
  },
  {
   "cell_type": "code",
   "execution_count": null,
   "metadata": {
    "vscode": {
     "languageId": "r"
    }
   },
   "outputs": [],
   "source": [
    "pdf(file=\"KEGG_bubble_c2.pdf\", width = 10, height = 20)\n",
    "\n",
    "dotplot(kk, showCategory = 30) +\n",
    "  theme(\n",
    "    axis.text.x = element_text(color = \"black\", size = 16),   # x轴文字\n",
    "    axis.text.y = element_text(color = \"black\", size = 16),   # y轴文字\n",
    "    strip.text.y = element_text(color = \"black\", size = 20),  # 分面标签\n",
    "    axis.title  = element_text(color = \"black\", size = 20),   # 坐标轴标题\n",
    "    legend.text = element_text(size = 16),                    # 图例文字\n",
    "    legend.title= element_text(size = 16),                    # 图例标题\n",
    "    legend.key.size = unit(1, \"cm\")                           # 图例方块大小\n",
    "  )\n",
    "\n",
    "dev.off()\n"
   ]
  }
 ],
 "metadata": {
  "kernelspec": {
   "display_name": "R4.4.3",
   "language": "R",
   "name": "r4.4.3"
  },
  "language_info": {
   "codemirror_mode": "r",
   "file_extension": ".r",
   "mimetype": "text/x-r-source",
   "name": "R",
   "pygments_lexer": "r",
   "version": "4.4.3"
  }
 },
 "nbformat": 4,
 "nbformat_minor": 2
}
