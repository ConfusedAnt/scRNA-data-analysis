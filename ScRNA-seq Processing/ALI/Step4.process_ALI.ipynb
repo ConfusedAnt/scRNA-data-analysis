{
 "cells": [
  {
   "cell_type": "code",
   "execution_count": null,
   "metadata": {
    "vscode": {
     "languageId": "r"
    }
   },
   "outputs": [],
   "source": [
    "library(Seurat)\n",
    "library(dplyr)\n",
    "library(patchwork)\n",
    "# library(readr)\n",
    "library(ggplot2)\n",
    "#有云服务器的，可开启并运算，这里我用4个线程：\n",
    "library(future)\n",
    "library(qs)\n",
    "# check the current active plan\n",
    "plan()\n",
    "# change the current plan to access parallelization\n",
    "plan(\"multisession\", workers =40)\n",
    "plan()\n",
    "\n",
    "#设置可用的内存\n",
    "# options(future.globals.maxSize = 4 * 1024^3)\n",
    "plan(\"sequential\")\n",
    "future::plan()"
   ]
  },
  {
   "cell_type": "markdown",
   "metadata": {},
   "source": [
    "### 质量控制并确定变异基因"
   ]
  },
  {
   "cell_type": "code",
   "execution_count": null,
   "metadata": {
    "vscode": {
     "languageId": "r"
    }
   },
   "outputs": [],
   "source": [
    "# qread速度很快\n",
    "library(qs)\n",
    "system.time({\n",
    "    seurat.data = qread(file = \"../Outdata/Step1.RawCount_merged_seurat.qs\")\n",
    "           })"
   ]
  },
  {
   "cell_type": "code",
   "execution_count": null,
   "metadata": {
    "vscode": {
     "languageId": "r"
    }
   },
   "outputs": [],
   "source": [
    "## 只选择一部分数据\n",
    "seurat.data = subset(seurat.data, group %in% c(\"ALI\"))"
   ]
  },
  {
   "cell_type": "code",
   "execution_count": null,
   "metadata": {
    "vscode": {
     "languageId": "r"
    }
   },
   "outputs": [],
   "source": [
    "#使用PercentageFeatureSet函数计算线粒体基因的百分比\n",
    "seurat.data[[\"percent.mt\"]] <- PercentageFeatureSet(object = seurat.data, pattern = \"^mt-\")\n",
    "pdf(file=\"04.featureViolin.pdf\",width=10,height=6)           #保存基因特征小提琴图\n",
    "VlnPlot(object = seurat.data, features = c(\"nFeature_RNA\", \"nCount_RNA\", \"percent.mt\"), ncol = 3,group.by = \"group\")\n",
    "dev.off()\n",
    "seurat.data <- subset(x = seurat.data, subset = nFeature_RNA > 50 & percent.mt < 5)    #对数据进行过滤\n"
   ]
  },
  {
   "cell_type": "code",
   "execution_count": null,
   "metadata": {
    "vscode": {
     "languageId": "r"
    }
   },
   "outputs": [],
   "source": [
    "#测序深度的相关性绘图\n",
    "pdf(file=\"04.featureCor.pdf\",width=10,height=6)              #保存基因特征相关性图\n",
    "plot1 <- FeatureScatter(object = seurat.data, feature1 = \"nCount_RNA\", feature2 = \"percent.mt\",pt.size=1.5,group.by = \"group\")\n",
    "plot2 <- FeatureScatter(object = seurat.data, feature1 = \"nCount_RNA\", feature2 = \"nFeature_RNA\",,pt.size=1.5,group.by = \"group\")\n",
    "CombinePlots(plots = list(plot1, plot2))\n",
    "dev.off()\n"
   ]
  },
  {
   "cell_type": "code",
   "execution_count": null,
   "metadata": {
    "vscode": {
     "languageId": "r"
    }
   },
   "outputs": [],
   "source": [
    "#对数据进行标准化\n",
    "seurat.data <- NormalizeData(object = seurat.data, normalization.method = \"LogNormalize\", scale.factor = 10000)\n",
    "#提取那些在细胞间变异系数较大的基因\n",
    "seurat.data <- FindVariableFeatures(object = seurat.data, selection.method = \"vst\", nfeatures = 2000)\n",
    "\n"
   ]
  },
  {
   "cell_type": "code",
   "execution_count": null,
   "metadata": {
    "vscode": {
     "languageId": "r"
    }
   },
   "outputs": [],
   "source": [
    "#输出特征方差图\n",
    "top10 <- head(x = VariableFeatures(object = seurat.data), 10)\n",
    "pdf(file=\"04.featureVar.pdf\",width=10,height=6)              #保存基因特征方差图\n",
    "plot1 <- VariableFeaturePlot(object = seurat.data)\n",
    "plot2 <- LabelPoints(plot = plot1, points = top10, repel = TRUE)\n",
    "CombinePlots(plots = list(plot1, plot2))\n",
    "dev.off()"
   ]
  },
  {
   "cell_type": "code",
   "execution_count": null,
   "metadata": {
    "vscode": {
     "languageId": "r"
    }
   },
   "outputs": [],
   "source": [
    "pcSelect=20\n",
    "\n",
    "##PCA分析\n",
    "seurat.data=ScaleData(seurat.data)                     #PCA降维之前的标准预处理步骤\n",
    "seurat.data=RunPCA(object= seurat.data,npcs = pcSelect,pc.genes=VariableFeatures(object = seurat.data))     #PCA分析\n"
   ]
  },
  {
   "cell_type": "code",
   "execution_count": null,
   "metadata": {
    "vscode": {
     "languageId": "r"
    }
   },
   "outputs": [],
   "source": [
    "seurat.data = seurat.data %>% \n",
    "    RunUMAP(reduction = \"pca\", dims = 1:pcSelect, verbose = F)"
   ]
  },
  {
   "cell_type": "markdown",
   "metadata": {},
   "source": [
    "### 去批次"
   ]
  },
  {
   "cell_type": "code",
   "execution_count": null,
   "metadata": {
    "vscode": {
     "languageId": "r"
    }
   },
   "outputs": [],
   "source": [
    "### 3.2 检查批次\n",
    "options(repr.plot.width = 10, repr.plot.height = 4.5)\n",
    "p1.compare=wrap_plots(ncol = 2,\n",
    "                      DimPlot(seurat.data, reduction = \"pca\", group.by = \"sampleID\")+NoAxes()+ggtitle(\"Before_PCA\"),\n",
    "                      DimPlot(seurat.data, reduction = \"umap\", group.by = \"sampleID\")+NoAxes()+ggtitle(\"Before_UMAP\"),\n",
    "                      guides = \"collect\"\n",
    ")\n",
    "p1.compare"
   ]
  },
  {
   "cell_type": "code",
   "execution_count": null,
   "metadata": {
    "vscode": {
     "languageId": "r"
    }
   },
   "outputs": [],
   "source": [
    "### 4.1 RunHarmony 小样本运行比较快\n",
    "library(harmony)\n",
    "seurat.data <- seurat.data %>% RunHarmony(\"sampleID\", plot_convergence = T)"
   ]
  },
  {
   "cell_type": "code",
   "execution_count": null,
   "metadata": {
    "vscode": {
     "languageId": "r"
    }
   },
   "outputs": [],
   "source": [
    "### 去批次之后，还需要再RunUMAP一次更新harmony\n",
    "seurat.data <- seurat.data %>% \n",
    "  RunUMAP(reduction = \"harmony\", dims = 1:pcSelect, verbose = F)"
   ]
  },
  {
   "cell_type": "code",
   "execution_count": null,
   "metadata": {
    "vscode": {
     "languageId": "r"
    }
   },
   "outputs": [],
   "source": [
    "p2.compare=wrap_plots(ncol = 2,\n",
    "                      DimPlot(seurat.data, reduction = \"harmony\", group.by = \"sampleID\")+NoAxes()+ggtitle(\"After_PCA (harmony)\"),\n",
    "                      DimPlot(seurat.data, reduction = \"umap\", group.by = \"sampleID\")+NoAxes()+ggtitle(\"After_UMAP\"),\n",
    "                      guides = \"collect\"\n",
    ")\n",
    "# p2.compare\n",
    "\n",
    "options(repr.plot.width = 10, repr.plot.height = 9)\n",
    "wrap_plots(p1.compare, p2.compare, ncol = 1)\n"
   ]
  },
  {
   "cell_type": "code",
   "execution_count": null,
   "metadata": {
    "vscode": {
     "languageId": "r"
    }
   },
   "outputs": [],
   "source": [
    "pdf(file=\"after_hamrmony.pdf\",width=10,height=9)\n",
    "wrap_plots(p1.compare, p2.compare, ncol = 1)\n",
    "dev.off()"
   ]
  },
  {
   "cell_type": "markdown",
   "metadata": {},
   "source": [
    "### 找合适的resolution"
   ]
  },
  {
   "cell_type": "code",
   "execution_count": null,
   "metadata": {
    "vscode": {
     "languageId": "r"
    }
   },
   "outputs": [],
   "source": [
    "# 对比多种resolution的聚类结果\n",
    "seurat.data <- FindNeighbors(seurat.data, reduction = \"harmony\", dims = 1:pcSelect)\n",
    "for (res in c(0.05,0.1,0.2,0.3,0.5,0.8,1,1.2,1.4,1.5,2)){\n",
    "  print(res)\n",
    "  seurat.data <- FindClusters(seurat.data,resolution = res, algorithm = 1)\n",
    "}"
   ]
  },
  {
   "cell_type": "code",
   "execution_count": null,
   "metadata": {
    "vscode": {
     "languageId": "r"
    }
   },
   "outputs": [],
   "source": [
    "options(repr.plot.width = 20, repr.plot.height = 8)\n",
    "#umap可视化\n",
    "cluster_umap <- wrap_plots(ncol = 5,\n",
    "                           DimPlot(seurat.data, reduction = \"umap\", group.by = \"RNA_snn_res.0.05\", label = T) & NoAxes(),  \n",
    "                           DimPlot(seurat.data, reduction = \"umap\", group.by = \"RNA_snn_res.0.1\", label = T) & NoAxes(),\n",
    "                           DimPlot(seurat.data, reduction = \"umap\", group.by = \"RNA_snn_res.0.2\", label = T) & NoAxes(),\n",
    "                           DimPlot(seurat.data, reduction = \"umap\", group.by = \"RNA_snn_res.0.3\", label = T)& NoAxes(),\n",
    "                           DimPlot(seurat.data, reduction = \"umap\", group.by = \"RNA_snn_res.0.5\", label = T) & NoAxes(),\n",
    "                           DimPlot(seurat.data, reduction = \"umap\", group.by = \"RNA_snn_res.0.8\", label = T) & NoAxes(), \n",
    "                           DimPlot(seurat.data, reduction = \"umap\", group.by = \"RNA_snn_res.1\", label = T) & NoAxes(),\n",
    "                           DimPlot(seurat.data, reduction = \"umap\", group.by = \"RNA_snn_res.1.2\", label = T) & NoAxes(),\n",
    "                           DimPlot(seurat.data, reduction = \"umap\", group.by = \"RNA_snn_res.1.4\", label = T)& NoAxes(),\n",
    "                           DimPlot(seurat.data, reduction = \"umap\", group.by = \"RNA_snn_res.1.5\", label = T)& NoAxes()\n",
    ")\n",
    "cluster_umap"
   ]
  },
  {
   "cell_type": "code",
   "execution_count": null,
   "metadata": {
    "vscode": {
     "languageId": "r"
    }
   },
   "outputs": [],
   "source": [
    "Idents(seurat.data) <- seurat.data@meta.data$RNA_snn_res.1"
   ]
  },
  {
   "cell_type": "code",
   "execution_count": null,
   "metadata": {
    "vscode": {
     "languageId": "r"
    }
   },
   "outputs": [],
   "source": [
    "pdf(file=\"07.Umap_1.pdf\",width=6.5,height=6)\n",
    "# 默认用seurat_clusters列（最后一次聚类得到的列）\n",
    "DimPlot(seurat.data, reduction = \"umap\", label = TRUE) & NoAxes()\n",
    "dev.off()"
   ]
  },
  {
   "cell_type": "code",
   "execution_count": null,
   "metadata": {
    "vscode": {
     "languageId": "r"
    }
   },
   "outputs": [],
   "source": [
    "#qs速度快\n",
    "#install.packages('qs')\n",
    "library(qs)\n",
    "system.time({\n",
    "    qsave(seurat.data,file = \"./Outdata/Cluster_no_annotion.qs\") \n",
    "})"
   ]
  },
  {
   "cell_type": "markdown",
   "metadata": {},
   "source": [
    "### 主要细胞类型注释"
   ]
  },
  {
   "cell_type": "code",
   "execution_count": null,
   "metadata": {
    "vscode": {
     "languageId": "r"
    }
   },
   "outputs": [],
   "source": [
    "# 读取未注释的数据\n",
    "seurat.data = qread(file = \"./Outdata/Cluster_no_annotion.qs\")"
   ]
  },
  {
   "cell_type": "code",
   "execution_count": null,
   "metadata": {
    "vscode": {
     "languageId": "r"
    }
   },
   "outputs": [],
   "source": [
    "Idents(seurat.data) <- seurat.data@meta.data$RNA_snn_res.1\n",
    "\n",
    "options(repr.plot.width = 15, repr.plot.height = 8)\n",
    "\n",
    "check_genes = c(\n",
    "                \"Adgre1\",\"Fcgr1\",\"Cd68\", # 巨噬细胞\n",
    "                \"Cpa3\",\"Hpgds\",\"Ms4a2\", # 肥大细胞\n",
    "                \"Clec10a\",\"Clec4c\", #DC cells\n",
    "                \"Retnlg\",\"Fcer1g\",\"Cd14\",   # 髓系细胞 (Myeloid_cells)  需要进一步细分巨噬细胞、中性粒细胞\n",
    "                \"Col1a1\",\"Col1a2\",\"Dcn\",# 成纤维细胞 Fibroblast\n",
    "                \"Epcam\",\"Cdh1\",\"Krt18\",   # 上皮细胞 (Epithelial cells)\n",
    "                \"S100a9\", \"S100a8\",'Csf3r',\"Fcgr3b\", #\"Mki67\", #中性粒细胞\n",
    "                \"Cd79a\", \"Ms4a1\",\"Cd19\",\"Igkc\", #B细胞\n",
    "                \"Acta2\", \"Myh11\", #平滑肌细胞 Smooth muscle cells\n",
    "                \"Cd3d\",\"Cd3g\", #T细胞\n",
    "                \"Nkg7\",\"Gzma\",\"Ccl5\",   # NK细胞 (NK_cells)\n",
    "                \"Ppbp\",\"Gp1bb\", # Platelets\n",
    "                \"Cldn5\",\"Pecam1\",\"Ramp2\"   # 内皮细胞 (Endothelial cells)\n",
    ")\n",
    "\n",
    "\n",
    "DotPlot(object = seurat.data, features = check_genes, \n",
    "        assay = \"RNA\",scale = T) + coord_flip()"
   ]
  },
  {
   "cell_type": "code",
   "execution_count": null,
   "metadata": {
    "vscode": {
     "languageId": "r"
    }
   },
   "outputs": [],
   "source": [
    "check_genes = c(\n",
    "                \"Adgre1\",\"Fcgr1\",\"Cd68\", # 巨噬细胞\n",
    "                \"Cpa3\",\"Hpgds\",\"Ms4a2\", # 肥大细胞\n",
    "                \"Clec10a\",\"Clec4c\", #DC cells\n",
    "                \"Retnlg\",\"Fcer1g\",\"Cd14\",   # 髓系细胞 (Myeloid_cells)  需要进一步细分巨噬细胞、中性粒细胞\n",
    "                \"Col1a1\",\"Col1a2\",\"Dcn\",# 成纤维细胞 Fibroblast\n",
    "                \"Epcam\",\"Cdh1\",\"Krt18\",   # 上皮细胞 (Epithelial cells)\n",
    "                \"S100a9\", \"S100a8\",'Csf3r',\"Fcgr3b\", #\"Mki67\", #中性粒细胞\n",
    "                \"Cd79a\", \"Ms4a1\",\"Cd19\",\"Igkc\", #B细胞\n",
    "                \"Acta2\", \"Myh11\", #平滑肌细胞 Smooth muscle cells\n",
    "                \"Cd3d\",\"Cd3g\", #T细胞\n",
    "                \"Nkg7\",\"Gzma\",\"Ccl5\",   # NK细胞 (NK_cells)\n",
    "                \"Ppbp\",\"Gp1bb\", # Platelets\n",
    "                \"Cldn5\",\"Pecam1\",\"Ramp2\"   # 内皮细胞 (Endothelial cells)\n",
    ")\n",
    "\n",
    "###分配细胞名称\n",
    "celltype=data.frame(ClusterID=0:38,celltype='NA')\n",
    "\n",
    "## Neutrophils\n",
    "celltype[celltype$ClusterID %in% c(0,5,8,9,15,22,23),2]='Neutrophils' #CRL\n",
    "\n",
    "## Macrophage\n",
    "celltype[celltype$ClusterID %in% c(2,4,11,13,17,19,33),2]='Macrophage' #CRL\n",
    "\n",
    "# Myeloid_cells\n",
    "celltype[celltype$ClusterID %in% c(27),2]='Other Myeloid cells' #CRL\n",
    "\n",
    "## Fibroblast\n",
    "celltype[celltype$ClusterID %in% c(10,14,16,25),2]='Fibroblast' #CRL\n",
    "\n",
    "## Epithelial_cells\n",
    "celltype[celltype$ClusterID %in% c(24,28,29,31),2]='Epithelial cells' #CRL\n",
    "\n",
    "## B_cells\n",
    "celltype[celltype$ClusterID %in% c(6,20,30,34,36),2]='B cells' # \n",
    "\n",
    "## Smooth muscle cells\n",
    "celltype[celltype$ClusterID %in% c(26),2]='Smooth muscle cells' #CRL\n",
    "\n",
    "\n",
    "## T_cells\n",
    "celltype[celltype$ClusterID %in% c(3,21),2]='T cells'  #CRL\n",
    "\n",
    "## NK_cells\n",
    "celltype[celltype$ClusterID %in% c(1,18,38),2]='NK cells'  #CRL\n",
    "\n",
    "## Endothelial_cells\n",
    "celltype[celltype$ClusterID %in% c(7,12,35,37),2]='Endothelial cells' #CRL\n",
    "\n",
    "# Platelets\n",
    "celltype[celltype$ClusterID %in% c(32),2]='Platelets' #CRL\n",
    "\n",
    "\n",
    "\n",
    "\n",
    "colnames(celltype) = c(\"ClusterID\",\"celltype_main\")\n",
    "seurat.data@meta.data$celltype = \"NA\"\n",
    "for(i in 1:nrow(celltype)){\n",
    "  seurat.data@meta.data[which(seurat.data@active.ident == celltype$ClusterID[i]),'celltype'] <- celltype$celltype[i]}\n",
    "table(seurat.data@meta.data$celltype)"
   ]
  },
  {
   "cell_type": "code",
   "execution_count": null,
   "metadata": {
    "vscode": {
     "languageId": "r"
    }
   },
   "outputs": [],
   "source": [
    "pdf(file=\"09.Umap_annotion_1.pdf\",width=12,height=10)\n",
    "DimPlot(seurat.data, reduction = \"umap\", group.by = \"celltype\", label = T)& NoAxes()\n",
    "dev.off()"
   ]
  },
  {
   "cell_type": "code",
   "execution_count": null,
   "metadata": {
    "vscode": {
     "languageId": "r"
    }
   },
   "outputs": [],
   "source": [
    "head(seurat.data@meta.data)\n",
    "Idents(seurat.data) <- seurat.data@meta.data$celltype\n",
    "table(seurat.data@meta.data$celltype)"
   ]
  },
  {
   "cell_type": "code",
   "execution_count": null,
   "metadata": {
    "vscode": {
     "languageId": "r"
    }
   },
   "outputs": [],
   "source": [
    "## 2.5 保存数据\n",
    "qsave(seurat.data, file = \"./Outdata/Step3.Cluster_annotion.qs\")"
   ]
  },
  {
   "cell_type": "markdown",
   "metadata": {},
   "source": [
    "### 按照指定细胞类型顺序绘制Marker基因图"
   ]
  },
  {
   "cell_type": "code",
   "execution_count": null,
   "metadata": {
    "vscode": {
     "languageId": "r"
    }
   },
   "outputs": [],
   "source": [
    "seurat.data=qread(file = \"./Outdata/Step3.Cluster_annotion.qs\")"
   ]
  },
  {
   "cell_type": "code",
   "execution_count": null,
   "metadata": {
    "vscode": {
     "languageId": "r"
    }
   },
   "outputs": [],
   "source": [
    "table(seurat.data@meta.data$celltype)"
   ]
  },
  {
   "cell_type": "code",
   "execution_count": null,
   "metadata": {
    "vscode": {
     "languageId": "r"
    }
   },
   "outputs": [],
   "source": [
    "celltype_order <- c(\n",
    "  \"Endothelial cells\",\n",
    "  \"Platelets\",\n",
    "  \"NK cells\",\n",
    "  \"T cells\",\n",
    "  \"Smooth muscle cells\",\n",
    "  \"B cells\",\n",
    "  \"Neutrophils\",\n",
    "  \"Epithelial cells\",\n",
    "  \"Fibroblast\",\n",
    "  \"Macrophage\",\n",
    "  \"Other Myeloid cells\"\n",
    "\n",
    ")\n",
    "\n",
    "# 确保 celltype 列为因子\n",
    "seurat.data$celltype <- factor(seurat.data$celltype, levels = celltype_order)\n",
    "\n",
    "# DotPlot\n",
    "p <- DotPlot(\n",
    "    seurat.data, \n",
    "    features = check_genes, \n",
    "    assay = \"RNA\", \n",
    "    scale = TRUE,\n",
    "    group.by = \"celltype\"\n",
    ") + \n",
    "  coord_flip() +\n",
    "  theme(axis.text.x = element_text(angle = 45, hjust = 1))\n",
    "\n",
    "# 保存\n",
    "pdf(file=\"06.markerBubble.reordered.pdf\", width=10, height=10)\n",
    "print(p)\n",
    "dev.off()\n"
   ]
  }
 ],
 "metadata": {
  "kernelspec": {
   "display_name": "R",
   "language": "R",
   "name": "ir"
  },
  "language_info": {
   "codemirror_mode": "r",
   "file_extension": ".r",
   "mimetype": "text/x-r-source",
   "name": "R",
   "pygments_lexer": "r",
   "version": "4.4.3"
  }
 },
 "nbformat": 4,
 "nbformat_minor": 2
}
