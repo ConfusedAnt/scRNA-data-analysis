{
 "cells": [
  {
   "cell_type": "code",
   "execution_count": null,
   "id": "9cd147fb-3ac8-422b-8124-9037050123f8",
   "metadata": {
    "vscode": {
     "languageId": "r"
    }
   },
   "outputs": [],
   "source": [
    "library(Seurat) #seurat V5\n",
    "#推荐使用seurat V4\n",
    "library(dplyr)"
   ]
  },
  {
   "cell_type": "code",
   "execution_count": 3,
   "id": "8bec37f7",
   "metadata": {
    "vscode": {
     "languageId": "r"
    }
   },
   "outputs": [
    {
     "data": {
      "text/html": [
       "<pre class=language-r><code>structure(function (..., envir = parent.frame()) \n",
       "{\n",
       "<span style=white-space:pre-wrap>    if (!\"fiery\" %in% loadedNamespaces()) {</span>\n",
       "<span style=white-space:pre-wrap>        stop(\"The future::sequential() function must never be called directly\")</span>\n",
       "<span style=white-space:pre-wrap>    }</span>\n",
       "<span style=white-space:pre-wrap>    f &lt;- Future(..., envir = envir)</span>\n",
       "<span style=white-space:pre-wrap>    class(f) &lt;- c(\"SequentialFuture\", \"UniprocessFuture\", \"Future\")</span>\n",
       "<span style=white-space:pre-wrap>    f</span>\n",
       "}, class = c(\"FutureStrategy\", \"sequential\", \"uniprocess\", \"future\", \n",
       "\"function\"), init = TRUE, factory = structure(function (..., \n",
       "<span style=white-space:pre-wrap>    maxSizeOfObjects = +Inf) </span>\n",
       "{\n",
       "<span style=white-space:pre-wrap>    core &lt;- FutureBackend(..., maxSizeOfObjects = maxSizeOfObjects, </span>\n",
       "<span style=white-space:pre-wrap>        reg = \"sequential\")</span>\n",
       "<span style=white-space:pre-wrap>    core[[\"futureClasses\"]] &lt;- c(\"SequentialFuture\", \"UniprocessFuture\", </span>\n",
       "<span style=white-space:pre-wrap>        core[[\"futureClasses\"]])</span>\n",
       "<span style=white-space:pre-wrap>    core &lt;- structure(core, class = c(\"SequentialFutureBackend\", </span>\n",
       "<span style=white-space:pre-wrap>        class(core)))</span>\n",
       "<span style=white-space:pre-wrap>    core</span>\n",
       "}, tweakable = c(\"maxSizeOfObjects\", \"earlySignal\", \"gc\", \"interrupts\", \n",
       "\"hooks\")), tweakable = c(\"maxSizeOfObjects\", \"earlySignal\", \"gc\", \n",
       "\"interrupts\", \"hooks\"), call = plan(sequential))</code></pre>"
      ],
      "text/latex": [
       "\\begin{minted}{r}\n",
       "structure(function (..., envir = parent.frame()) \n",
       "\\{\n",
       "    if (!\"fiery\" \\%in\\% loadedNamespaces()) \\{\n",
       "        stop(\"The future::sequential() function must never be called directly\")\n",
       "    \\}\n",
       "    f <- Future(..., envir = envir)\n",
       "    class(f) <- c(\"SequentialFuture\", \"UniprocessFuture\", \"Future\")\n",
       "    f\n",
       "\\}, class = c(\"FutureStrategy\", \"sequential\", \"uniprocess\", \"future\", \n",
       "\"function\"), init = TRUE, factory = structure(function (..., \n",
       "    maxSizeOfObjects = +Inf) \n",
       "\\{\n",
       "    core <- FutureBackend(..., maxSizeOfObjects = maxSizeOfObjects, \n",
       "        reg = \"sequential\")\n",
       "    core{[}{[}\"futureClasses\"{]}{]} <- c(\"SequentialFuture\", \"UniprocessFuture\", \n",
       "        core{[}{[}\"futureClasses\"{]}{]})\n",
       "    core <- structure(core, class = c(\"SequentialFutureBackend\", \n",
       "        class(core)))\n",
       "    core\n",
       "\\}, tweakable = c(\"maxSizeOfObjects\", \"earlySignal\", \"gc\", \"interrupts\", \n",
       "\"hooks\")), tweakable = c(\"maxSizeOfObjects\", \"earlySignal\", \"gc\", \n",
       "\"interrupts\", \"hooks\"), call = plan(sequential))\n",
       "\\end{minted}"
      ],
      "text/markdown": [
       "```r\n",
       "structure(function (..., envir = parent.frame()) \n",
       "{\n",
       "    if (!\"fiery\" %in% loadedNamespaces()) {\n",
       "        stop(\"The future::sequential() function must never be called directly\")\n",
       "    }\n",
       "    f <- Future(..., envir = envir)\n",
       "    class(f) <- c(\"SequentialFuture\", \"UniprocessFuture\", \"Future\")\n",
       "    f\n",
       "}, class = c(\"FutureStrategy\", \"sequential\", \"uniprocess\", \"future\", \n",
       "\"function\"), init = TRUE, factory = structure(function (..., \n",
       "    maxSizeOfObjects = +Inf) \n",
       "{\n",
       "    core <- FutureBackend(..., maxSizeOfObjects = maxSizeOfObjects, \n",
       "        reg = \"sequential\")\n",
       "    core[[\"futureClasses\"]] <- c(\"SequentialFuture\", \"UniprocessFuture\", \n",
       "        core[[\"futureClasses\"]])\n",
       "    core <- structure(core, class = c(\"SequentialFutureBackend\", \n",
       "        class(core)))\n",
       "    core\n",
       "}, tweakable = c(\"maxSizeOfObjects\", \"earlySignal\", \"gc\", \"interrupts\", \n",
       "\"hooks\")), tweakable = c(\"maxSizeOfObjects\", \"earlySignal\", \"gc\", \n",
       "\"interrupts\", \"hooks\"), call = plan(sequential))\n",
       "```"
      ],
      "text/plain": [
       "sequential:\n",
       "- args: function (..., envir = parent.frame(), workers = \"<NULL>\")\n",
       "- tweaked: FALSE\n",
       "- call: plan(sequential)\n",
       "FutureBackend to be launched"
      ]
     },
     "metadata": {},
     "output_type": "display_data"
    },
    {
     "data": {
      "text/html": [
       "<pre class=language-r><code>structure(function (..., workers = 40) \n",
       "strategy(..., workers = workers), class = c(\"FutureStrategy\", \n",
       "\"tweaked\", \"multisession\", \"cluster\", \"multiprocess\", \"future\", \n",
       "\"function\"), init = \"done\", factory = structure(function (workers = availableCores(constraints = \"connections-16\"), \n",
       "<span style=white-space:pre-wrap>    rscript_libs = .libPaths(), interrupts = TRUE, gc = FALSE, </span>\n",
       "<span style=white-space:pre-wrap>    earlySignal = FALSE, ...) </span>\n",
       "{\n",
       "<span style=white-space:pre-wrap>    debug &lt;- isTRUE(getOption(\"future.debug\"))</span>\n",
       "<span style=white-space:pre-wrap>    if (debug) {</span>\n",
       "<span style=white-space:pre-wrap>        mdebugf_push(\"MultisessionFutureBackend(workers = &lt;workers&gt;, interrupts = %s, ...) ...\", </span>\n",
       "<span style=white-space:pre-wrap>            interrupts)</span>\n",
       "<span style=white-space:pre-wrap>        mdebug(\"Arguments:\")</span>\n",
       "<span style=white-space:pre-wrap>        mstr(list(workers = workers, rscript_libs = rscript_libs, </span>\n",
       "<span style=white-space:pre-wrap>            interrupts = interrupts, gc = gc, earlySignal = earlySignal, </span>\n",
       "<span style=white-space:pre-wrap>            ...))</span>\n",
       "<span style=white-space:pre-wrap>        on.exit(mdebugf_pop())</span>\n",
       "<span style=white-space:pre-wrap>    }</span>\n",
       "<span style=white-space:pre-wrap>    default_workers &lt;- missing(workers)</span>\n",
       "<span style=white-space:pre-wrap>    if (is.function(workers)) </span>\n",
       "<span style=white-space:pre-wrap>        workers &lt;- workers()</span>\n",
       "<span style=white-space:pre-wrap>    stop_if_not(is.numeric(workers))</span>\n",
       "<span style=white-space:pre-wrap>    workers &lt;- structure(as.integer(workers), class = class(workers))</span>\n",
       "<span style=white-space:pre-wrap>    stop_if_not(length(workers) == 1, is.finite(workers), workers &gt;= </span>\n",
       "<span style=white-space:pre-wrap>        1)</span>\n",
       "<span style=white-space:pre-wrap>    if (workers == 1L &amp;&amp; !inherits(workers, \"AsIs\")) {</span>\n",
       "<span style=white-space:pre-wrap>        if (default_workers) </span>\n",
       "<span style=white-space:pre-wrap>            supportsMulticore(warn = TRUE)</span>\n",
       "<span style=white-space:pre-wrap>        return(SequentialFutureBackend(...))</span>\n",
       "<span style=white-space:pre-wrap>    }</span>\n",
       "<span style=white-space:pre-wrap>    core &lt;- ClusterFutureBackend(workers = workers, rscript_libs = rscript_libs, </span>\n",
       "<span style=white-space:pre-wrap>        interrupts = interrupts, gc = gc, earlySignal = earlySignal, </span>\n",
       "<span style=white-space:pre-wrap>        ...)</span>\n",
       "<span style=white-space:pre-wrap>    core[[\"futureClasses\"]] &lt;- c(\"MultisessionFuture\", core[[\"futureClasses\"]])</span>\n",
       "<span style=white-space:pre-wrap>    core &lt;- structure(core, class = c(\"MultisessionFutureBackend\", </span>\n",
       "<span style=white-space:pre-wrap>        class(core)))</span>\n",
       "<span style=white-space:pre-wrap>    core</span>\n",
       "}, tweakable = c(\"workers\", \"rscript_libs\", \"interrupts\", \"gc\", \n",
       "\"earlySignal\", \"persistent\", \"wait.timeout\", \"wait.interval\", \n",
       "\"wait.alpha\", \"maxSizeOfObjects\", \"hooks\")), tweakable = c(\"workers\", \n",
       "\"rscript_libs\", \"interrupts\", \"gc\", \"earlySignal\", \"persistent\", \n",
       "\"wait.timeout\", \"wait.interval\", \"wait.alpha\", \"maxSizeOfObjects\", \n",
       "\"hooks\"), untweakable = \"persistent\", tweaks = list(workers = 40), call = plan(\"multisession\", \n",
       "<span style=white-space:pre-wrap>    workers = 40), backend = &lt;environment&gt;)</span></code></pre>"
      ],
      "text/latex": [
       "\\begin{minted}{r}\n",
       "structure(function (..., workers = 40) \n",
       "strategy(..., workers = workers), class = c(\"FutureStrategy\", \n",
       "\"tweaked\", \"multisession\", \"cluster\", \"multiprocess\", \"future\", \n",
       "\"function\"), init = \"done\", factory = structure(function (workers = availableCores(constraints = \"connections-16\"), \n",
       "    rscript\\_libs = .libPaths(), interrupts = TRUE, gc = FALSE, \n",
       "    earlySignal = FALSE, ...) \n",
       "\\{\n",
       "    debug <- isTRUE(getOption(\"future.debug\"))\n",
       "    if (debug) \\{\n",
       "        mdebugf\\_push(\"MultisessionFutureBackend(workers = <workers>, interrupts = \\%s, ...) ...\", \n",
       "            interrupts)\n",
       "        mdebug(\"Arguments:\")\n",
       "        mstr(list(workers = workers, rscript\\_libs = rscript\\_libs, \n",
       "            interrupts = interrupts, gc = gc, earlySignal = earlySignal, \n",
       "            ...))\n",
       "        on.exit(mdebugf\\_pop())\n",
       "    \\}\n",
       "    default\\_workers <- missing(workers)\n",
       "    if (is.function(workers)) \n",
       "        workers <- workers()\n",
       "    stop\\_if\\_not(is.numeric(workers))\n",
       "    workers <- structure(as.integer(workers), class = class(workers))\n",
       "    stop\\_if\\_not(length(workers) == 1, is.finite(workers), workers >= \n",
       "        1)\n",
       "    if (workers == 1L \\&\\& !inherits(workers, \"AsIs\")) \\{\n",
       "        if (default\\_workers) \n",
       "            supportsMulticore(warn = TRUE)\n",
       "        return(SequentialFutureBackend(...))\n",
       "    \\}\n",
       "    core <- ClusterFutureBackend(workers = workers, rscript\\_libs = rscript\\_libs, \n",
       "        interrupts = interrupts, gc = gc, earlySignal = earlySignal, \n",
       "        ...)\n",
       "    core{[}{[}\"futureClasses\"{]}{]} <- c(\"MultisessionFuture\", core{[}{[}\"futureClasses\"{]}{]})\n",
       "    core <- structure(core, class = c(\"MultisessionFutureBackend\", \n",
       "        class(core)))\n",
       "    core\n",
       "\\}, tweakable = c(\"workers\", \"rscript\\_libs\", \"interrupts\", \"gc\", \n",
       "\"earlySignal\", \"persistent\", \"wait.timeout\", \"wait.interval\", \n",
       "\"wait.alpha\", \"maxSizeOfObjects\", \"hooks\")), tweakable = c(\"workers\", \n",
       "\"rscript\\_libs\", \"interrupts\", \"gc\", \"earlySignal\", \"persistent\", \n",
       "\"wait.timeout\", \"wait.interval\", \"wait.alpha\", \"maxSizeOfObjects\", \n",
       "\"hooks\"), untweakable = \"persistent\", tweaks = list(workers = 40), call = plan(\"multisession\", \n",
       "    workers = 40), backend = <environment>)\n",
       "\\end{minted}"
      ],
      "text/markdown": [
       "```r\n",
       "structure(function (..., workers = 40) \n",
       "strategy(..., workers = workers), class = c(\"FutureStrategy\", \n",
       "\"tweaked\", \"multisession\", \"cluster\", \"multiprocess\", \"future\", \n",
       "\"function\"), init = \"done\", factory = structure(function (workers = availableCores(constraints = \"connections-16\"), \n",
       "    rscript_libs = .libPaths(), interrupts = TRUE, gc = FALSE, \n",
       "    earlySignal = FALSE, ...) \n",
       "{\n",
       "    debug <- isTRUE(getOption(\"future.debug\"))\n",
       "    if (debug) {\n",
       "        mdebugf_push(\"MultisessionFutureBackend(workers = <workers>, interrupts = %s, ...) ...\", \n",
       "            interrupts)\n",
       "        mdebug(\"Arguments:\")\n",
       "        mstr(list(workers = workers, rscript_libs = rscript_libs, \n",
       "            interrupts = interrupts, gc = gc, earlySignal = earlySignal, \n",
       "            ...))\n",
       "        on.exit(mdebugf_pop())\n",
       "    }\n",
       "    default_workers <- missing(workers)\n",
       "    if (is.function(workers)) \n",
       "        workers <- workers()\n",
       "    stop_if_not(is.numeric(workers))\n",
       "    workers <- structure(as.integer(workers), class = class(workers))\n",
       "    stop_if_not(length(workers) == 1, is.finite(workers), workers >= \n",
       "        1)\n",
       "    if (workers == 1L && !inherits(workers, \"AsIs\")) {\n",
       "        if (default_workers) \n",
       "            supportsMulticore(warn = TRUE)\n",
       "        return(SequentialFutureBackend(...))\n",
       "    }\n",
       "    core <- ClusterFutureBackend(workers = workers, rscript_libs = rscript_libs, \n",
       "        interrupts = interrupts, gc = gc, earlySignal = earlySignal, \n",
       "        ...)\n",
       "    core[[\"futureClasses\"]] <- c(\"MultisessionFuture\", core[[\"futureClasses\"]])\n",
       "    core <- structure(core, class = c(\"MultisessionFutureBackend\", \n",
       "        class(core)))\n",
       "    core\n",
       "}, tweakable = c(\"workers\", \"rscript_libs\", \"interrupts\", \"gc\", \n",
       "\"earlySignal\", \"persistent\", \"wait.timeout\", \"wait.interval\", \n",
       "\"wait.alpha\", \"maxSizeOfObjects\", \"hooks\")), tweakable = c(\"workers\", \n",
       "\"rscript_libs\", \"interrupts\", \"gc\", \"earlySignal\", \"persistent\", \n",
       "\"wait.timeout\", \"wait.interval\", \"wait.alpha\", \"maxSizeOfObjects\", \n",
       "\"hooks\"), untweakable = \"persistent\", tweaks = list(workers = 40), call = plan(\"multisession\", \n",
       "    workers = 40), backend = <environment>)\n",
       "```"
      ],
      "text/plain": [
       "multisession:\n",
       "- args: function (..., workers = 40)\n",
       "- tweaked: TRUE\n",
       "- call: plan(\"multisession\", workers = 40)\n",
       "MultisessionFutureBackend:\n",
       "Inherits: ClusterFutureBackend, MultiprocessFutureBackend, FutureBackend\n",
       "UUID: a7602c83d02f2a1a072664bbac781f38\n",
       "Number of workers: 40\n",
       "Number of free workers: 40\n",
       "Available cores: 80\n",
       "Automatic garbage collection: FALSE\n",
       "Early signaling: FALSE\n",
       "Interrupts are enabled: TRUE\n",
       "Maximum total size of globals: +Inf\n",
       "Maximum total size of value: +Inf\n",
       "Argument ‘rscript_libs’: \"/home/guoliming/micromamba/envs/R4.4_Seurat/lib/R/library\"\n",
       "Argument ‘persistent’: FALSE\n",
       "Argument ‘wait.timeout’: 86400\n",
       "Argument ‘wait.interval’: 0.01\n",
       "Argument ‘wait.alpha’: 1.01\n",
       "Argument ‘hooks’: FALSE\n",
       "Number of active futures: 0\n",
       "Number of futures since start: 0 (0 created, 0 launched, 0 finished)\n",
       "Total runtime of futures: 0 secs (NaN secs/finished future)\n",
       "Workers of type RichSOCKcluster:\n",
       "- Summary: Socket cluster with 40 nodes on host ‘localhost’ (R version 4.4.3 (2025-02-28), platform x86_64-conda-linux-gnu)\n",
       "- [ OK ] Node 1/40: valid connection, alive [RichSOCKnode of a socket cluster on local host 'localhost' with pid 56599 (R version 4.4.3 (2025-02-28), x86_64-conda-linux-gnu) using socket connection #5 ('<-localhost:11682')]\n",
       "- [ OK ] Node 2/40: valid connection, alive [RichSOCKnode of a socket cluster on local host 'localhost' with pid 56558 (R version 4.4.3 (2025-02-28), x86_64-conda-linux-gnu) using socket connection #6 ('<-localhost:11682')]\n",
       "- [ OK ] Node 3/40: valid connection, alive [RichSOCKnode of a socket cluster on local host 'localhost' with pid 56586 (R version 4.4.3 (2025-02-28), x86_64-conda-linux-gnu) using socket connection #7 ('<-localhost:11682')]\n",
       "- [ OK ] Node 4/40: valid connection, alive [RichSOCKnode of a socket cluster on local host 'localhost' with pid 56578 (R version 4.4.3 (2025-02-28), x86_64-conda-linux-gnu) using socket connection #8 ('<-localhost:11682')]\n",
       "- [ OK ] Node 5/40: valid connection, alive [RichSOCKnode of a socket cluster on local host 'localhost' with pid 56564 (R version 4.4.3 (2025-02-28), x86_64-conda-linux-gnu) using socket connection #9 ('<-localhost:11682')]\n",
       "- [ OK ] Node 6/40: valid connection, alive [RichSOCKnode of a socket cluster on local host 'localhost' with pid 56567 (R version 4.4.3 (2025-02-28), x86_64-conda-linux-gnu) using socket connection #10 ('<-localhost:11682')]\n",
       "- [ OK ] Node 7/40: valid connection, alive [RichSOCKnode of a socket cluster on local host 'localhost' with pid 56584 (R version 4.4.3 (2025-02-28), x86_64-conda-linux-gnu) using socket connection #11 ('<-localhost:11682')]\n",
       "- [ OK ] Node 8/40: valid connection, alive [RichSOCKnode of a socket cluster on local host 'localhost' with pid 56563 (R version 4.4.3 (2025-02-28), x86_64-conda-linux-gnu) using socket connection #12 ('<-localhost:11682')]\n",
       "- [ OK ] Node 9/40: valid connection, alive [RichSOCKnode of a socket cluster on local host 'localhost' with pid 56560 (R version 4.4.3 (2025-02-28), x86_64-conda-linux-gnu) using socket connection #13 ('<-localhost:11682')]\n",
       "- [ OK ] Node 10/40: valid connection, alive [RichSOCKnode of a socket cluster on local host 'localhost' with pid 56574 (R version 4.4.3 (2025-02-28), x86_64-conda-linux-gnu) using socket connection #14 ('<-localhost:11682')]\n",
       "- [ OK ] Node 11/40: valid connection, alive [RichSOCKnode of a socket cluster on local host 'localhost' with pid 56569 (R version 4.4.3 (2025-02-28), x86_64-conda-linux-gnu) using socket connection #15 ('<-localhost:11682')]\n",
       "- [ OK ] Node 12/40: valid connection, alive [RichSOCKnode of a socket cluster on local host 'localhost' with pid 56568 (R version 4.4.3 (2025-02-28), x86_64-conda-linux-gnu) using socket connection #16 ('<-localhost:11682')]\n",
       "- [ OK ] Node 13/40: valid connection, alive [RichSOCKnode of a socket cluster on local host 'localhost' with pid 56557 (R version 4.4.3 (2025-02-28), x86_64-conda-linux-gnu) using socket connection #17 ('<-localhost:11682')]\n",
       "- [ OK ] Node 14/40: valid connection, alive [RichSOCKnode of a socket cluster on local host 'localhost' with pid 56595 (R version 4.4.3 (2025-02-28), x86_64-conda-linux-gnu) using socket connection #18 ('<-localhost:11682')]\n",
       "- [ OK ] Node 15/40: valid connection, alive [RichSOCKnode of a socket cluster on local host 'localhost' with pid 56601 (R version 4.4.3 (2025-02-28), x86_64-conda-linux-gnu) using socket connection #19 ('<-localhost:11682')]\n",
       "- [ OK ] Node 16/40: valid connection, alive [RichSOCKnode of a socket cluster on local host 'localhost' with pid 56597 (R version 4.4.3 (2025-02-28), x86_64-conda-linux-gnu) using socket connection #21 ('<-localhost:11682')]\n",
       "- [ OK ] Node 17/40: valid connection, alive [RichSOCKnode of a socket cluster on local host 'localhost' with pid 56579 (R version 4.4.3 (2025-02-28), x86_64-conda-linux-gnu) using socket connection #20 ('<-localhost:11682')]\n",
       "- [ OK ] Node 18/40: valid connection, alive [RichSOCKnode of a socket cluster on local host 'localhost' with pid 56602 (R version 4.4.3 (2025-02-28), x86_64-conda-linux-gnu) using socket connection #22 ('<-localhost:11682')]\n",
       "- [ OK ] Node 19/40: valid connection, alive [RichSOCKnode of a socket cluster on local host 'localhost' with pid 56572 (R version 4.4.3 (2025-02-28), x86_64-conda-linux-gnu) using socket connection #23 ('<-localhost:11682')]\n",
       "- [ OK ] Node 20/40: valid connection, alive [RichSOCKnode of a socket cluster on local host 'localhost' with pid 56570 (R version 4.4.3 (2025-02-28), x86_64-conda-linux-gnu) using socket connection #24 ('<-localhost:11682')]\n",
       "- [ OK ] Node 21/40: valid connection, alive [RichSOCKnode of a socket cluster on local host 'localhost' with pid 56561 (R version 4.4.3 (2025-02-28), x86_64-conda-linux-gnu) using socket connection #25 ('<-localhost:11682')]\n",
       "- [ OK ] Node 22/40: valid connection, alive [RichSOCKnode of a socket cluster on local host 'localhost' with pid 56571 (R version 4.4.3 (2025-02-28), x86_64-conda-linux-gnu) using socket connection #26 ('<-localhost:11682')]\n",
       "- [ OK ] Node 23/40: valid connection, alive [RichSOCKnode of a socket cluster on local host 'localhost' with pid 56604 (R version 4.4.3 (2025-02-28), x86_64-conda-linux-gnu) using socket connection #27 ('<-localhost:11682')]\n",
       "- [ OK ] Node 24/40: valid connection, alive [RichSOCKnode of a socket cluster on local host 'localhost' with pid 56559 (R version 4.4.3 (2025-02-28), x86_64-conda-linux-gnu) using socket connection #28 ('<-localhost:11682')]\n",
       "- [ OK ] Node 25/40: valid connection, alive [RichSOCKnode of a socket cluster on local host 'localhost' with pid 56577 (R version 4.4.3 (2025-02-28), x86_64-conda-linux-gnu) using socket connection #29 ('<-localhost:11682')]\n",
       "- [ OK ] Node 26/40: valid connection, alive [RichSOCKnode of a socket cluster on local host 'localhost' with pid 56581 (R version 4.4.3 (2025-02-28), x86_64-conda-linux-gnu) using socket connection #32 ('<-localhost:11682')]\n",
       "- [ OK ] Node 27/40: valid connection, alive [RichSOCKnode of a socket cluster on local host 'localhost' with pid 56565 (R version 4.4.3 (2025-02-28), x86_64-conda-linux-gnu) using socket connection #30 ('<-localhost:11682')]\n",
       "- [ OK ] Node 28/40: valid connection, alive [RichSOCKnode of a socket cluster on local host 'localhost' with pid 56576 (R version 4.4.3 (2025-02-28), x86_64-conda-linux-gnu) using socket connection #31 ('<-localhost:11682')]\n",
       "- [ OK ] Node 29/40: valid connection, alive [RichSOCKnode of a socket cluster on local host 'localhost' with pid 56580 (R version 4.4.3 (2025-02-28), x86_64-conda-linux-gnu) using socket connection #33 ('<-localhost:11682')]\n",
       "- [ OK ] Node 30/40: valid connection, alive [RichSOCKnode of a socket cluster on local host 'localhost' with pid 56575 (R version 4.4.3 (2025-02-28), x86_64-conda-linux-gnu) using socket connection #34 ('<-localhost:11682')]\n",
       "- [ OK ] Node 31/40: valid connection, alive [RichSOCKnode of a socket cluster on local host 'localhost' with pid 56585 (R version 4.4.3 (2025-02-28), x86_64-conda-linux-gnu) using socket connection #36 ('<-localhost:11682')]\n",
       "- [ OK ] Node 32/40: valid connection, alive [RichSOCKnode of a socket cluster on local host 'localhost' with pid 56596 (R version 4.4.3 (2025-02-28), x86_64-conda-linux-gnu) using socket connection #35 ('<-localhost:11682')]\n",
       "- [ OK ] Node 33/40: valid connection, alive [RichSOCKnode of a socket cluster on local host 'localhost' with pid 56582 (R version 4.4.3 (2025-02-28), x86_64-conda-linux-gnu) using socket connection #37 ('<-localhost:11682')]\n",
       "- [ OK ] Node 34/40: valid connection, alive [RichSOCKnode of a socket cluster on local host 'localhost' with pid 56587 (R version 4.4.3 (2025-02-28), x86_64-conda-linux-gnu) using socket connection #38 ('<-localhost:11682')]\n",
       "- [ OK ] Node 35/40: valid connection, alive [RichSOCKnode of a socket cluster on local host 'localhost' with pid 56583 (R version 4.4.3 (2025-02-28), x86_64-conda-linux-gnu) using socket connection #39 ('<-localhost:11682')]\n",
       "- [ OK ] Node 36/40: valid connection, alive [RichSOCKnode of a socket cluster on local host 'localhost' with pid 56562 (R version 4.4.3 (2025-02-28), x86_64-conda-linux-gnu) using socket connection #40 ('<-localhost:11682')]\n",
       "- [ OK ] Node 37/40: valid connection, alive [RichSOCKnode of a socket cluster on local host 'localhost' with pid 56603 (R version 4.4.3 (2025-02-28), x86_64-conda-linux-gnu) using socket connection #41 ('<-localhost:11682')]\n",
       "- [ OK ] Node 38/40: valid connection, alive [RichSOCKnode of a socket cluster on local host 'localhost' with pid 56566 (R version 4.4.3 (2025-02-28), x86_64-conda-linux-gnu) using socket connection #42 ('<-localhost:11682')]\n",
       "- [ OK ] Node 39/40: valid connection, alive [RichSOCKnode of a socket cluster on local host 'localhost' with pid 56591 (R version 4.4.3 (2025-02-28), x86_64-conda-linux-gnu) using socket connection #43 ('<-localhost:11682')]\n",
       "- [ OK ] Node 40/40: valid connection, alive [RichSOCKnode of a socket cluster on local host 'localhost' with pid 56598 (R version 4.4.3 (2025-02-28), x86_64-conda-linux-gnu) using socket connection #44 ('<-localhost:11682')]"
      ]
     },
     "metadata": {},
     "output_type": "display_data"
    }
   ],
   "source": [
    "#有云服务器的，可开启并运算，这里我用4个线程：\n",
    "library(future)\n",
    "library(qs)\n",
    "# check the current active plan\n",
    "plan()\n",
    "# change the current plan to access parallelization\n",
    "plan(\"multisession\", workers =40)\n",
    "plan()\n",
    "\n",
    "#设置可用的内存\n",
    "# options(future.globals.maxSize = 4 * 1024^3)\n",
    "plan(\"sequential\")"
   ]
  },
  {
   "cell_type": "markdown",
   "id": "193f0119-42cd-4877-9abb-99359c6f881d",
   "metadata": {},
   "source": [
    "## 1.1 lappy循环依次读入数据"
   ]
  },
  {
   "cell_type": "code",
   "execution_count": 4,
   "id": "13fdfdc9-93fd-4499-9cc7-79e3e469e8f5",
   "metadata": {
    "vscode": {
     "languageId": "r"
    }
   },
   "outputs": [
    {
     "data": {
      "text/html": [
       "<style>\n",
       ".list-inline {list-style: none; margin:0; padding: 0}\n",
       ".list-inline>li {display: inline-block}\n",
       ".list-inline>li:not(:last-child)::after {content: \"\\00b7\"; padding: 0 .5ex}\n",
       "</style>\n",
       "<ol class=list-inline><li>'GSM8504078'</li><li>'GSM8504079'</li><li>'GSM8504080'</li><li>'GSM8504081'</li><li>'GSM8504082'</li><li>'GSM8504083'</li><li>'GSM8863170'</li><li>'GSM8863172'</li></ol>\n"
      ],
      "text/latex": [
       "\\begin{enumerate*}\n",
       "\\item 'GSM8504078'\n",
       "\\item 'GSM8504079'\n",
       "\\item 'GSM8504080'\n",
       "\\item 'GSM8504081'\n",
       "\\item 'GSM8504082'\n",
       "\\item 'GSM8504083'\n",
       "\\item 'GSM8863170'\n",
       "\\item 'GSM8863172'\n",
       "\\end{enumerate*}\n"
      ],
      "text/markdown": [
       "1. 'GSM8504078'\n",
       "2. 'GSM8504079'\n",
       "3. 'GSM8504080'\n",
       "4. 'GSM8504081'\n",
       "5. 'GSM8504082'\n",
       "6. 'GSM8504083'\n",
       "7. 'GSM8863170'\n",
       "8. 'GSM8863172'\n",
       "\n",
       "\n"
      ],
      "text/plain": [
       "[1] \"GSM8504078\" \"GSM8504079\" \"GSM8504080\" \"GSM8504081\" \"GSM8504082\"\n",
       "[6] \"GSM8504083\" \"GSM8863170\" \"GSM8863172\""
      ]
     },
     "metadata": {},
     "output_type": "display_data"
    }
   ],
   "source": [
    "## 1.1 lappy循环依次读入数据\n",
    "# Create each individual Seurat object for every sample\n",
    "fileID = list.files(\"./1.10X_files/matrix/\")\n",
    "path = \"./1.10X_files/matrix/\"\n",
    "fileID"
   ]
  },
  {
   "cell_type": "code",
   "execution_count": 5,
   "id": "644d481a-c49d-400d-8013-b0cbbdd4ef70",
   "metadata": {
    "vscode": {
     "languageId": "r"
    }
   },
   "outputs": [],
   "source": [
    "# 运行lapply函数读入数据\n",
    "seurat.list = lapply(fileID, function(file){\n",
    "  seurat_data <- Read10X(data.dir = paste0(path, file))\n",
    "  seurat_obj <- CreateSeuratObject(counts = seurat_data,\n",
    "                                   min.cells = 0,\n",
    "                                   min.features = 0,\n",
    "                                   project = file)\n",
    "  return(seurat_obj)\n",
    "})"
   ]
  },
  {
   "cell_type": "code",
   "execution_count": null,
   "id": "27a66932-3994-461f-9ec7-6d32b7ab7a12",
   "metadata": {
    "vscode": {
     "languageId": "r"
    }
   },
   "outputs": [],
   "source": [
    "names(seurat.list) = fileID\n",
    "seurat.list"
   ]
  },
  {
   "cell_type": "markdown",
   "id": "1ccad4d1-1d0d-4de1-959c-7ca3dbb74c0d",
   "metadata": {},
   "source": [
    "## 1.2 merge多个seurat对象"
   ]
  },
  {
   "cell_type": "code",
   "execution_count": null,
   "id": "572e23dd-3525-4566-9458-abcb0d8a160e",
   "metadata": {
    "vscode": {
     "languageId": "r"
    }
   },
   "outputs": [],
   "source": [
    "## 1.2 merge多个seurat对象\n",
    "# Create a merged Seurat object\n",
    "merged_seurat <- merge(x = seurat.list[[1]],\n",
    "                       y = seurat.list[-1],\n",
    "                       add.cell.id = fileID)\n",
    "merged_seurat "
   ]
  },
  {
   "cell_type": "markdown",
   "id": "90ed3fc7-9d01-4480-945b-0b6e3579389a",
   "metadata": {},
   "source": [
    "## 1.3 表型数据载入"
   ]
  },
  {
   "cell_type": "code",
   "execution_count": 10,
   "id": "3f13aedb-bb6d-411e-988a-2b623873bade",
   "metadata": {
    "vscode": {
     "languageId": "r"
    }
   },
   "outputs": [],
   "source": [
    "## 1.3 表型数据载入\n",
    "merged_seurat$sampleID = merged_seurat$orig.ident\n",
    "\n",
    "# 根据样本信息重命名编组\n",
    "merged_seurat$group <- recode(merged_seurat$sampleID,\n",
    "                              \"GSM8504078\" = \"CRL\",\n",
    "                              \"GSM8504079\" = \"CRL\",\n",
    "                              \"GSM8504080\" = \"CRL\",\n",
    "                              \"GSM8863170\" = \"CRL\",\n",
    "                              \"GSM8504081\" = \"ALI\",\n",
    "                              \"GSM8504082\" = \"ALI\",\n",
    "                              \"GSM8504083\" = \"ALI\",\n",
    "                              \"GSM8863172\" = \"ALI\"\n",
    "                              )\n",
    "\n",
    "# 'GSM8504078''GSM8504079''GSM8504080''GSM8504081''GSM8504082''GSM8504083''GSM8863170''GSM8863172'"
   ]
  },
  {
   "cell_type": "code",
   "execution_count": 11,
   "id": "3d1dfe7a-0b99-4953-be88-98662c0ede1b",
   "metadata": {
    "vscode": {
     "languageId": "r"
    }
   },
   "outputs": [
    {
     "data": {
      "text/html": [
       "<table class=\"dataframe\">\n",
       "<caption>A data.frame: 6 × 5</caption>\n",
       "<thead>\n",
       "\t<tr><th></th><th scope=col>orig.ident</th><th scope=col>nCount_RNA</th><th scope=col>nFeature_RNA</th><th scope=col>sampleID</th><th scope=col>group</th></tr>\n",
       "\t<tr><th></th><th scope=col>&lt;chr&gt;</th><th scope=col>&lt;dbl&gt;</th><th scope=col>&lt;int&gt;</th><th scope=col>&lt;chr&gt;</th><th scope=col>&lt;chr&gt;</th></tr>\n",
       "</thead>\n",
       "<tbody>\n",
       "\t<tr><th scope=row>GSM8504078_AAACCCAAGATTGAGT-1</th><td>GSM8504078</td><td>61497</td><td>5735</td><td>GSM8504078</td><td>CRL</td></tr>\n",
       "\t<tr><th scope=row>GSM8504078_AAACCCAAGCAACAGC-1</th><td>GSM8504078</td><td> 3146</td><td>1076</td><td>GSM8504078</td><td>CRL</td></tr>\n",
       "\t<tr><th scope=row>GSM8504078_AAACCCACATGTTTGG-1</th><td>GSM8504078</td><td>  546</td><td> 338</td><td>GSM8504078</td><td>CRL</td></tr>\n",
       "\t<tr><th scope=row>GSM8504078_AAACCCAGTAGATCCT-1</th><td>GSM8504078</td><td> 2981</td><td>1158</td><td>GSM8504078</td><td>CRL</td></tr>\n",
       "\t<tr><th scope=row>GSM8504078_AAACCCAGTATCGTGT-1</th><td>GSM8504078</td><td> 1637</td><td> 744</td><td>GSM8504078</td><td>CRL</td></tr>\n",
       "\t<tr><th scope=row>GSM8504078_AAACCCAGTGAGCGAT-1</th><td>GSM8504078</td><td> 5476</td><td>1910</td><td>GSM8504078</td><td>CRL</td></tr>\n",
       "</tbody>\n",
       "</table>\n"
      ],
      "text/latex": [
       "A data.frame: 6 × 5\n",
       "\\begin{tabular}{r|lllll}\n",
       "  & orig.ident & nCount\\_RNA & nFeature\\_RNA & sampleID & group\\\\\n",
       "  & <chr> & <dbl> & <int> & <chr> & <chr>\\\\\n",
       "\\hline\n",
       "\tGSM8504078\\_AAACCCAAGATTGAGT-1 & GSM8504078 & 61497 & 5735 & GSM8504078 & CRL\\\\\n",
       "\tGSM8504078\\_AAACCCAAGCAACAGC-1 & GSM8504078 &  3146 & 1076 & GSM8504078 & CRL\\\\\n",
       "\tGSM8504078\\_AAACCCACATGTTTGG-1 & GSM8504078 &   546 &  338 & GSM8504078 & CRL\\\\\n",
       "\tGSM8504078\\_AAACCCAGTAGATCCT-1 & GSM8504078 &  2981 & 1158 & GSM8504078 & CRL\\\\\n",
       "\tGSM8504078\\_AAACCCAGTATCGTGT-1 & GSM8504078 &  1637 &  744 & GSM8504078 & CRL\\\\\n",
       "\tGSM8504078\\_AAACCCAGTGAGCGAT-1 & GSM8504078 &  5476 & 1910 & GSM8504078 & CRL\\\\\n",
       "\\end{tabular}\n"
      ],
      "text/markdown": [
       "\n",
       "A data.frame: 6 × 5\n",
       "\n",
       "| <!--/--> | orig.ident &lt;chr&gt; | nCount_RNA &lt;dbl&gt; | nFeature_RNA &lt;int&gt; | sampleID &lt;chr&gt; | group &lt;chr&gt; |\n",
       "|---|---|---|---|---|---|\n",
       "| GSM8504078_AAACCCAAGATTGAGT-1 | GSM8504078 | 61497 | 5735 | GSM8504078 | CRL |\n",
       "| GSM8504078_AAACCCAAGCAACAGC-1 | GSM8504078 |  3146 | 1076 | GSM8504078 | CRL |\n",
       "| GSM8504078_AAACCCACATGTTTGG-1 | GSM8504078 |   546 |  338 | GSM8504078 | CRL |\n",
       "| GSM8504078_AAACCCAGTAGATCCT-1 | GSM8504078 |  2981 | 1158 | GSM8504078 | CRL |\n",
       "| GSM8504078_AAACCCAGTATCGTGT-1 | GSM8504078 |  1637 |  744 | GSM8504078 | CRL |\n",
       "| GSM8504078_AAACCCAGTGAGCGAT-1 | GSM8504078 |  5476 | 1910 | GSM8504078 | CRL |\n",
       "\n"
      ],
      "text/plain": [
       "                              orig.ident nCount_RNA nFeature_RNA sampleID  \n",
       "GSM8504078_AAACCCAAGATTGAGT-1 GSM8504078 61497      5735         GSM8504078\n",
       "GSM8504078_AAACCCAAGCAACAGC-1 GSM8504078  3146      1076         GSM8504078\n",
       "GSM8504078_AAACCCACATGTTTGG-1 GSM8504078   546       338         GSM8504078\n",
       "GSM8504078_AAACCCAGTAGATCCT-1 GSM8504078  2981      1158         GSM8504078\n",
       "GSM8504078_AAACCCAGTATCGTGT-1 GSM8504078  1637       744         GSM8504078\n",
       "GSM8504078_AAACCCAGTGAGCGAT-1 GSM8504078  5476      1910         GSM8504078\n",
       "                              group\n",
       "GSM8504078_AAACCCAAGATTGAGT-1 CRL  \n",
       "GSM8504078_AAACCCAAGCAACAGC-1 CRL  \n",
       "GSM8504078_AAACCCACATGTTTGG-1 CRL  \n",
       "GSM8504078_AAACCCAGTAGATCCT-1 CRL  \n",
       "GSM8504078_AAACCCAGTATCGTGT-1 CRL  \n",
       "GSM8504078_AAACCCAGTGAGCGAT-1 CRL  "
      ]
     },
     "metadata": {},
     "output_type": "display_data"
    }
   ],
   "source": [
    "head(merged_seurat@meta.data)"
   ]
  },
  {
   "cell_type": "markdown",
   "id": "e3c08aff-2cb6-4c98-bff7-f1d33fa4ae81",
   "metadata": {},
   "source": [
    "## 1.4 保存一下"
   ]
  },
  {
   "cell_type": "markdown",
   "id": "4f732d6c-b333-4226-8fd7-16bbb85ef155",
   "metadata": {},
   "source": [
    "#### （1）数据保存"
   ]
  },
  {
   "cell_type": "code",
   "execution_count": 12,
   "id": "c4639eef-5b28-4140-a3fb-1bc7812c0aac",
   "metadata": {
    "vscode": {
     "languageId": "r"
    }
   },
   "outputs": [
    {
     "data": {
      "text/plain": [
       "   user  system elapsed \n",
       " 22.425   3.674  26.593 "
      ]
     },
     "metadata": {},
     "output_type": "display_data"
    }
   ],
   "source": [
    "#qs速度快\n",
    "#install.packages('qs')\n",
    "library(qs)\n",
    "system.time({\n",
    "    qsave(merged_seurat,file = \"./Outdata/Step1.RawCount_merged_seurat.qs\") \n",
    "})"
   ]
  },
  {
   "cell_type": "markdown",
   "id": "6b98e231-ea6c-4f3d-ba7c-183f0863ca7e",
   "metadata": {},
   "source": [
    "#### （2）数据读取"
   ]
  },
  {
   "cell_type": "code",
   "execution_count": 13,
   "id": "fcea76c9-55d2-4b9d-b0ed-85f604fde853",
   "metadata": {
    "vscode": {
     "languageId": "r"
    }
   },
   "outputs": [
    {
     "data": {
      "text/plain": [
       "   user  system elapsed \n",
       "  7.400   3.760  11.226 "
      ]
     },
     "metadata": {},
     "output_type": "display_data"
    }
   ],
   "source": [
    "# qread速度很快\n",
    "library(qs)\n",
    "system.time({\n",
    "    input.data = qread(file = \"./Outdata/Step1.RawCount_merged_seurat.qs\")\n",
    "           })"
   ]
  },
  {
   "cell_type": "code",
   "execution_count": null,
   "id": "3fd22896-f7a4-4bce-b419-8e82771c9eb1",
   "metadata": {
    "vscode": {
     "languageId": "r"
    }
   },
   "outputs": [],
   "source": [
    "### End"
   ]
  }
 ],
 "metadata": {
  "kernelspec": {
   "display_name": "R4.4 Seurat",
   "language": "R",
   "name": "r4.4_seurat"
  },
  "language_info": {
   "codemirror_mode": "r",
   "file_extension": ".r",
   "mimetype": "text/x-r-source",
   "name": "R",
   "pygments_lexer": "r",
   "version": "4.4.3"
  }
 },
 "nbformat": 4,
 "nbformat_minor": 5
}
