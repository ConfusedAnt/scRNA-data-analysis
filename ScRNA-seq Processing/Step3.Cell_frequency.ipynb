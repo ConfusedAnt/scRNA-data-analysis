{
 "cells": [
  {
   "cell_type": "code",
   "execution_count": 6,
   "id": "0cfeeae4-a5bc-420b-b79f-9f2dfaabce65",
   "metadata": {
    "vscode": {
     "languageId": "r"
    }
   },
   "outputs": [],
   "source": [
    "library(Seurat)\n",
    "library(dplyr)\n",
    "library(patchwork)\n",
    "library(readr)\n",
    "library(ggplot2)\n",
    "library(qs)\n",
    "library(ggsci)\n",
    "library(ggpubr)"
   ]
  },
  {
   "cell_type": "code",
   "execution_count": 7,
   "id": "6e7a171a-98c1-4939-9f37-d6b90de4ba7e",
   "metadata": {
    "vscode": {
     "languageId": "r"
    }
   },
   "outputs": [],
   "source": [
    "# 加载绘图函数\n",
    "source(\"./source_R/custom_seurat_functions.R\")\n",
    "if(T){\n",
    "  text.size = 12\n",
    "  text.angle = 45\n",
    "  text.hjust = 1\n",
    "  legend.position = \"right\"\n",
    "  mytheme <- theme(plot.title = element_text(size = text.size+2,color=\"black\",hjust = 0.5),\n",
    "                   axis.ticks = element_line(color = \"black\"),\n",
    "                   axis.title = element_text(size = text.size,color =\"black\"), \n",
    "                   axis.text = element_text(size=text.size,color = \"black\"),\n",
    "                   axis.text.x = element_text(angle = text.angle, hjust = text.hjust ), #,vjust = 0.5\n",
    "                   panel.grid=element_blank(), # 去网格线\n",
    "                   legend.position = legend.position,\n",
    "                   legend.text = element_text(size= text.size),\n",
    "                   legend.title= element_text(size= text.size)\n",
    "  )\n",
    "}"
   ]
  },
  {
   "cell_type": "markdown",
   "id": "e973dc58-fe59-437b-ab55-8578bdf0ce7b",
   "metadata": {},
   "source": [
    "### Step1.读入数据"
   ]
  },
  {
   "cell_type": "code",
   "execution_count": null,
   "id": "314dabc6-c6f9-44f2-a301-9aa285492bce",
   "metadata": {
    "vscode": {
     "languageId": "r"
    }
   },
   "outputs": [],
   "source": [
    "### 1.读入数据\n",
    "seurat.data = qread(file = \"./Outdata/Step3.Cluster_annotion.qs\")\n",
    "seurat.data"
   ]
  },
  {
   "cell_type": "code",
   "execution_count": 9,
   "id": "2b1c2e70-6e50-4290-bd4d-f82ee3d9ace3",
   "metadata": {
    "vscode": {
     "languageId": "r"
    }
   },
   "outputs": [
    {
     "data": {
      "text/plain": [
       "\n",
       "GSM8504078 GSM8504079 GSM8504080 GSM8504081 GSM8504082 GSM8504083 GSM8863170 \n",
       "      5894       7636       7254       8769       8217       9551       6347 \n",
       "GSM8863172 \n",
       "      8032 "
      ]
     },
     "metadata": {},
     "output_type": "display_data"
    }
   ],
   "source": [
    "table(seurat.data$sampleID)"
   ]
  },
  {
   "cell_type": "code",
   "execution_count": 10,
   "id": "1ba80fb2-19cd-4897-a9c9-32f198a9b8c3",
   "metadata": {
    "vscode": {
     "languageId": "r"
    }
   },
   "outputs": [
    {
     "data": {
      "text/plain": [
       "\n",
       "  ALI   CRL \n",
       "34569 27131 "
      ]
     },
     "metadata": {},
     "output_type": "display_data"
    }
   ],
   "source": [
    "table(seurat.data$group)"
   ]
  },
  {
   "cell_type": "code",
   "execution_count": null,
   "id": "2b6a4978-808c-4d01-b13a-6a54607462c3",
   "metadata": {
    "vscode": {
     "languageId": "r"
    }
   },
   "outputs": [],
   "source": [
    "#UMAP降维可视化\n",
    "options(repr.plot.width = 6, repr.plot.height = 5)\n",
    "p1 = DimPlot(seurat.data, \n",
    "        reduction = \"umap\",\n",
    "        group.by = \"celltype\",\n",
    "        label = T);p1"
   ]
  },
  {
   "cell_type": "markdown",
   "id": "54f59bc4-ddd3-45c3-9b53-5f7cd470c3a4",
   "metadata": {},
   "source": [
    "### Step2.统计细胞比例"
   ]
  },
  {
   "cell_type": "code",
   "execution_count": null,
   "id": "354e98e8-5f5f-43e4-83f1-b107fd840fb9",
   "metadata": {
    "vscode": {
     "languageId": "r"
    }
   },
   "outputs": [],
   "source": [
    "table(seurat.data$sampleID, seurat.data$group)"
   ]
  },
  {
   "cell_type": "code",
   "execution_count": null,
   "id": "c0ca4501",
   "metadata": {
    "vscode": {
     "languageId": "r"
    }
   },
   "outputs": [],
   "source": [
    "table(seurat.data$celltype)"
   ]
  },
  {
   "cell_type": "code",
   "execution_count": 18,
   "id": "1d45cbab",
   "metadata": {
    "vscode": {
     "languageId": "r"
    }
   },
   "outputs": [],
   "source": [
    "library(paletteer)"
   ]
  },
  {
   "cell_type": "code",
   "execution_count": null,
   "id": "0d4f781b-d861-4291-9b4f-93fb5b88ab6a",
   "metadata": {
    "vscode": {
     "languageId": "r"
    }
   },
   "outputs": [],
   "source": [
    "#### 2.1 百分比柱状图\n",
    "## 配色 \n",
    "color.use=c('B cells'='#1f77b4', 'Endothelial cells'='#ff7f0e','Epithelial cells'= '#279e68', 'Fibroblast'='#d62728', \n",
    "            # 'DCs'='#aa40fc', 'Erythroid cells'='#8c564b', 'Mast cells'='#e377c2', \n",
    "            'Platelets'= '#b5bd61', 'T cells'='#17becf','Macrophage'='#e377c2', \n",
    "            'Neutrophils'= '#98df8a','NK cells'='#ff9896', 'Smooth muscle cells'= '#c5b0d5','Other Myeloid cells'='#aec7e8')\n",
    "## 按分组\n",
    "options(repr.plot.width = 5, repr.plot.height = 5)\n",
    "p1 = plot.clusters.group(data = seurat.data,\n",
    "                         Group = \"group\",\n",
    "                         legend.position = \"none\",\n",
    "                         celltype.id = \"celltype\",\n",
    "                         widths = c(2,1),\n",
    "                         log = F,\n",
    "                         text.size = 12,\n",
    "                         order = F,\n",
    "                         legend.title = \"Cell type\",\n",
    "                         color = 1,\n",
    "                         xlab = \"\",\n",
    "                         cell.counts = F)&mytheme&\n",
    "    scale_fill_manual(values = color.use);p1"
   ]
  },
  {
   "cell_type": "code",
   "execution_count": null,
   "id": "7452841f-b639-4a6c-a660-8c9608362c15",
   "metadata": {
    "vscode": {
     "languageId": "r"
    }
   },
   "outputs": [],
   "source": [
    "## 按分组 + 细胞数量统计\n",
    "options(repr.plot.width = 9, repr.plot.height = 4)\n",
    "p2 = plot.clusters.group(data = seurat.data,\n",
    "                         Group = \"group\",\n",
    "                         legend.position = \"top\",\n",
    "                         celltype.id = \"celltype\",\n",
    "                         widths = c(2,1),\n",
    "                         log = F,\n",
    "                         text.size = 12,\n",
    "                         order = T,\n",
    "                         legend.title = \"Cell type\",\n",
    "                         color = 1,\n",
    "                         xlab = \"\",\n",
    "                         cell.counts = T)& \n",
    "    scale_fill_manual(values = color.use);p2\n",
    "pdf(file=\"frequency_CRL_ALI.pdf\", width=9, height=4)\n",
    "print(p2)\n",
    "dev.off()"
   ]
  }
 ],
 "metadata": {
  "kernelspec": {
   "display_name": "R",
   "language": "R",
   "name": "ir"
  },
  "language_info": {
   "codemirror_mode": "r",
   "file_extension": ".r",
   "mimetype": "text/x-r-source",
   "name": "R",
   "pygments_lexer": "r",
   "version": "4.4.3"
  }
 },
 "nbformat": 4,
 "nbformat_minor": 5
}
