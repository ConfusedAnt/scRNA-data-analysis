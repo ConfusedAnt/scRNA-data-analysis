{
 "cells": [
  {
   "cell_type": "markdown",
   "id": "f09372e8",
   "metadata": {},
   "source": [
    "#####################CibersortX网页操作: https://cibersortx.stanford.edu/\n",
    "\n",
    "#####################详见PPT"
   ]
  },
  {
   "cell_type": "markdown",
   "id": "4fa5f93b",
   "metadata": {},
   "source": [
    "### Step4. 可视化\n",
    "\n",
    "输出结果一般多用于做比较多组间的细胞占比差异或生存分析"
   ]
  },
  {
   "cell_type": "code",
   "execution_count": 136,
   "id": "1d09e181",
   "metadata": {
    "vscode": {
     "languageId": "r"
    }
   },
   "outputs": [],
   "source": [
    "celltype <- \"Epithelial\"  ###修改细胞类型的名称"
   ]
  },
  {
   "cell_type": "markdown",
   "id": "df066784",
   "metadata": {},
   "source": [
    "#### 6.1 比较多组间的细胞占比差异"
   ]
  },
  {
   "cell_type": "code",
   "execution_count": 137,
   "id": "1db0d26d",
   "metadata": {
    "vscode": {
     "languageId": "r"
    }
   },
   "outputs": [],
   "source": [
    "library(survival)  \n",
    "library(survminer) # 用来做km曲线\n",
    "library(RColorBrewer)\n",
    "library(corrplot)\n",
    "\n",
    "if(T){\n",
    "  mytheme <- theme(plot.title = element_text(size = 12,color=\"black\",hjust = 0.5),\n",
    "                   axis.title = element_text(size = 12,color =\"black\"), \n",
    "                   axis.text = element_text(size= 12,color = \"black\"),\n",
    "                   panel.grid.minor.y = element_blank(),\n",
    "                   panel.grid.minor.x = element_blank(),\n",
    "                   axis.text.x = element_text(angle = 45, hjust = 1 ),\n",
    "                   panel.grid=element_blank(),\n",
    "                   legend.position = \"top\",\n",
    "                   legend.text = element_text(size= 12),\n",
    "                   legend.title= element_text(size= 12)\n",
    "  )}"
   ]
  },
  {
   "cell_type": "code",
   "execution_count": 138,
   "id": "be0d7bf0",
   "metadata": {
    "vscode": {
     "languageId": "r"
    }
   },
   "outputs": [
    {
     "data": {
      "text/html": [
       "<table class=\"dataframe\">\n",
       "<caption>A data.frame: 6 × 14</caption>\n",
       "<thead>\n",
       "\t<tr><th></th><th scope=col>Epithelial_c8</th><th scope=col>Epithelial_c3</th><th scope=col>Epithelial_c0</th><th scope=col>Epithelial_c5</th><th scope=col>Epithelial_c2</th><th scope=col>Epithelial_c1</th><th scope=col>Epithelial_c7</th><th scope=col>Epithelial_c9</th><th scope=col>Epithelial_c6</th><th scope=col>Epithelial_c4</th><th scope=col>Epithelial_c10</th><th scope=col>P.value</th><th scope=col>Correlation</th><th scope=col>RMSE</th></tr>\n",
       "\t<tr><th></th><th scope=col>&lt;dbl&gt;</th><th scope=col>&lt;int&gt;</th><th scope=col>&lt;dbl&gt;</th><th scope=col>&lt;dbl&gt;</th><th scope=col>&lt;dbl&gt;</th><th scope=col>&lt;dbl&gt;</th><th scope=col>&lt;dbl&gt;</th><th scope=col>&lt;dbl&gt;</th><th scope=col>&lt;dbl&gt;</th><th scope=col>&lt;dbl&gt;</th><th scope=col>&lt;dbl&gt;</th><th scope=col>&lt;int&gt;</th><th scope=col>&lt;dbl&gt;</th><th scope=col>&lt;dbl&gt;</th></tr>\n",
       "</thead>\n",
       "<tbody>\n",
       "\t<tr><th scope=row>GSE193876_CTRL_1</th><td>0.000000e+00</td><td>0</td><td>0.012252797</td><td>0.0000000</td><td>0.4123853</td><td>0.0000000</td><td>0.08753058</td><td>0.033408393</td><td>0.3795191</td><td>0.07490390</td><td>0.000000e+00</td><td>0</td><td>0.9980951</td><td>0.12699095</td></tr>\n",
       "\t<tr><th scope=row>GSE193876_CTRL_2</th><td>0.000000e+00</td><td>0</td><td>0.021020748</td><td>0.0000000</td><td>0.4155788</td><td>0.0000000</td><td>0.08238558</td><td>0.027283893</td><td>0.3935502</td><td>0.06018082</td><td>0.000000e+00</td><td>0</td><td>0.9982839</td><td>0.13831088</td></tr>\n",
       "\t<tr><th scope=row>GSE193876_CTRL_3</th><td>0.000000e+00</td><td>0</td><td>0.019043737</td><td>0.0000000</td><td>0.3454307</td><td>0.0000000</td><td>0.11545081</td><td>0.026270955</td><td>0.4049268</td><td>0.08887699</td><td>0.000000e+00</td><td>0</td><td>0.9973660</td><td>0.08383477</td></tr>\n",
       "\t<tr><th scope=row>GSE193876_CTRL_4</th><td>0.000000e+00</td><td>0</td><td>0.042129907</td><td>0.0255645</td><td>0.5451255</td><td>0.0000000</td><td>0.04118360</td><td>0.002560516</td><td>0.2777931</td><td>0.06564282</td><td>0.000000e+00</td><td>0</td><td>0.9992588</td><td>0.48531148</td></tr>\n",
       "\t<tr><th scope=row>GSE193876_LPS_48h_1</th><td>2.236333e-06</td><td>0</td><td>0.007407694</td><td>0.0000000</td><td>0.2890434</td><td>0.2496191</td><td>0.06105783</td><td>0.018128523</td><td>0.2031955</td><td>0.17061533</td><td>9.303219e-04</td><td>0</td><td>0.9958280</td><td>0.11690644</td></tr>\n",
       "\t<tr><th scope=row>GSE193876_LPS_48h_2</th><td>1.611906e-03</td><td>0</td><td>0.000000000</td><td>0.0000000</td><td>0.3389210</td><td>0.1524483</td><td>0.06410591</td><td>0.015637000</td><td>0.2504791</td><td>0.17676446</td><td>3.232919e-05</td><td>0</td><td>0.9973757</td><td>0.07300527</td></tr>\n",
       "</tbody>\n",
       "</table>\n"
      ],
      "text/latex": [
       "A data.frame: 6 × 14\n",
       "\\begin{tabular}{r|llllllllllllll}\n",
       "  & Epithelial\\_c8 & Epithelial\\_c3 & Epithelial\\_c0 & Epithelial\\_c5 & Epithelial\\_c2 & Epithelial\\_c1 & Epithelial\\_c7 & Epithelial\\_c9 & Epithelial\\_c6 & Epithelial\\_c4 & Epithelial\\_c10 & P.value & Correlation & RMSE\\\\\n",
       "  & <dbl> & <int> & <dbl> & <dbl> & <dbl> & <dbl> & <dbl> & <dbl> & <dbl> & <dbl> & <dbl> & <int> & <dbl> & <dbl>\\\\\n",
       "\\hline\n",
       "\tGSE193876\\_CTRL\\_1 & 0.000000e+00 & 0 & 0.012252797 & 0.0000000 & 0.4123853 & 0.0000000 & 0.08753058 & 0.033408393 & 0.3795191 & 0.07490390 & 0.000000e+00 & 0 & 0.9980951 & 0.12699095\\\\\n",
       "\tGSE193876\\_CTRL\\_2 & 0.000000e+00 & 0 & 0.021020748 & 0.0000000 & 0.4155788 & 0.0000000 & 0.08238558 & 0.027283893 & 0.3935502 & 0.06018082 & 0.000000e+00 & 0 & 0.9982839 & 0.13831088\\\\\n",
       "\tGSE193876\\_CTRL\\_3 & 0.000000e+00 & 0 & 0.019043737 & 0.0000000 & 0.3454307 & 0.0000000 & 0.11545081 & 0.026270955 & 0.4049268 & 0.08887699 & 0.000000e+00 & 0 & 0.9973660 & 0.08383477\\\\\n",
       "\tGSE193876\\_CTRL\\_4 & 0.000000e+00 & 0 & 0.042129907 & 0.0255645 & 0.5451255 & 0.0000000 & 0.04118360 & 0.002560516 & 0.2777931 & 0.06564282 & 0.000000e+00 & 0 & 0.9992588 & 0.48531148\\\\\n",
       "\tGSE193876\\_LPS\\_48h\\_1 & 2.236333e-06 & 0 & 0.007407694 & 0.0000000 & 0.2890434 & 0.2496191 & 0.06105783 & 0.018128523 & 0.2031955 & 0.17061533 & 9.303219e-04 & 0 & 0.9958280 & 0.11690644\\\\\n",
       "\tGSE193876\\_LPS\\_48h\\_2 & 1.611906e-03 & 0 & 0.000000000 & 0.0000000 & 0.3389210 & 0.1524483 & 0.06410591 & 0.015637000 & 0.2504791 & 0.17676446 & 3.232919e-05 & 0 & 0.9973757 & 0.07300527\\\\\n",
       "\\end{tabular}\n"
      ],
      "text/markdown": [
       "\n",
       "A data.frame: 6 × 14\n",
       "\n",
       "| <!--/--> | Epithelial_c8 &lt;dbl&gt; | Epithelial_c3 &lt;int&gt; | Epithelial_c0 &lt;dbl&gt; | Epithelial_c5 &lt;dbl&gt; | Epithelial_c2 &lt;dbl&gt; | Epithelial_c1 &lt;dbl&gt; | Epithelial_c7 &lt;dbl&gt; | Epithelial_c9 &lt;dbl&gt; | Epithelial_c6 &lt;dbl&gt; | Epithelial_c4 &lt;dbl&gt; | Epithelial_c10 &lt;dbl&gt; | P.value &lt;int&gt; | Correlation &lt;dbl&gt; | RMSE &lt;dbl&gt; |\n",
       "|---|---|---|---|---|---|---|---|---|---|---|---|---|---|---|\n",
       "| GSE193876_CTRL_1 | 0.000000e+00 | 0 | 0.012252797 | 0.0000000 | 0.4123853 | 0.0000000 | 0.08753058 | 0.033408393 | 0.3795191 | 0.07490390 | 0.000000e+00 | 0 | 0.9980951 | 0.12699095 |\n",
       "| GSE193876_CTRL_2 | 0.000000e+00 | 0 | 0.021020748 | 0.0000000 | 0.4155788 | 0.0000000 | 0.08238558 | 0.027283893 | 0.3935502 | 0.06018082 | 0.000000e+00 | 0 | 0.9982839 | 0.13831088 |\n",
       "| GSE193876_CTRL_3 | 0.000000e+00 | 0 | 0.019043737 | 0.0000000 | 0.3454307 | 0.0000000 | 0.11545081 | 0.026270955 | 0.4049268 | 0.08887699 | 0.000000e+00 | 0 | 0.9973660 | 0.08383477 |\n",
       "| GSE193876_CTRL_4 | 0.000000e+00 | 0 | 0.042129907 | 0.0255645 | 0.5451255 | 0.0000000 | 0.04118360 | 0.002560516 | 0.2777931 | 0.06564282 | 0.000000e+00 | 0 | 0.9992588 | 0.48531148 |\n",
       "| GSE193876_LPS_48h_1 | 2.236333e-06 | 0 | 0.007407694 | 0.0000000 | 0.2890434 | 0.2496191 | 0.06105783 | 0.018128523 | 0.2031955 | 0.17061533 | 9.303219e-04 | 0 | 0.9958280 | 0.11690644 |\n",
       "| GSE193876_LPS_48h_2 | 1.611906e-03 | 0 | 0.000000000 | 0.0000000 | 0.3389210 | 0.1524483 | 0.06410591 | 0.015637000 | 0.2504791 | 0.17676446 | 3.232919e-05 | 0 | 0.9973757 | 0.07300527 |\n",
       "\n"
      ],
      "text/plain": [
       "                    Epithelial_c8 Epithelial_c3 Epithelial_c0 Epithelial_c5\n",
       "GSE193876_CTRL_1    0.000000e+00  0             0.012252797   0.0000000    \n",
       "GSE193876_CTRL_2    0.000000e+00  0             0.021020748   0.0000000    \n",
       "GSE193876_CTRL_3    0.000000e+00  0             0.019043737   0.0000000    \n",
       "GSE193876_CTRL_4    0.000000e+00  0             0.042129907   0.0255645    \n",
       "GSE193876_LPS_48h_1 2.236333e-06  0             0.007407694   0.0000000    \n",
       "GSE193876_LPS_48h_2 1.611906e-03  0             0.000000000   0.0000000    \n",
       "                    Epithelial_c2 Epithelial_c1 Epithelial_c7 Epithelial_c9\n",
       "GSE193876_CTRL_1    0.4123853     0.0000000     0.08753058    0.033408393  \n",
       "GSE193876_CTRL_2    0.4155788     0.0000000     0.08238558    0.027283893  \n",
       "GSE193876_CTRL_3    0.3454307     0.0000000     0.11545081    0.026270955  \n",
       "GSE193876_CTRL_4    0.5451255     0.0000000     0.04118360    0.002560516  \n",
       "GSE193876_LPS_48h_1 0.2890434     0.2496191     0.06105783    0.018128523  \n",
       "GSE193876_LPS_48h_2 0.3389210     0.1524483     0.06410591    0.015637000  \n",
       "                    Epithelial_c6 Epithelial_c4 Epithelial_c10 P.value\n",
       "GSE193876_CTRL_1    0.3795191     0.07490390    0.000000e+00   0      \n",
       "GSE193876_CTRL_2    0.3935502     0.06018082    0.000000e+00   0      \n",
       "GSE193876_CTRL_3    0.4049268     0.08887699    0.000000e+00   0      \n",
       "GSE193876_CTRL_4    0.2777931     0.06564282    0.000000e+00   0      \n",
       "GSE193876_LPS_48h_1 0.2031955     0.17061533    9.303219e-04   0      \n",
       "GSE193876_LPS_48h_2 0.2504791     0.17676446    3.232919e-05   0      \n",
       "                    Correlation RMSE      \n",
       "GSE193876_CTRL_1    0.9980951   0.12699095\n",
       "GSE193876_CTRL_2    0.9982839   0.13831088\n",
       "GSE193876_CTRL_3    0.9973660   0.08383477\n",
       "GSE193876_CTRL_4    0.9992588   0.48531148\n",
       "GSE193876_LPS_48h_1 0.9958280   0.11690644\n",
       "GSE193876_LPS_48h_2 0.9973757   0.07300527"
      ]
     },
     "metadata": {},
     "output_type": "display_data"
    }
   ],
   "source": [
    "TME_data <- read.csv(paste0(\"CIBERSORTx_\", celltype, \".csv\"),header = T,row.names = 1)\n",
    "head(TME_data)"
   ]
  },
  {
   "cell_type": "code",
   "execution_count": 139,
   "id": "4f580c16",
   "metadata": {
    "vscode": {
     "languageId": "r"
    }
   },
   "outputs": [
    {
     "data": {
      "text/html": [
       "<table class=\"dataframe\">\n",
       "<caption>A data.frame: 6 × 12</caption>\n",
       "<thead>\n",
       "\t<tr><th></th><th scope=col>Epithelial_c8</th><th scope=col>Epithelial_c3</th><th scope=col>Epithelial_c0</th><th scope=col>Epithelial_c5</th><th scope=col>Epithelial_c2</th><th scope=col>Epithelial_c1</th><th scope=col>Epithelial_c7</th><th scope=col>Epithelial_c9</th><th scope=col>Epithelial_c6</th><th scope=col>Epithelial_c4</th><th scope=col>Epithelial_c10</th><th scope=col>sample</th></tr>\n",
       "\t<tr><th></th><th scope=col>&lt;dbl&gt;</th><th scope=col>&lt;int&gt;</th><th scope=col>&lt;dbl&gt;</th><th scope=col>&lt;dbl&gt;</th><th scope=col>&lt;dbl&gt;</th><th scope=col>&lt;dbl&gt;</th><th scope=col>&lt;dbl&gt;</th><th scope=col>&lt;dbl&gt;</th><th scope=col>&lt;dbl&gt;</th><th scope=col>&lt;dbl&gt;</th><th scope=col>&lt;dbl&gt;</th><th scope=col>&lt;chr&gt;</th></tr>\n",
       "</thead>\n",
       "<tbody>\n",
       "\t<tr><th scope=row>GSE193876_CTRL_1</th><td>0.000000e+00</td><td>0</td><td>0.012252797</td><td>0.0000000</td><td>0.4123853</td><td>0.0000000</td><td>0.08753058</td><td>0.033408393</td><td>0.3795191</td><td>0.07490390</td><td>0.000000e+00</td><td>GSE193876_CTRL_1   </td></tr>\n",
       "\t<tr><th scope=row>GSE193876_CTRL_2</th><td>0.000000e+00</td><td>0</td><td>0.021020748</td><td>0.0000000</td><td>0.4155788</td><td>0.0000000</td><td>0.08238558</td><td>0.027283893</td><td>0.3935502</td><td>0.06018082</td><td>0.000000e+00</td><td>GSE193876_CTRL_2   </td></tr>\n",
       "\t<tr><th scope=row>GSE193876_CTRL_3</th><td>0.000000e+00</td><td>0</td><td>0.019043737</td><td>0.0000000</td><td>0.3454307</td><td>0.0000000</td><td>0.11545081</td><td>0.026270955</td><td>0.4049268</td><td>0.08887699</td><td>0.000000e+00</td><td>GSE193876_CTRL_3   </td></tr>\n",
       "\t<tr><th scope=row>GSE193876_CTRL_4</th><td>0.000000e+00</td><td>0</td><td>0.042129907</td><td>0.0255645</td><td>0.5451255</td><td>0.0000000</td><td>0.04118360</td><td>0.002560516</td><td>0.2777931</td><td>0.06564282</td><td>0.000000e+00</td><td>GSE193876_CTRL_4   </td></tr>\n",
       "\t<tr><th scope=row>GSE193876_LPS_48h_1</th><td>2.236333e-06</td><td>0</td><td>0.007407694</td><td>0.0000000</td><td>0.2890434</td><td>0.2496191</td><td>0.06105783</td><td>0.018128523</td><td>0.2031955</td><td>0.17061533</td><td>9.303219e-04</td><td>GSE193876_LPS_48h_1</td></tr>\n",
       "\t<tr><th scope=row>GSE193876_LPS_48h_2</th><td>1.611906e-03</td><td>0</td><td>0.000000000</td><td>0.0000000</td><td>0.3389210</td><td>0.1524483</td><td>0.06410591</td><td>0.015637000</td><td>0.2504791</td><td>0.17676446</td><td>3.232919e-05</td><td>GSE193876_LPS_48h_2</td></tr>\n",
       "</tbody>\n",
       "</table>\n"
      ],
      "text/latex": [
       "A data.frame: 6 × 12\n",
       "\\begin{tabular}{r|llllllllllll}\n",
       "  & Epithelial\\_c8 & Epithelial\\_c3 & Epithelial\\_c0 & Epithelial\\_c5 & Epithelial\\_c2 & Epithelial\\_c1 & Epithelial\\_c7 & Epithelial\\_c9 & Epithelial\\_c6 & Epithelial\\_c4 & Epithelial\\_c10 & sample\\\\\n",
       "  & <dbl> & <int> & <dbl> & <dbl> & <dbl> & <dbl> & <dbl> & <dbl> & <dbl> & <dbl> & <dbl> & <chr>\\\\\n",
       "\\hline\n",
       "\tGSE193876\\_CTRL\\_1 & 0.000000e+00 & 0 & 0.012252797 & 0.0000000 & 0.4123853 & 0.0000000 & 0.08753058 & 0.033408393 & 0.3795191 & 0.07490390 & 0.000000e+00 & GSE193876\\_CTRL\\_1   \\\\\n",
       "\tGSE193876\\_CTRL\\_2 & 0.000000e+00 & 0 & 0.021020748 & 0.0000000 & 0.4155788 & 0.0000000 & 0.08238558 & 0.027283893 & 0.3935502 & 0.06018082 & 0.000000e+00 & GSE193876\\_CTRL\\_2   \\\\\n",
       "\tGSE193876\\_CTRL\\_3 & 0.000000e+00 & 0 & 0.019043737 & 0.0000000 & 0.3454307 & 0.0000000 & 0.11545081 & 0.026270955 & 0.4049268 & 0.08887699 & 0.000000e+00 & GSE193876\\_CTRL\\_3   \\\\\n",
       "\tGSE193876\\_CTRL\\_4 & 0.000000e+00 & 0 & 0.042129907 & 0.0255645 & 0.5451255 & 0.0000000 & 0.04118360 & 0.002560516 & 0.2777931 & 0.06564282 & 0.000000e+00 & GSE193876\\_CTRL\\_4   \\\\\n",
       "\tGSE193876\\_LPS\\_48h\\_1 & 2.236333e-06 & 0 & 0.007407694 & 0.0000000 & 0.2890434 & 0.2496191 & 0.06105783 & 0.018128523 & 0.2031955 & 0.17061533 & 9.303219e-04 & GSE193876\\_LPS\\_48h\\_1\\\\\n",
       "\tGSE193876\\_LPS\\_48h\\_2 & 1.611906e-03 & 0 & 0.000000000 & 0.0000000 & 0.3389210 & 0.1524483 & 0.06410591 & 0.015637000 & 0.2504791 & 0.17676446 & 3.232919e-05 & GSE193876\\_LPS\\_48h\\_2\\\\\n",
       "\\end{tabular}\n"
      ],
      "text/markdown": [
       "\n",
       "A data.frame: 6 × 12\n",
       "\n",
       "| <!--/--> | Epithelial_c8 &lt;dbl&gt; | Epithelial_c3 &lt;int&gt; | Epithelial_c0 &lt;dbl&gt; | Epithelial_c5 &lt;dbl&gt; | Epithelial_c2 &lt;dbl&gt; | Epithelial_c1 &lt;dbl&gt; | Epithelial_c7 &lt;dbl&gt; | Epithelial_c9 &lt;dbl&gt; | Epithelial_c6 &lt;dbl&gt; | Epithelial_c4 &lt;dbl&gt; | Epithelial_c10 &lt;dbl&gt; | sample &lt;chr&gt; |\n",
       "|---|---|---|---|---|---|---|---|---|---|---|---|---|\n",
       "| GSE193876_CTRL_1 | 0.000000e+00 | 0 | 0.012252797 | 0.0000000 | 0.4123853 | 0.0000000 | 0.08753058 | 0.033408393 | 0.3795191 | 0.07490390 | 0.000000e+00 | GSE193876_CTRL_1    |\n",
       "| GSE193876_CTRL_2 | 0.000000e+00 | 0 | 0.021020748 | 0.0000000 | 0.4155788 | 0.0000000 | 0.08238558 | 0.027283893 | 0.3935502 | 0.06018082 | 0.000000e+00 | GSE193876_CTRL_2    |\n",
       "| GSE193876_CTRL_3 | 0.000000e+00 | 0 | 0.019043737 | 0.0000000 | 0.3454307 | 0.0000000 | 0.11545081 | 0.026270955 | 0.4049268 | 0.08887699 | 0.000000e+00 | GSE193876_CTRL_3    |\n",
       "| GSE193876_CTRL_4 | 0.000000e+00 | 0 | 0.042129907 | 0.0255645 | 0.5451255 | 0.0000000 | 0.04118360 | 0.002560516 | 0.2777931 | 0.06564282 | 0.000000e+00 | GSE193876_CTRL_4    |\n",
       "| GSE193876_LPS_48h_1 | 2.236333e-06 | 0 | 0.007407694 | 0.0000000 | 0.2890434 | 0.2496191 | 0.06105783 | 0.018128523 | 0.2031955 | 0.17061533 | 9.303219e-04 | GSE193876_LPS_48h_1 |\n",
       "| GSE193876_LPS_48h_2 | 1.611906e-03 | 0 | 0.000000000 | 0.0000000 | 0.3389210 | 0.1524483 | 0.06410591 | 0.015637000 | 0.2504791 | 0.17676446 | 3.232919e-05 | GSE193876_LPS_48h_2 |\n",
       "\n"
      ],
      "text/plain": [
       "                    Epithelial_c8 Epithelial_c3 Epithelial_c0 Epithelial_c5\n",
       "GSE193876_CTRL_1    0.000000e+00  0             0.012252797   0.0000000    \n",
       "GSE193876_CTRL_2    0.000000e+00  0             0.021020748   0.0000000    \n",
       "GSE193876_CTRL_3    0.000000e+00  0             0.019043737   0.0000000    \n",
       "GSE193876_CTRL_4    0.000000e+00  0             0.042129907   0.0255645    \n",
       "GSE193876_LPS_48h_1 2.236333e-06  0             0.007407694   0.0000000    \n",
       "GSE193876_LPS_48h_2 1.611906e-03  0             0.000000000   0.0000000    \n",
       "                    Epithelial_c2 Epithelial_c1 Epithelial_c7 Epithelial_c9\n",
       "GSE193876_CTRL_1    0.4123853     0.0000000     0.08753058    0.033408393  \n",
       "GSE193876_CTRL_2    0.4155788     0.0000000     0.08238558    0.027283893  \n",
       "GSE193876_CTRL_3    0.3454307     0.0000000     0.11545081    0.026270955  \n",
       "GSE193876_CTRL_4    0.5451255     0.0000000     0.04118360    0.002560516  \n",
       "GSE193876_LPS_48h_1 0.2890434     0.2496191     0.06105783    0.018128523  \n",
       "GSE193876_LPS_48h_2 0.3389210     0.1524483     0.06410591    0.015637000  \n",
       "                    Epithelial_c6 Epithelial_c4 Epithelial_c10\n",
       "GSE193876_CTRL_1    0.3795191     0.07490390    0.000000e+00  \n",
       "GSE193876_CTRL_2    0.3935502     0.06018082    0.000000e+00  \n",
       "GSE193876_CTRL_3    0.4049268     0.08887699    0.000000e+00  \n",
       "GSE193876_CTRL_4    0.2777931     0.06564282    0.000000e+00  \n",
       "GSE193876_LPS_48h_1 0.2031955     0.17061533    9.303219e-04  \n",
       "GSE193876_LPS_48h_2 0.2504791     0.17676446    3.232919e-05  \n",
       "                    sample             \n",
       "GSE193876_CTRL_1    GSE193876_CTRL_1   \n",
       "GSE193876_CTRL_2    GSE193876_CTRL_2   \n",
       "GSE193876_CTRL_3    GSE193876_CTRL_3   \n",
       "GSE193876_CTRL_4    GSE193876_CTRL_4   \n",
       "GSE193876_LPS_48h_1 GSE193876_LPS_48h_1\n",
       "GSE193876_LPS_48h_2 GSE193876_LPS_48h_2"
      ]
     },
     "metadata": {},
     "output_type": "display_data"
    }
   ],
   "source": [
    "# 6.1.1 数据粗处理\n",
    "\n",
    "library(dplyr)\n",
    "\n",
    "# 排除最后三列\n",
    "TME_data_sub <- TME_data[, 1:(ncol(TME_data)-3)]\n",
    "\n",
    "TME_New = TME_data_sub\n",
    "TME_New$sample <- row.names(TME_New)\n",
    "head(TME_New)\n",
    "\n",
    "\n",
    "# 筛选特定行（在bulk和scRNA数据保存出来的时候，要统一好样本名称）\n",
    "library(dplyr)\n",
    "library(stringr)\n",
    "\n",
    "TME_New <- TME_New %>%\n",
    "  mutate(OS = case_when(\n",
    "    str_detect(sample, \"CTRL\") ~ 0,\n",
    "    str_detect(sample, \"LPS\")  ~ 1,\n",
    "    TRUE ~ NA_real_  # 其他情况填 NA\n",
    "  ))\n",
    "\n"
   ]
  },
  {
   "cell_type": "code",
   "execution_count": 140,
   "id": "3c4d6609",
   "metadata": {
    "vscode": {
     "languageId": "r"
    }
   },
   "outputs": [
    {
     "data": {
      "text/html": [
       "<table class=\"dataframe\">\n",
       "<caption>A data.frame: 6 × 4</caption>\n",
       "<thead>\n",
       "\t<tr><th></th><th scope=col>Group</th><th scope=col>Sample</th><th scope=col>Celltype</th><th scope=col>Composition</th></tr>\n",
       "\t<tr><th></th><th scope=col>&lt;dbl&gt;</th><th scope=col>&lt;chr&gt;</th><th scope=col>&lt;fct&gt;</th><th scope=col>&lt;dbl&gt;</th></tr>\n",
       "</thead>\n",
       "<tbody>\n",
       "\t<tr><th scope=row>1</th><td>0</td><td>GSE193876_CTRL_1   </td><td>Epithelial_c8</td><td>0.000000e+00</td></tr>\n",
       "\t<tr><th scope=row>2</th><td>0</td><td>GSE193876_CTRL_2   </td><td>Epithelial_c8</td><td>0.000000e+00</td></tr>\n",
       "\t<tr><th scope=row>3</th><td>0</td><td>GSE193876_CTRL_3   </td><td>Epithelial_c8</td><td>0.000000e+00</td></tr>\n",
       "\t<tr><th scope=row>4</th><td>0</td><td>GSE193876_CTRL_4   </td><td>Epithelial_c8</td><td>0.000000e+00</td></tr>\n",
       "\t<tr><th scope=row>5</th><td>1</td><td>GSE193876_LPS_48h_1</td><td>Epithelial_c8</td><td>2.236333e-06</td></tr>\n",
       "\t<tr><th scope=row>6</th><td>1</td><td>GSE193876_LPS_48h_2</td><td>Epithelial_c8</td><td>1.611906e-03</td></tr>\n",
       "</tbody>\n",
       "</table>\n"
      ],
      "text/latex": [
       "A data.frame: 6 × 4\n",
       "\\begin{tabular}{r|llll}\n",
       "  & Group & Sample & Celltype & Composition\\\\\n",
       "  & <dbl> & <chr> & <fct> & <dbl>\\\\\n",
       "\\hline\n",
       "\t1 & 0 & GSE193876\\_CTRL\\_1    & Epithelial\\_c8 & 0.000000e+00\\\\\n",
       "\t2 & 0 & GSE193876\\_CTRL\\_2    & Epithelial\\_c8 & 0.000000e+00\\\\\n",
       "\t3 & 0 & GSE193876\\_CTRL\\_3    & Epithelial\\_c8 & 0.000000e+00\\\\\n",
       "\t4 & 0 & GSE193876\\_CTRL\\_4    & Epithelial\\_c8 & 0.000000e+00\\\\\n",
       "\t5 & 1 & GSE193876\\_LPS\\_48h\\_1 & Epithelial\\_c8 & 2.236333e-06\\\\\n",
       "\t6 & 1 & GSE193876\\_LPS\\_48h\\_2 & Epithelial\\_c8 & 1.611906e-03\\\\\n",
       "\\end{tabular}\n"
      ],
      "text/markdown": [
       "\n",
       "A data.frame: 6 × 4\n",
       "\n",
       "| <!--/--> | Group &lt;dbl&gt; | Sample &lt;chr&gt; | Celltype &lt;fct&gt; | Composition &lt;dbl&gt; |\n",
       "|---|---|---|---|---|\n",
       "| 1 | 0 | GSE193876_CTRL_1    | Epithelial_c8 | 0.000000e+00 |\n",
       "| 2 | 0 | GSE193876_CTRL_2    | Epithelial_c8 | 0.000000e+00 |\n",
       "| 3 | 0 | GSE193876_CTRL_3    | Epithelial_c8 | 0.000000e+00 |\n",
       "| 4 | 0 | GSE193876_CTRL_4    | Epithelial_c8 | 0.000000e+00 |\n",
       "| 5 | 1 | GSE193876_LPS_48h_1 | Epithelial_c8 | 2.236333e-06 |\n",
       "| 6 | 1 | GSE193876_LPS_48h_2 | Epithelial_c8 | 1.611906e-03 |\n",
       "\n"
      ],
      "text/plain": [
       "  Group Sample              Celltype      Composition \n",
       "1 0     GSE193876_CTRL_1    Epithelial_c8 0.000000e+00\n",
       "2 0     GSE193876_CTRL_2    Epithelial_c8 0.000000e+00\n",
       "3 0     GSE193876_CTRL_3    Epithelial_c8 0.000000e+00\n",
       "4 0     GSE193876_CTRL_4    Epithelial_c8 0.000000e+00\n",
       "5 1     GSE193876_LPS_48h_1 Epithelial_c8 2.236333e-06\n",
       "6 1     GSE193876_LPS_48h_2 Epithelial_c8 1.611906e-03"
      ]
     },
     "metadata": {},
     "output_type": "display_data"
    }
   ],
   "source": [
    "# 6.1.2 融合数据\n",
    "#reshape2::melt() 函数默认不会自动将 OS 和 sample 作为 id.vars，除非它们已经显式指定为标识符列。默认情况下，melt() 只会将 数据框中的列 转换为长格式，其中 所有列都会被认为是变量列，除非你显式地指定了 id.vars。\n",
    "# 这里使用的reshape2::melt是被改造之后的，（不知道来自哪个包）默认标识符列包括OS，Sample\n",
    "TME_filtered = reshape2::melt(TME_New,id.vars=c(\"OS\",\"sample\"))\n",
    "colnames(TME_filtered)=c(\"Group\",\"Sample\",\"Celltype\",\"Composition\") #设置行名\n",
    "head(TME_filtered)\n"
   ]
  },
  {
   "cell_type": "markdown",
   "id": "63ed0f51",
   "metadata": {},
   "source": [
    "### ————————之选bulk数据中的一部分——————"
   ]
  },
  {
   "cell_type": "code",
   "execution_count": 141,
   "id": "3d5e9a8d",
   "metadata": {
    "vscode": {
     "languageId": "r"
    }
   },
   "outputs": [
    {
     "data": {
      "text/html": [
       "<style>\n",
       ".list-inline {list-style: none; margin:0; padding: 0}\n",
       ".list-inline>li {display: inline-block}\n",
       ".list-inline>li:not(:last-child)::after {content: \"\\00b7\"; padding: 0 .5ex}\n",
       "</style>\n",
       "<ol class=list-inline><li>Epithelial_c2</li><li>Epithelial_c6</li><li>Epithelial_c4</li><li>Epithelial_c7</li><li>Epithelial_c1</li><li>Epithelial_c9</li><li>Epithelial_c0</li><li>Epithelial_c8</li><li>Epithelial_c3</li><li>Epithelial_c5</li><li>Epithelial_c10</li></ol>\n",
       "\n",
       "<details>\n",
       "\t<summary style=display:list-item;cursor:pointer>\n",
       "\t\t<strong>Levels</strong>:\n",
       "\t</summary>\n",
       "\t<style>\n",
       "\t.list-inline {list-style: none; margin:0; padding: 0}\n",
       "\t.list-inline>li {display: inline-block}\n",
       "\t.list-inline>li:not(:last-child)::after {content: \"\\00b7\"; padding: 0 .5ex}\n",
       "\t</style>\n",
       "\t<ol class=list-inline><li>'Epithelial_c8'</li><li>'Epithelial_c3'</li><li>'Epithelial_c0'</li><li>'Epithelial_c5'</li><li>'Epithelial_c2'</li><li>'Epithelial_c1'</li><li>'Epithelial_c7'</li><li>'Epithelial_c9'</li><li>'Epithelial_c6'</li><li>'Epithelial_c4'</li><li>'Epithelial_c10'</li></ol>\n",
       "</details>"
      ],
      "text/latex": [
       "\\begin{enumerate*}\n",
       "\\item Epithelial\\_c2\n",
       "\\item Epithelial\\_c6\n",
       "\\item Epithelial\\_c4\n",
       "\\item Epithelial\\_c7\n",
       "\\item Epithelial\\_c1\n",
       "\\item Epithelial\\_c9\n",
       "\\item Epithelial\\_c0\n",
       "\\item Epithelial\\_c8\n",
       "\\item Epithelial\\_c3\n",
       "\\item Epithelial\\_c5\n",
       "\\item Epithelial\\_c10\n",
       "\\end{enumerate*}\n",
       "\n",
       "\\emph{Levels}: \\begin{enumerate*}\n",
       "\\item 'Epithelial\\_c8'\n",
       "\\item 'Epithelial\\_c3'\n",
       "\\item 'Epithelial\\_c0'\n",
       "\\item 'Epithelial\\_c5'\n",
       "\\item 'Epithelial\\_c2'\n",
       "\\item 'Epithelial\\_c1'\n",
       "\\item 'Epithelial\\_c7'\n",
       "\\item 'Epithelial\\_c9'\n",
       "\\item 'Epithelial\\_c6'\n",
       "\\item 'Epithelial\\_c4'\n",
       "\\item 'Epithelial\\_c10'\n",
       "\\end{enumerate*}\n"
      ],
      "text/markdown": [
       "1. Epithelial_c2\n",
       "2. Epithelial_c6\n",
       "3. Epithelial_c4\n",
       "4. Epithelial_c7\n",
       "5. Epithelial_c1\n",
       "6. Epithelial_c9\n",
       "7. Epithelial_c0\n",
       "8. Epithelial_c8\n",
       "9. Epithelial_c3\n",
       "10. Epithelial_c5\n",
       "11. Epithelial_c10\n",
       "\n",
       "\n",
       "\n",
       "**Levels**: 1. 'Epithelial_c8'\n",
       "2. 'Epithelial_c3'\n",
       "3. 'Epithelial_c0'\n",
       "4. 'Epithelial_c5'\n",
       "5. 'Epithelial_c2'\n",
       "6. 'Epithelial_c1'\n",
       "7. 'Epithelial_c7'\n",
       "8. 'Epithelial_c9'\n",
       "9. 'Epithelial_c6'\n",
       "10. 'Epithelial_c4'\n",
       "11. 'Epithelial_c10'\n",
       "\n",
       "\n"
      ],
      "text/plain": [
       " [1] Epithelial_c2  Epithelial_c6  Epithelial_c4  Epithelial_c7  Epithelial_c1 \n",
       " [6] Epithelial_c9  Epithelial_c0  Epithelial_c8  Epithelial_c3  Epithelial_c5 \n",
       "[11] Epithelial_c10\n",
       "11 Levels: Epithelial_c8 Epithelial_c3 Epithelial_c0 ... Epithelial_c10"
      ]
     },
     "metadata": {},
     "output_type": "display_data"
    }
   ],
   "source": [
    "### 只选一部分\n",
    "TME_filtered <- TME_filtered[!grepl(\"GSE247266\", TME_filtered$Sample), ]\n",
    "\n",
    "plot_order = TME_filtered %>% \n",
    "  group_by(Celltype) %>% \n",
    "  summarise(m = median(Composition)) %>% \n",
    "  arrange(desc(m)) %>% \n",
    "  pull(Celltype)\n",
    "plot_order\n",
    "\n",
    "TME_filtered$Celltype = factor(TME_filtered$Celltype,levels = plot_order)\n",
    "\n",
    "TME_filtered$Group <- factor(TME_filtered$Group)"
   ]
  },
  {
   "cell_type": "code",
   "execution_count": 142,
   "id": "b2d17415",
   "metadata": {
    "vscode": {
     "languageId": "r"
    }
   },
   "outputs": [
    {
     "data": {
      "text/html": [
       "<strong>agg_record_1757523092:</strong> 2"
      ],
      "text/latex": [
       "\\textbf{agg\\textbackslash{}\\_record\\textbackslash{}\\_1757523092:} 2"
      ],
      "text/markdown": [
       "**agg_record_1757523092:** 2"
      ],
      "text/plain": [
       "agg_record_1757523092 \n",
       "                    2 "
      ]
     },
     "metadata": {},
     "output_type": "display_data"
    }
   ],
   "source": [
    "library(ggplot2)\n",
    "library(ggpubr)\n",
    "# options(repr.plot.width = 18, repr.plot.height = 10)\n",
    "\n",
    "pdf(paste0(\"bulk1_geom_boxplot_\", celltype, \".pdf\"), height = 10,width = 18) #单位是英寸\n",
    "ggplot(TME_filtered, aes(x = Celltype, y = Composition)) + \n",
    "  geom_boxplot(aes(fill = Group),\n",
    "               position = position_dodge(0.5),\n",
    "               width = 0.5,\n",
    "               outlier.alpha = 0) + \n",
    "  scale_fill_manual(values = c(\"#1CB4B8\", \"#EB7369\")) +\n",
    "  theme_classic() +\n",
    "  theme(\n",
    "    text = element_text(size = 16),\n",
    "    axis.text = element_text(size = 16),\n",
    "    axis.title = element_text(size = 16),\n",
    "    legend.text = element_text(size = 16),\n",
    "    legend.title = element_text(size = 16),\n",
    "    plot.title = element_text(size = 16, face=\"bold\", hjust = 0.5)\n",
    "  ) +\n",
    "  stat_compare_means(\n",
    "    aes(group = Group),\n",
    "    label = \"p.signif\",\n",
    "    method = \"wilcox.test\",\n",
    "    hide.ns = FALSE,\n",
    "    size = 6   # <-- 调整显著性标记的字体大小\n",
    "  )\n",
    "dev.off()\n",
    "# 保存图片\n",
    "# ggsave(\"Step1.CibersortX_group.pdf\", height = 10, width = 18, units = \"cm\")\n"
   ]
  },
  {
   "cell_type": "code",
   "execution_count": null,
   "id": "7c028f41",
   "metadata": {
    "vscode": {
     "languageId": "r"
    }
   },
   "outputs": [],
   "source": [
    "sss"
   ]
  },
  {
   "cell_type": "markdown",
   "id": "ecc51168",
   "metadata": {},
   "source": [
    "### ————————之选bulk数据中的一部分——————"
   ]
  },
  {
   "cell_type": "code",
   "execution_count": null,
   "id": "54c103e6",
   "metadata": {
    "vscode": {
     "languageId": "r"
    }
   },
   "outputs": [],
   "source": [
    "plot_order = TME_filtered %>% \n",
    "  group_by(Celltype) %>% \n",
    "  summarise(m = median(Composition)) %>% \n",
    "  arrange(desc(m)) %>% \n",
    "  pull(Celltype)\n",
    "plot_order\n",
    "\n",
    "TME_filtered$Celltype = factor(TME_filtered$Celltype,levels = plot_order)\n",
    "\n",
    "TME_filtered$Group <- factor(TME_filtered$Group)"
   ]
  },
  {
   "cell_type": "code",
   "execution_count": 116,
   "id": "45617a81",
   "metadata": {
    "vscode": {
     "languageId": "r"
    }
   },
   "outputs": [
    {
     "data": {
      "text/html": [
       "<strong>agg_record_1824533346:</strong> 2"
      ],
      "text/latex": [
       "\\textbf{agg\\textbackslash{}\\_record\\textbackslash{}\\_1824533346:} 2"
      ],
      "text/markdown": [
       "**agg_record_1824533346:** 2"
      ],
      "text/plain": [
       "agg_record_1824533346 \n",
       "                    2 "
      ]
     },
     "metadata": {},
     "output_type": "display_data"
    }
   ],
   "source": [
    "library(ggplot2)\n",
    "library(ggpubr)\n",
    "# options(repr.plot.width = 18, repr.plot.height = 10)\n",
    "\n",
    "pdf(paste0(\"geom_boxplot_\", celltype, \".pdf\"), height = 10,width = 18) #单位是英寸\n",
    "ggplot(TME_filtered, aes(x = Celltype, y = Composition)) + \n",
    "  geom_boxplot(aes(fill = Group),\n",
    "               position = position_dodge(0.5),\n",
    "               width = 0.5,\n",
    "               outlier.alpha = 0) + \n",
    "  scale_fill_manual(values = c(\"#1CB4B8\", \"#EB7369\")) +\n",
    "  theme_classic() +\n",
    "  theme(\n",
    "    text = element_text(size = 16),\n",
    "    axis.text = element_text(size = 16),\n",
    "    axis.title = element_text(size = 16),\n",
    "    legend.text = element_text(size = 16),\n",
    "    legend.title = element_text(size = 16),\n",
    "    plot.title = element_text(size = 16, face=\"bold\", hjust = 0.5)\n",
    "  ) +\n",
    "  stat_compare_means(\n",
    "    aes(group = Group),\n",
    "    label = \"p.signif\",\n",
    "    method = \"wilcox.test\",\n",
    "    hide.ns = FALSE,\n",
    "    size = 6   # <-- 调整显著性标记的字体大小\n",
    "  )\n",
    "dev.off()\n",
    "# 保存图片\n",
    "# ggsave(\"Step1.CibersortX_group.pdf\", height = 10, width = 18, units = \"cm\")\n"
   ]
  },
  {
   "cell_type": "markdown",
   "id": "cb8031bd",
   "metadata": {},
   "source": [
    "#### 6.2 生存分析(没有time不分析)"
   ]
  },
  {
   "cell_type": "markdown",
   "id": "7ee8c897",
   "metadata": {},
   "source": [
    "#### 6.3 Bulk反卷积结果总览(需要根据geom_boxplot选显著的细胞亚型)"
   ]
  },
  {
   "cell_type": "code",
   "execution_count": 107,
   "id": "d9f5ffdb",
   "metadata": {
    "vscode": {
     "languageId": "r"
    }
   },
   "outputs": [],
   "source": [
    "sig_cell = \"_c1\""
   ]
  },
  {
   "cell_type": "code",
   "execution_count": 91,
   "id": "c4806caf",
   "metadata": {
    "vscode": {
     "languageId": "r"
    }
   },
   "outputs": [
    {
     "data": {
      "text/html": [
       "<style>\n",
       ".list-inline {list-style: none; margin:0; padding: 0}\n",
       ".list-inline>li {display: inline-block}\n",
       ".list-inline>li:not(:last-child)::after {content: \"\\00b7\"; padding: 0 .5ex}\n",
       "</style>\n",
       "<ol class=list-inline><li>GSE193876_LPS_48h_1</li><li>GSE193876_LPS_48h_4</li><li>GSE193876_LPS_48h_2</li><li>GSE193876_LPS_48h_3</li><li>GSE193876_CTRL_1</li><li>GSE193876_CTRL_2</li></ol>\n",
       "\n",
       "<details>\n",
       "\t<summary style=display:list-item;cursor:pointer>\n",
       "\t\t<strong>Levels</strong>:\n",
       "\t</summary>\n",
       "\t<style>\n",
       "\t.list-inline {list-style: none; margin:0; padding: 0}\n",
       "\t.list-inline>li {display: inline-block}\n",
       "\t.list-inline>li:not(:last-child)::after {content: \"\\00b7\"; padding: 0 .5ex}\n",
       "\t</style>\n",
       "\t<ol class=list-inline><li>'GSE247266_CTRL_2'</li><li>'GSE193876_CTRL_4'</li><li>'GSE193876_CTRL_2'</li><li>'GSE193876_CTRL_1'</li><li>'GSE247266_CTRL_3'</li><li>'GSE193876_CTRL_3'</li><li>'GSE193876_LPS_48h_4'</li><li>'GSE193876_LPS_48h_2'</li><li>'GSE193876_LPS_48h_3'</li><li>'GSE247266_LPS_3'</li><li>'GSE247266_CTRL_1'</li><li>'GSE193876_LPS_48h_1'</li><li>'GSE247266_LPS_1'</li><li>'GSE247266_LPS_2'</li></ol>\n",
       "</details>"
      ],
      "text/latex": [
       "\\begin{enumerate*}\n",
       "\\item GSE193876\\_LPS\\_48h\\_1\n",
       "\\item GSE193876\\_LPS\\_48h\\_4\n",
       "\\item GSE193876\\_LPS\\_48h\\_2\n",
       "\\item GSE193876\\_LPS\\_48h\\_3\n",
       "\\item GSE193876\\_CTRL\\_1\n",
       "\\item GSE193876\\_CTRL\\_2\n",
       "\\end{enumerate*}\n",
       "\n",
       "\\emph{Levels}: \\begin{enumerate*}\n",
       "\\item 'GSE247266\\_CTRL\\_2'\n",
       "\\item 'GSE193876\\_CTRL\\_4'\n",
       "\\item 'GSE193876\\_CTRL\\_2'\n",
       "\\item 'GSE193876\\_CTRL\\_1'\n",
       "\\item 'GSE247266\\_CTRL\\_3'\n",
       "\\item 'GSE193876\\_CTRL\\_3'\n",
       "\\item 'GSE193876\\_LPS\\_48h\\_4'\n",
       "\\item 'GSE193876\\_LPS\\_48h\\_2'\n",
       "\\item 'GSE193876\\_LPS\\_48h\\_3'\n",
       "\\item 'GSE247266\\_LPS\\_3'\n",
       "\\item 'GSE247266\\_CTRL\\_1'\n",
       "\\item 'GSE193876\\_LPS\\_48h\\_1'\n",
       "\\item 'GSE247266\\_LPS\\_1'\n",
       "\\item 'GSE247266\\_LPS\\_2'\n",
       "\\end{enumerate*}\n"
      ],
      "text/markdown": [
       "1. GSE193876_LPS_48h_1\n",
       "2. GSE193876_LPS_48h_4\n",
       "3. GSE193876_LPS_48h_2\n",
       "4. GSE193876_LPS_48h_3\n",
       "5. GSE193876_CTRL_1\n",
       "6. GSE193876_CTRL_2\n",
       "\n",
       "\n",
       "\n",
       "**Levels**: 1. 'GSE247266_CTRL_2'\n",
       "2. 'GSE193876_CTRL_4'\n",
       "3. 'GSE193876_CTRL_2'\n",
       "4. 'GSE193876_CTRL_1'\n",
       "5. 'GSE247266_CTRL_3'\n",
       "6. 'GSE193876_CTRL_3'\n",
       "7. 'GSE193876_LPS_48h_4'\n",
       "8. 'GSE193876_LPS_48h_2'\n",
       "9. 'GSE193876_LPS_48h_3'\n",
       "10. 'GSE247266_LPS_3'\n",
       "11. 'GSE247266_CTRL_1'\n",
       "12. 'GSE193876_LPS_48h_1'\n",
       "13. 'GSE247266_LPS_1'\n",
       "14. 'GSE247266_LPS_2'\n",
       "\n",
       "\n"
      ],
      "text/plain": [
       "[1] GSE193876_LPS_48h_1 GSE193876_LPS_48h_4 GSE193876_LPS_48h_2\n",
       "[4] GSE193876_LPS_48h_3 GSE193876_CTRL_1    GSE193876_CTRL_2   \n",
       "14 Levels: GSE247266_CTRL_2 GSE193876_CTRL_4 ... GSE247266_LPS_2"
      ]
     },
     "metadata": {},
     "output_type": "display_data"
    }
   ],
   "source": [
    "# 这里需要指定Celltype\n",
    "mypalette <- colorRampPalette(brewer.pal(8,\"Set1\"))\n",
    "plot_order = filter(TME_filtered, Celltype == paste0(celltype,sig_cell)) %>% \n",
    "  arrange(desc(Composition)) %>% \n",
    "  pull(Sample)\n",
    "head(plot_order)"
   ]
  },
  {
   "cell_type": "code",
   "execution_count": 92,
   "id": "187f5447",
   "metadata": {
    "vscode": {
     "languageId": "r"
    }
   },
   "outputs": [
    {
     "data": {
      "text/html": [
       "<strong>agg_record_303496278:</strong> 2"
      ],
      "text/latex": [
       "\\textbf{agg\\textbackslash{}\\_record\\textbackslash{}\\_303496278:} 2"
      ],
      "text/markdown": [
       "**agg_record_303496278:** 2"
      ],
      "text/plain": [
       "agg_record_303496278 \n",
       "                   2 "
      ]
     },
     "metadata": {},
     "output_type": "display_data"
    }
   ],
   "source": [
    "pdf(paste0(\"geom_bar_\", celltype,sig_cell, \".pdf\"), height = 10,width = 12) #单位是英寸\n",
    "\n",
    "# 将 Sample 按 plot_order 排序\n",
    "TME_filtered$Sample <- factor(TME_filtered$Sample, levels = plot_order)\n",
    "\n",
    "ggplot(TME_filtered, aes(Sample, Composition, fill = Celltype)) + \n",
    "  geom_bar(stat = \"identity\") +\n",
    "  labs(fill = \"Cell Type\", x = \"\", y = \"Estimated Proportion\") + \n",
    "  theme_bw() +\n",
    "  theme(\n",
    "    axis.text.x = element_text(angle = 45, hjust = 1, size = 10),  # 显示 x 轴标签并旋转45°\n",
    "    axis.ticks.x = element_line(),                                   # 显示刻度线\n",
    "    legend.position = \"bottom\"\n",
    "  ) + \n",
    "  scale_y_continuous(expand = c(0.01, 0)) +\n",
    "  scale_fill_manual(values = mypalette(22))\n",
    "\n",
    "dev.off()\n"
   ]
  },
  {
   "cell_type": "markdown",
   "id": "9ee15f75",
   "metadata": {},
   "source": [
    "## 6.4 相关性分析-可选可选（散点图每个点表示一个样本）\n",
    "TME_data_sub为所有样本，用的融合前的数据"
   ]
  },
  {
   "cell_type": "code",
   "execution_count": 93,
   "id": "f8270153",
   "metadata": {
    "vscode": {
     "languageId": "r"
    }
   },
   "outputs": [],
   "source": [
    "library(psych)"
   ]
  },
  {
   "cell_type": "code",
   "execution_count": 94,
   "id": "4b0c918b",
   "metadata": {
    "vscode": {
     "languageId": "r"
    }
   },
   "outputs": [],
   "source": [
    "# 选数值列\n",
    "library(dplyr)\n",
    "\n",
    "\n",
    "numeric_data <- TME_data_sub %>% dplyr::select(where(is.numeric))\n",
    "\n",
    "\n",
    "numeric_data <- numeric_data %>%\n",
    "  select(where(~ any(. != 0)))\n",
    "\n",
    "\n",
    "# 计算 Spearman 相关\n",
    "library(psych)\n",
    "corda.cell.type <- corr.test(numeric_data, numeric_data, method = \"sp\")\n",
    "\n",
    "# 转成矩阵\n",
    "r.df <- as.matrix(corda.cell.type$r)\n",
    "p.df <- as.matrix(corda.cell.type$p.adj)\n"
   ]
  },
  {
   "cell_type": "code",
   "execution_count": 95,
   "id": "b7ed62b5",
   "metadata": {
    "vscode": {
     "languageId": "r"
    }
   },
   "outputs": [],
   "source": [
    "# corda.cell.type <- psych::corr.test(TME_filtered, TME_filtered, method = \"sp\")\n",
    "# r.df = as.matrix(corda.cell.type$r)\n",
    "# p.df = as.matrix(corda.cell.type$p.adj)"
   ]
  },
  {
   "cell_type": "code",
   "execution_count": 96,
   "id": "bd796a61",
   "metadata": {
    "vscode": {
     "languageId": "r"
    }
   },
   "outputs": [
    {
     "data": {
      "text/html": [
       "<strong>agg_record_78443232:</strong> 2"
      ],
      "text/latex": [
       "\\textbf{agg\\textbackslash{}\\_record\\textbackslash{}\\_78443232:} 2"
      ],
      "text/markdown": [
       "**agg_record_78443232:** 2"
      ],
      "text/plain": [
       "agg_record_78443232 \n",
       "                  2 "
      ]
     },
     "metadata": {},
     "output_type": "display_data"
    }
   ],
   "source": [
    "options(repr.plot.width = 10, repr.plot.height = 10)\n",
    "\n",
    "pdf(paste0(\"corrplot_\", celltype, \".pdf\"),height = 10,width = 10) #单位是英寸\n",
    "\n",
    "corrplot(as.matrix(r.df),\n",
    "         method = \"color\",\n",
    "         col=rev(COL2(\"RdBu\", 200)),\n",
    "         type = c(\"upper\"),\n",
    "         p.mat = p.df,#是否添加了P值，如果是NULL，则sig.level到pch.cex参数无效\n",
    "         sig.level = 0.05,#P值检验水平设置\n",
    "         insig = c(\"label_sig\"),\n",
    "         pch.cex = 1, \n",
    "         tl.col = \"black\",\n",
    "         tl.cex = 0.8,#文本标签的大小\n",
    "         na.label = \"\",#NA值如何表示\n",
    "         na.label.col = \"#bcb9b5\",#表示NA值符号的颜色\n",
    ")\n",
    "dev.off()"
   ]
  },
  {
   "cell_type": "markdown",
   "id": "663581d4",
   "metadata": {},
   "source": [
    "### 选择上一步有相关性的细胞亚型"
   ]
  },
  {
   "cell_type": "code",
   "execution_count": 97,
   "id": "1d834067",
   "metadata": {
    "vscode": {
     "languageId": "r"
    }
   },
   "outputs": [
    {
     "data": {
      "text/html": [
       "<strong>agg_record_2125625350:</strong> 2"
      ],
      "text/latex": [
       "\\textbf{agg\\textbackslash{}\\_record\\textbackslash{}\\_2125625350:} 2"
      ],
      "text/markdown": [
       "**agg_record_2125625350:** 2"
      ],
      "text/plain": [
       "agg_record_2125625350 \n",
       "                    2 "
      ]
     },
     "metadata": {},
     "output_type": "display_data"
    }
   ],
   "source": [
    "options(repr.plot.width = 10, repr.plot.height = 10)\n",
    "\n",
    "pdf(paste0(\"geom_point_\", celltype, \".pdf\"),height = 10,width = 10) #单位是英寸\n",
    "\n",
    "ggplot(data = TME_data_sub, aes(x = Epithelial_c1, y = Epithelial_c4)) + \n",
    "  geom_point(size=1,show.legend=T)+ \n",
    "  labs(title = \"Epithelial_c1 vs. Epithelial_c4\", x=\"Epithelial_c1 (%)\",y=\"Epithelial_c4 (%)\") + \n",
    "  geom_smooth(method=\"lm\",formula= 'y ~ x',color=\"red\",linetype=2,)+theme_bw()+ \n",
    "  stat_cor(method = \"sp\",\n",
    "           label.sep = \"\\n\",\n",
    "           label.y.npc = \"top\",\n",
    "           size = 2.8) +\n",
    "  mytheme\n",
    "\n",
    "dev.off()"
   ]
  },
  {
   "cell_type": "code",
   "execution_count": 40,
   "id": "1a0f81c6",
   "metadata": {
    "vscode": {
     "languageId": "r"
    }
   },
   "outputs": [
    {
     "data": {
      "text/html": [
       "<table class=\"dataframe\">\n",
       "<caption>A data.frame: 6 × 10</caption>\n",
       "<thead>\n",
       "\t<tr><th></th><th scope=col>Endothelial_c0</th><th scope=col>Endothelial_c2</th><th scope=col>Endothelial_c6</th><th scope=col>Endothelial_c9</th><th scope=col>Endothelial_c3</th><th scope=col>Endothelial_c7</th><th scope=col>Endothelial_c4</th><th scope=col>Endothelial_c8</th><th scope=col>Endothelial_c1</th><th scope=col>Endothelial_c5</th></tr>\n",
       "\t<tr><th></th><th scope=col>&lt;dbl&gt;</th><th scope=col>&lt;dbl&gt;</th><th scope=col>&lt;dbl&gt;</th><th scope=col>&lt;dbl&gt;</th><th scope=col>&lt;int&gt;</th><th scope=col>&lt;dbl&gt;</th><th scope=col>&lt;dbl&gt;</th><th scope=col>&lt;dbl&gt;</th><th scope=col>&lt;int&gt;</th><th scope=col>&lt;int&gt;</th></tr>\n",
       "</thead>\n",
       "<tbody>\n",
       "\t<tr><th scope=row>GSE193876_CTRL_1</th><td>0.16508557</td><td>0.2031086</td><td>0.028903413</td><td>0.00000000</td><td>0</td><td>0.023825665</td><td>0.1201018</td><td>0.4589750</td><td>0</td><td>0</td></tr>\n",
       "\t<tr><th scope=row>GSE193876_CTRL_2</th><td>0.06703899</td><td>0.1298213</td><td>0.043214408</td><td>0.00000000</td><td>0</td><td>0.021758063</td><td>0.2096952</td><td>0.5284720</td><td>0</td><td>0</td></tr>\n",
       "\t<tr><th scope=row>GSE193876_CTRL_3</th><td>0.09123348</td><td>0.1744604</td><td>0.037153710</td><td>0.00000000</td><td>0</td><td>0.021783053</td><td>0.1572604</td><td>0.5181090</td><td>0</td><td>0</td></tr>\n",
       "\t<tr><th scope=row>GSE193876_CTRL_4</th><td>0.06427141</td><td>0.1595240</td><td>0.102830970</td><td>0.00000000</td><td>0</td><td>0.023722325</td><td>0.1104123</td><td>0.5392390</td><td>0</td><td>0</td></tr>\n",
       "\t<tr><th scope=row>GSE193876_LPS_48h_1</th><td>0.08979399</td><td>0.1464978</td><td>0.009746823</td><td>0.00000000</td><td>0</td><td>0.007954339</td><td>0.3746053</td><td>0.3714017</td><td>0</td><td>0</td></tr>\n",
       "\t<tr><th scope=row>GSE193876_LPS_48h_2</th><td>0.12056269</td><td>0.1048283</td><td>0.012534364</td><td>0.00611056</td><td>0</td><td>0.010712608</td><td>0.3981697</td><td>0.3470817</td><td>0</td><td>0</td></tr>\n",
       "</tbody>\n",
       "</table>\n"
      ],
      "text/latex": [
       "A data.frame: 6 × 10\n",
       "\\begin{tabular}{r|llllllllll}\n",
       "  & Endothelial\\_c0 & Endothelial\\_c2 & Endothelial\\_c6 & Endothelial\\_c9 & Endothelial\\_c3 & Endothelial\\_c7 & Endothelial\\_c4 & Endothelial\\_c8 & Endothelial\\_c1 & Endothelial\\_c5\\\\\n",
       "  & <dbl> & <dbl> & <dbl> & <dbl> & <int> & <dbl> & <dbl> & <dbl> & <int> & <int>\\\\\n",
       "\\hline\n",
       "\tGSE193876\\_CTRL\\_1 & 0.16508557 & 0.2031086 & 0.028903413 & 0.00000000 & 0 & 0.023825665 & 0.1201018 & 0.4589750 & 0 & 0\\\\\n",
       "\tGSE193876\\_CTRL\\_2 & 0.06703899 & 0.1298213 & 0.043214408 & 0.00000000 & 0 & 0.021758063 & 0.2096952 & 0.5284720 & 0 & 0\\\\\n",
       "\tGSE193876\\_CTRL\\_3 & 0.09123348 & 0.1744604 & 0.037153710 & 0.00000000 & 0 & 0.021783053 & 0.1572604 & 0.5181090 & 0 & 0\\\\\n",
       "\tGSE193876\\_CTRL\\_4 & 0.06427141 & 0.1595240 & 0.102830970 & 0.00000000 & 0 & 0.023722325 & 0.1104123 & 0.5392390 & 0 & 0\\\\\n",
       "\tGSE193876\\_LPS\\_48h\\_1 & 0.08979399 & 0.1464978 & 0.009746823 & 0.00000000 & 0 & 0.007954339 & 0.3746053 & 0.3714017 & 0 & 0\\\\\n",
       "\tGSE193876\\_LPS\\_48h\\_2 & 0.12056269 & 0.1048283 & 0.012534364 & 0.00611056 & 0 & 0.010712608 & 0.3981697 & 0.3470817 & 0 & 0\\\\\n",
       "\\end{tabular}\n"
      ],
      "text/markdown": [
       "\n",
       "A data.frame: 6 × 10\n",
       "\n",
       "| <!--/--> | Endothelial_c0 &lt;dbl&gt; | Endothelial_c2 &lt;dbl&gt; | Endothelial_c6 &lt;dbl&gt; | Endothelial_c9 &lt;dbl&gt; | Endothelial_c3 &lt;int&gt; | Endothelial_c7 &lt;dbl&gt; | Endothelial_c4 &lt;dbl&gt; | Endothelial_c8 &lt;dbl&gt; | Endothelial_c1 &lt;int&gt; | Endothelial_c5 &lt;int&gt; |\n",
       "|---|---|---|---|---|---|---|---|---|---|---|\n",
       "| GSE193876_CTRL_1 | 0.16508557 | 0.2031086 | 0.028903413 | 0.00000000 | 0 | 0.023825665 | 0.1201018 | 0.4589750 | 0 | 0 |\n",
       "| GSE193876_CTRL_2 | 0.06703899 | 0.1298213 | 0.043214408 | 0.00000000 | 0 | 0.021758063 | 0.2096952 | 0.5284720 | 0 | 0 |\n",
       "| GSE193876_CTRL_3 | 0.09123348 | 0.1744604 | 0.037153710 | 0.00000000 | 0 | 0.021783053 | 0.1572604 | 0.5181090 | 0 | 0 |\n",
       "| GSE193876_CTRL_4 | 0.06427141 | 0.1595240 | 0.102830970 | 0.00000000 | 0 | 0.023722325 | 0.1104123 | 0.5392390 | 0 | 0 |\n",
       "| GSE193876_LPS_48h_1 | 0.08979399 | 0.1464978 | 0.009746823 | 0.00000000 | 0 | 0.007954339 | 0.3746053 | 0.3714017 | 0 | 0 |\n",
       "| GSE193876_LPS_48h_2 | 0.12056269 | 0.1048283 | 0.012534364 | 0.00611056 | 0 | 0.010712608 | 0.3981697 | 0.3470817 | 0 | 0 |\n",
       "\n"
      ],
      "text/plain": [
       "                    Endothelial_c0 Endothelial_c2 Endothelial_c6 Endothelial_c9\n",
       "GSE193876_CTRL_1    0.16508557     0.2031086      0.028903413    0.00000000    \n",
       "GSE193876_CTRL_2    0.06703899     0.1298213      0.043214408    0.00000000    \n",
       "GSE193876_CTRL_3    0.09123348     0.1744604      0.037153710    0.00000000    \n",
       "GSE193876_CTRL_4    0.06427141     0.1595240      0.102830970    0.00000000    \n",
       "GSE193876_LPS_48h_1 0.08979399     0.1464978      0.009746823    0.00000000    \n",
       "GSE193876_LPS_48h_2 0.12056269     0.1048283      0.012534364    0.00611056    \n",
       "                    Endothelial_c3 Endothelial_c7 Endothelial_c4 Endothelial_c8\n",
       "GSE193876_CTRL_1    0              0.023825665    0.1201018      0.4589750     \n",
       "GSE193876_CTRL_2    0              0.021758063    0.2096952      0.5284720     \n",
       "GSE193876_CTRL_3    0              0.021783053    0.1572604      0.5181090     \n",
       "GSE193876_CTRL_4    0              0.023722325    0.1104123      0.5392390     \n",
       "GSE193876_LPS_48h_1 0              0.007954339    0.3746053      0.3714017     \n",
       "GSE193876_LPS_48h_2 0              0.010712608    0.3981697      0.3470817     \n",
       "                    Endothelial_c1 Endothelial_c5\n",
       "GSE193876_CTRL_1    0              0             \n",
       "GSE193876_CTRL_2    0              0             \n",
       "GSE193876_CTRL_3    0              0             \n",
       "GSE193876_CTRL_4    0              0             \n",
       "GSE193876_LPS_48h_1 0              0             \n",
       "GSE193876_LPS_48h_2 0              0             "
      ]
     },
     "metadata": {},
     "output_type": "display_data"
    }
   ],
   "source": [
    "head(TME_data_sub)"
   ]
  },
  {
   "cell_type": "code",
   "execution_count": null,
   "id": "0d4a78df",
   "metadata": {
    "vscode": {
     "languageId": "r"
    }
   },
   "outputs": [],
   "source": []
  }
 ],
 "metadata": {
  "kernelspec": {
   "display_name": "R",
   "language": "R",
   "name": "ir"
  },
  "language_info": {
   "codemirror_mode": "r",
   "file_extension": ".r",
   "mimetype": "text/x-r-source",
   "name": "R",
   "pygments_lexer": "r",
   "version": "4.4.3"
  }
 },
 "nbformat": 4,
 "nbformat_minor": 5
}
