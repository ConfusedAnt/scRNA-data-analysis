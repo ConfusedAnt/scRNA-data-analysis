{
 "cells": [
  {
   "cell_type": "markdown",
   "metadata": {},
   "source": [
    "### 读取不同的Bulk数据"
   ]
  },
  {
   "cell_type": "code",
   "execution_count": 16,
   "metadata": {
    "vscode": {
     "languageId": "r"
    }
   },
   "outputs": [
    {
     "data": {
      "text/html": [
       "<table class=\"dataframe\">\n",
       "<caption>A data.frame: 6 × 43</caption>\n",
       "<thead>\n",
       "\t<tr><th></th><th scope=col>gene_name</th><th scope=col>fpkm_CTRL_1</th><th scope=col>fpkm_CTRL_2</th><th scope=col>fpkm_CTRL_3</th><th scope=col>fpkm_CTRL_4</th><th scope=col>fpkm_LPS_12h_1</th><th scope=col>fpkm_LPS_12h_2</th><th scope=col>fpkm_LPS_12h_3</th><th scope=col>fpkm_LPS_12h_4</th><th scope=col>fpkm_LPS_24h_1</th><th scope=col>⋯</th><th scope=col>control2.count</th><th scope=col>control2.FPKM</th><th scope=col>control3.count</th><th scope=col>control3.FPKM</th><th scope=col>LPS1.count</th><th scope=col>LPS1.FPKM</th><th scope=col>LPS2.count</th><th scope=col>LPS2.FPKM</th><th scope=col>LPS3.count</th><th scope=col>LPS3.FPKM</th></tr>\n",
       "\t<tr><th></th><th scope=col>&lt;chr&gt;</th><th scope=col>&lt;dbl&gt;</th><th scope=col>&lt;dbl&gt;</th><th scope=col>&lt;dbl&gt;</th><th scope=col>&lt;dbl&gt;</th><th scope=col>&lt;dbl&gt;</th><th scope=col>&lt;dbl&gt;</th><th scope=col>&lt;dbl&gt;</th><th scope=col>&lt;dbl&gt;</th><th scope=col>&lt;dbl&gt;</th><th scope=col>⋯</th><th scope=col>&lt;dbl&gt;</th><th scope=col>&lt;dbl&gt;</th><th scope=col>&lt;dbl&gt;</th><th scope=col>&lt;dbl&gt;</th><th scope=col>&lt;dbl&gt;</th><th scope=col>&lt;dbl&gt;</th><th scope=col>&lt;dbl&gt;</th><th scope=col>&lt;dbl&gt;</th><th scope=col>&lt;dbl&gt;</th><th scope=col>&lt;dbl&gt;</th></tr>\n",
       "</thead>\n",
       "<tbody>\n",
       "\t<tr><th scope=row>1</th><td>0610009B22Rik</td><td>16.82</td><td>16.33</td><td>16.65</td><td>18.28</td><td>16.21</td><td>15.19</td><td>14.28</td><td>13.91</td><td>15.44</td><td>⋯</td><td> 115</td><td> 11.98</td><td>  95</td><td>  9.78</td><td> 20</td><td> 2.08</td><td>  80</td><td>  8.20</td><td>  73</td><td>  7.40</td></tr>\n",
       "\t<tr><th scope=row>2</th><td>0610010F05Rik</td><td> 5.96</td><td> 7.00</td><td> 6.11</td><td> 5.85</td><td> 4.30</td><td> 5.18</td><td> 4.22</td><td> 4.65</td><td> 6.53</td><td>⋯</td><td> 121</td><td>  1.69</td><td> 169</td><td>  2.45</td><td>251</td><td> 4.35</td><td> 169</td><td>  2.52</td><td> 115</td><td>  1.63</td></tr>\n",
       "\t<tr><th scope=row>3</th><td>0610010K14Rik</td><td>40.64</td><td>40.94</td><td>33.15</td><td>39.02</td><td>35.14</td><td>35.58</td><td>38.09</td><td>35.75</td><td>37.13</td><td>⋯</td><td>1045</td><td>109.93</td><td>1671</td><td>172.15</td><td>719</td><td>77.28</td><td>1427</td><td>152.60</td><td>1382</td><td>142.58</td></tr>\n",
       "\t<tr><th scope=row>4</th><td>0610030E20Rik</td><td>13.23</td><td>14.48</td><td>13.86</td><td>12.90</td><td>11.92</td><td>11.24</td><td> 9.67</td><td>12.19</td><td>13.99</td><td>⋯</td><td> 254</td><td>  3.34</td><td> 342</td><td>  4.41</td><td>119</td><td> 1.61</td><td> 282</td><td>  3.71</td><td> 310</td><td>  3.97</td></tr>\n",
       "\t<tr><th scope=row>5</th><td>0610040J01Rik</td><td> 9.03</td><td> 9.58</td><td> 9.25</td><td>11.77</td><td>13.37</td><td>11.66</td><td>13.21</td><td>12.30</td><td> 6.33</td><td>⋯</td><td> 247</td><td>  8.70</td><td> 157</td><td>  5.47</td><td> 18</td><td> 0.65</td><td> 115</td><td>  4.08</td><td> 164</td><td>  5.66</td></tr>\n",
       "\t<tr><th scope=row>6</th><td>1110002E22Rik</td><td> 0.03</td><td> 0.08</td><td> 0.15</td><td> 0.29</td><td> 0.04</td><td> 0.05</td><td> 0.01</td><td> 0.01</td><td> 0.08</td><td>⋯</td><td>   2</td><td>  0.01</td><td>   0</td><td>  0.00</td><td>  3</td><td> 0.02</td><td>   3</td><td>  0.02</td><td>   3</td><td>  0.02</td></tr>\n",
       "</tbody>\n",
       "</table>\n"
      ],
      "text/latex": [
       "A data.frame: 6 × 43\n",
       "\\begin{tabular}{r|lllllllllllllllllllll}\n",
       "  & gene\\_name & fpkm\\_CTRL\\_1 & fpkm\\_CTRL\\_2 & fpkm\\_CTRL\\_3 & fpkm\\_CTRL\\_4 & fpkm\\_LPS\\_12h\\_1 & fpkm\\_LPS\\_12h\\_2 & fpkm\\_LPS\\_12h\\_3 & fpkm\\_LPS\\_12h\\_4 & fpkm\\_LPS\\_24h\\_1 & ⋯ & control2.count & control2.FPKM & control3.count & control3.FPKM & LPS1.count & LPS1.FPKM & LPS2.count & LPS2.FPKM & LPS3.count & LPS3.FPKM\\\\\n",
       "  & <chr> & <dbl> & <dbl> & <dbl> & <dbl> & <dbl> & <dbl> & <dbl> & <dbl> & <dbl> & ⋯ & <dbl> & <dbl> & <dbl> & <dbl> & <dbl> & <dbl> & <dbl> & <dbl> & <dbl> & <dbl>\\\\\n",
       "\\hline\n",
       "\t1 & 0610009B22Rik & 16.82 & 16.33 & 16.65 & 18.28 & 16.21 & 15.19 & 14.28 & 13.91 & 15.44 & ⋯ &  115 &  11.98 &   95 &   9.78 &  20 &  2.08 &   80 &   8.20 &   73 &   7.40\\\\\n",
       "\t2 & 0610010F05Rik &  5.96 &  7.00 &  6.11 &  5.85 &  4.30 &  5.18 &  4.22 &  4.65 &  6.53 & ⋯ &  121 &   1.69 &  169 &   2.45 & 251 &  4.35 &  169 &   2.52 &  115 &   1.63\\\\\n",
       "\t3 & 0610010K14Rik & 40.64 & 40.94 & 33.15 & 39.02 & 35.14 & 35.58 & 38.09 & 35.75 & 37.13 & ⋯ & 1045 & 109.93 & 1671 & 172.15 & 719 & 77.28 & 1427 & 152.60 & 1382 & 142.58\\\\\n",
       "\t4 & 0610030E20Rik & 13.23 & 14.48 & 13.86 & 12.90 & 11.92 & 11.24 &  9.67 & 12.19 & 13.99 & ⋯ &  254 &   3.34 &  342 &   4.41 & 119 &  1.61 &  282 &   3.71 &  310 &   3.97\\\\\n",
       "\t5 & 0610040J01Rik &  9.03 &  9.58 &  9.25 & 11.77 & 13.37 & 11.66 & 13.21 & 12.30 &  6.33 & ⋯ &  247 &   8.70 &  157 &   5.47 &  18 &  0.65 &  115 &   4.08 &  164 &   5.66\\\\\n",
       "\t6 & 1110002E22Rik &  0.03 &  0.08 &  0.15 &  0.29 &  0.04 &  0.05 &  0.01 &  0.01 &  0.08 & ⋯ &    2 &   0.01 &    0 &   0.00 &   3 &  0.02 &    3 &   0.02 &    3 &   0.02\\\\\n",
       "\\end{tabular}\n"
      ],
      "text/markdown": [
       "\n",
       "A data.frame: 6 × 43\n",
       "\n",
       "| <!--/--> | gene_name &lt;chr&gt; | fpkm_CTRL_1 &lt;dbl&gt; | fpkm_CTRL_2 &lt;dbl&gt; | fpkm_CTRL_3 &lt;dbl&gt; | fpkm_CTRL_4 &lt;dbl&gt; | fpkm_LPS_12h_1 &lt;dbl&gt; | fpkm_LPS_12h_2 &lt;dbl&gt; | fpkm_LPS_12h_3 &lt;dbl&gt; | fpkm_LPS_12h_4 &lt;dbl&gt; | fpkm_LPS_24h_1 &lt;dbl&gt; | ⋯ ⋯ | control2.count &lt;dbl&gt; | control2.FPKM &lt;dbl&gt; | control3.count &lt;dbl&gt; | control3.FPKM &lt;dbl&gt; | LPS1.count &lt;dbl&gt; | LPS1.FPKM &lt;dbl&gt; | LPS2.count &lt;dbl&gt; | LPS2.FPKM &lt;dbl&gt; | LPS3.count &lt;dbl&gt; | LPS3.FPKM &lt;dbl&gt; |\n",
       "|---|---|---|---|---|---|---|---|---|---|---|---|---|---|---|---|---|---|---|---|---|---|\n",
       "| 1 | 0610009B22Rik | 16.82 | 16.33 | 16.65 | 18.28 | 16.21 | 15.19 | 14.28 | 13.91 | 15.44 | ⋯ |  115 |  11.98 |   95 |   9.78 |  20 |  2.08 |   80 |   8.20 |   73 |   7.40 |\n",
       "| 2 | 0610010F05Rik |  5.96 |  7.00 |  6.11 |  5.85 |  4.30 |  5.18 |  4.22 |  4.65 |  6.53 | ⋯ |  121 |   1.69 |  169 |   2.45 | 251 |  4.35 |  169 |   2.52 |  115 |   1.63 |\n",
       "| 3 | 0610010K14Rik | 40.64 | 40.94 | 33.15 | 39.02 | 35.14 | 35.58 | 38.09 | 35.75 | 37.13 | ⋯ | 1045 | 109.93 | 1671 | 172.15 | 719 | 77.28 | 1427 | 152.60 | 1382 | 142.58 |\n",
       "| 4 | 0610030E20Rik | 13.23 | 14.48 | 13.86 | 12.90 | 11.92 | 11.24 |  9.67 | 12.19 | 13.99 | ⋯ |  254 |   3.34 |  342 |   4.41 | 119 |  1.61 |  282 |   3.71 |  310 |   3.97 |\n",
       "| 5 | 0610040J01Rik |  9.03 |  9.58 |  9.25 | 11.77 | 13.37 | 11.66 | 13.21 | 12.30 |  6.33 | ⋯ |  247 |   8.70 |  157 |   5.47 |  18 |  0.65 |  115 |   4.08 |  164 |   5.66 |\n",
       "| 6 | 1110002E22Rik |  0.03 |  0.08 |  0.15 |  0.29 |  0.04 |  0.05 |  0.01 |  0.01 |  0.08 | ⋯ |    2 |   0.01 |    0 |   0.00 |   3 |  0.02 |    3 |   0.02 |    3 |   0.02 |\n",
       "\n"
      ],
      "text/plain": [
       "  gene_name     fpkm_CTRL_1 fpkm_CTRL_2 fpkm_CTRL_3 fpkm_CTRL_4 fpkm_LPS_12h_1\n",
       "1 0610009B22Rik 16.82       16.33       16.65       18.28       16.21         \n",
       "2 0610010F05Rik  5.96        7.00        6.11        5.85        4.30         \n",
       "3 0610010K14Rik 40.64       40.94       33.15       39.02       35.14         \n",
       "4 0610030E20Rik 13.23       14.48       13.86       12.90       11.92         \n",
       "5 0610040J01Rik  9.03        9.58        9.25       11.77       13.37         \n",
       "6 1110002E22Rik  0.03        0.08        0.15        0.29        0.04         \n",
       "  fpkm_LPS_12h_2 fpkm_LPS_12h_3 fpkm_LPS_12h_4 fpkm_LPS_24h_1 ⋯ control2.count\n",
       "1 15.19          14.28          13.91          15.44          ⋯  115          \n",
       "2  5.18           4.22           4.65           6.53          ⋯  121          \n",
       "3 35.58          38.09          35.75          37.13          ⋯ 1045          \n",
       "4 11.24           9.67          12.19          13.99          ⋯  254          \n",
       "5 11.66          13.21          12.30           6.33          ⋯  247          \n",
       "6  0.05           0.01           0.01           0.08          ⋯    2          \n",
       "  control2.FPKM control3.count control3.FPKM LPS1.count LPS1.FPKM LPS2.count\n",
       "1  11.98          95             9.78         20         2.08       80      \n",
       "2   1.69         169             2.45        251         4.35      169      \n",
       "3 109.93        1671           172.15        719        77.28     1427      \n",
       "4   3.34         342             4.41        119         1.61      282      \n",
       "5   8.70         157             5.47         18         0.65      115      \n",
       "6   0.01           0             0.00          3         0.02        3      \n",
       "  LPS2.FPKM LPS3.count LPS3.FPKM\n",
       "1   8.20      73         7.40   \n",
       "2   2.52     115         1.63   \n",
       "3 152.60    1382       142.58   \n",
       "4   3.71     310         3.97   \n",
       "5   4.08     164         5.66   \n",
       "6   0.02       3         0.02   "
      ]
     },
     "metadata": {},
     "output_type": "display_data"
    }
   ],
   "source": [
    "# 设置工作目录\n",
    "data_dir <- \"/home/guoliming/Brown/ALI_Gaoji/sc_bulk_analysis/1_bulk_data\"\n",
    "\n",
    "# 主文件路径\n",
    "main_file <- file.path(data_dir, \"GSE193876_gene_counts_FPKM_TPM_matrix.txt\")\n",
    "\n",
    "# 读取主文件\n",
    "main_df <- read.table(main_file, header = TRUE, sep = \"\\t\", stringsAsFactors = FALSE)\n",
    "\n",
    "# 只保留 id、gene_name 以及列名中含 fpkm_CTRL 或 fpkm_LPS 的列\n",
    "cols_to_keep <- c(\"gene_name\", grep(\"fpkm_(CTRL|LPS)\", colnames(main_df), value = TRUE))\n",
    "main_df <- main_df[, cols_to_keep]\n",
    "\n",
    "# 列出目录下所有 txt 文件（排除主文件）\n",
    "all_files <- list.files(data_dir, pattern = \"\\\\.txt$\", full.names = TRUE)\n",
    "other_files <- setdiff(all_files, main_file)\n",
    "\n",
    "# 循环读取其他文件并做合并（交集）\n",
    "for(f in other_files){\n",
    "  temp_df <- read.table(f, header = TRUE, sep = \"\\t\", stringsAsFactors = FALSE)\n",
    "  temp_df <- temp_df[, !(colnames(temp_df) %in% \"id\")]  # 删除id列\n",
    "  main_df <- merge(main_df, temp_df, by = c(\"gene_name\"))\n",
    "}\n",
    "\n",
    "# 查看合并结果\n",
    "head(main_df)\n",
    "\n",
    "# 保存结果\n",
    "write.table(main_df, file = file.path(data_dir, \"merged_intersect.txt\"), \n",
    "            sep = \"\\t\", row.names = FALSE, quote = FALSE)"
   ]
  },
  {
   "cell_type": "code",
   "execution_count": 17,
   "metadata": {
    "vscode": {
     "languageId": "r"
    }
   },
   "outputs": [
    {
     "data": {
      "text/html": [
       "17789"
      ],
      "text/latex": [
       "17789"
      ],
      "text/markdown": [
       "17789"
      ],
      "text/plain": [
       "[1] 17789"
      ]
     },
     "metadata": {},
     "output_type": "display_data"
    }
   ],
   "source": [
    "nrow(main_df)"
   ]
  },
  {
   "cell_type": "markdown",
   "metadata": {},
   "source": [
    "### 每次只需要改这个筛选规则就可以了"
   ]
  },
  {
   "cell_type": "code",
   "execution_count": 2,
   "metadata": {
    "vscode": {
     "languageId": "r"
    }
   },
   "outputs": [],
   "source": [
    "data_dir <- \"/home/guoliming/Brown/ALI_Gaoji/sc_bulk_analysis/1_bulk_data\"\n",
    "\n",
    "# 主文件路径\n",
    "bulk_file <- file.path(data_dir, \"merged_intersect.txt\")\n",
    "bulk_df <- read.table(bulk_file, header = TRUE, sep = \"\\t\", stringsAsFactors = FALSE)"
   ]
  },
  {
   "cell_type": "code",
   "execution_count": 6,
   "metadata": {
    "vscode": {
     "languageId": "r"
    }
   },
   "outputs": [
    {
     "data": {
      "text/html": [
       "<table class=\"dataframe\">\n",
       "<caption>A data.frame: 6 × 15</caption>\n",
       "<thead>\n",
       "\t<tr><th></th><th scope=col>gene_name</th><th scope=col>fpkm_CTRL_1</th><th scope=col>fpkm_CTRL_2</th><th scope=col>fpkm_CTRL_3</th><th scope=col>fpkm_CTRL_4</th><th scope=col>fpkm_LPS_48h_1</th><th scope=col>fpkm_LPS_48h_2</th><th scope=col>fpkm_LPS_48h_3</th><th scope=col>fpkm_LPS_48h_4</th><th scope=col>control1.FPKM</th><th scope=col>control2.FPKM</th><th scope=col>control3.FPKM</th><th scope=col>LPS1.FPKM</th><th scope=col>LPS2.FPKM</th><th scope=col>LPS3.FPKM</th></tr>\n",
       "\t<tr><th></th><th scope=col>&lt;chr&gt;</th><th scope=col>&lt;dbl&gt;</th><th scope=col>&lt;dbl&gt;</th><th scope=col>&lt;dbl&gt;</th><th scope=col>&lt;dbl&gt;</th><th scope=col>&lt;dbl&gt;</th><th scope=col>&lt;dbl&gt;</th><th scope=col>&lt;dbl&gt;</th><th scope=col>&lt;dbl&gt;</th><th scope=col>&lt;dbl&gt;</th><th scope=col>&lt;dbl&gt;</th><th scope=col>&lt;dbl&gt;</th><th scope=col>&lt;dbl&gt;</th><th scope=col>&lt;dbl&gt;</th><th scope=col>&lt;dbl&gt;</th></tr>\n",
       "</thead>\n",
       "<tbody>\n",
       "\t<tr><th scope=row>1</th><td>0610009B22Rik</td><td>16.82</td><td>16.33</td><td>16.65</td><td>18.28</td><td>15.49</td><td>16.27</td><td>16.01</td><td>14.30</td><td>  7.69</td><td> 11.98</td><td>  9.78</td><td> 2.08</td><td>  8.20</td><td>  7.40</td></tr>\n",
       "\t<tr><th scope=row>2</th><td>0610010F05Rik</td><td> 5.96</td><td> 7.00</td><td> 6.11</td><td> 5.85</td><td> 6.88</td><td> 7.72</td><td> 7.27</td><td> 6.91</td><td>  2.55</td><td>  1.69</td><td>  2.45</td><td> 4.35</td><td>  2.52</td><td>  1.63</td></tr>\n",
       "\t<tr><th scope=row>3</th><td>0610010K14Rik</td><td>40.64</td><td>40.94</td><td>33.15</td><td>39.02</td><td>57.35</td><td>44.37</td><td>46.53</td><td>42.54</td><td>185.63</td><td>109.93</td><td>172.15</td><td>77.28</td><td>152.60</td><td>142.58</td></tr>\n",
       "\t<tr><th scope=row>4</th><td>0610030E20Rik</td><td>13.23</td><td>14.48</td><td>13.86</td><td>12.90</td><td>11.52</td><td>13.15</td><td>13.31</td><td>11.82</td><td>  3.22</td><td>  3.34</td><td>  4.41</td><td> 1.61</td><td>  3.71</td><td>  3.97</td></tr>\n",
       "\t<tr><th scope=row>5</th><td>0610040J01Rik</td><td> 9.03</td><td> 9.58</td><td> 9.25</td><td>11.77</td><td> 5.53</td><td> 5.38</td><td> 6.50</td><td> 6.07</td><td>  2.15</td><td>  8.70</td><td>  5.47</td><td> 0.65</td><td>  4.08</td><td>  5.66</td></tr>\n",
       "\t<tr><th scope=row>6</th><td>1110002E22Rik</td><td> 0.03</td><td> 0.08</td><td> 0.15</td><td> 0.29</td><td> 0.03</td><td> 0.03</td><td> 0.06</td><td> 0.03</td><td>  0.01</td><td>  0.01</td><td>  0.00</td><td> 0.02</td><td>  0.02</td><td>  0.02</td></tr>\n",
       "</tbody>\n",
       "</table>\n"
      ],
      "text/latex": [
       "A data.frame: 6 × 15\n",
       "\\begin{tabular}{r|lllllllllllllll}\n",
       "  & gene\\_name & fpkm\\_CTRL\\_1 & fpkm\\_CTRL\\_2 & fpkm\\_CTRL\\_3 & fpkm\\_CTRL\\_4 & fpkm\\_LPS\\_48h\\_1 & fpkm\\_LPS\\_48h\\_2 & fpkm\\_LPS\\_48h\\_3 & fpkm\\_LPS\\_48h\\_4 & control1.FPKM & control2.FPKM & control3.FPKM & LPS1.FPKM & LPS2.FPKM & LPS3.FPKM\\\\\n",
       "  & <chr> & <dbl> & <dbl> & <dbl> & <dbl> & <dbl> & <dbl> & <dbl> & <dbl> & <dbl> & <dbl> & <dbl> & <dbl> & <dbl> & <dbl>\\\\\n",
       "\\hline\n",
       "\t1 & 0610009B22Rik & 16.82 & 16.33 & 16.65 & 18.28 & 15.49 & 16.27 & 16.01 & 14.30 &   7.69 &  11.98 &   9.78 &  2.08 &   8.20 &   7.40\\\\\n",
       "\t2 & 0610010F05Rik &  5.96 &  7.00 &  6.11 &  5.85 &  6.88 &  7.72 &  7.27 &  6.91 &   2.55 &   1.69 &   2.45 &  4.35 &   2.52 &   1.63\\\\\n",
       "\t3 & 0610010K14Rik & 40.64 & 40.94 & 33.15 & 39.02 & 57.35 & 44.37 & 46.53 & 42.54 & 185.63 & 109.93 & 172.15 & 77.28 & 152.60 & 142.58\\\\\n",
       "\t4 & 0610030E20Rik & 13.23 & 14.48 & 13.86 & 12.90 & 11.52 & 13.15 & 13.31 & 11.82 &   3.22 &   3.34 &   4.41 &  1.61 &   3.71 &   3.97\\\\\n",
       "\t5 & 0610040J01Rik &  9.03 &  9.58 &  9.25 & 11.77 &  5.53 &  5.38 &  6.50 &  6.07 &   2.15 &   8.70 &   5.47 &  0.65 &   4.08 &   5.66\\\\\n",
       "\t6 & 1110002E22Rik &  0.03 &  0.08 &  0.15 &  0.29 &  0.03 &  0.03 &  0.06 &  0.03 &   0.01 &   0.01 &   0.00 &  0.02 &   0.02 &   0.02\\\\\n",
       "\\end{tabular}\n"
      ],
      "text/markdown": [
       "\n",
       "A data.frame: 6 × 15\n",
       "\n",
       "| <!--/--> | gene_name &lt;chr&gt; | fpkm_CTRL_1 &lt;dbl&gt; | fpkm_CTRL_2 &lt;dbl&gt; | fpkm_CTRL_3 &lt;dbl&gt; | fpkm_CTRL_4 &lt;dbl&gt; | fpkm_LPS_48h_1 &lt;dbl&gt; | fpkm_LPS_48h_2 &lt;dbl&gt; | fpkm_LPS_48h_3 &lt;dbl&gt; | fpkm_LPS_48h_4 &lt;dbl&gt; | control1.FPKM &lt;dbl&gt; | control2.FPKM &lt;dbl&gt; | control3.FPKM &lt;dbl&gt; | LPS1.FPKM &lt;dbl&gt; | LPS2.FPKM &lt;dbl&gt; | LPS3.FPKM &lt;dbl&gt; |\n",
       "|---|---|---|---|---|---|---|---|---|---|---|---|---|---|---|---|\n",
       "| 1 | 0610009B22Rik | 16.82 | 16.33 | 16.65 | 18.28 | 15.49 | 16.27 | 16.01 | 14.30 |   7.69 |  11.98 |   9.78 |  2.08 |   8.20 |   7.40 |\n",
       "| 2 | 0610010F05Rik |  5.96 |  7.00 |  6.11 |  5.85 |  6.88 |  7.72 |  7.27 |  6.91 |   2.55 |   1.69 |   2.45 |  4.35 |   2.52 |   1.63 |\n",
       "| 3 | 0610010K14Rik | 40.64 | 40.94 | 33.15 | 39.02 | 57.35 | 44.37 | 46.53 | 42.54 | 185.63 | 109.93 | 172.15 | 77.28 | 152.60 | 142.58 |\n",
       "| 4 | 0610030E20Rik | 13.23 | 14.48 | 13.86 | 12.90 | 11.52 | 13.15 | 13.31 | 11.82 |   3.22 |   3.34 |   4.41 |  1.61 |   3.71 |   3.97 |\n",
       "| 5 | 0610040J01Rik |  9.03 |  9.58 |  9.25 | 11.77 |  5.53 |  5.38 |  6.50 |  6.07 |   2.15 |   8.70 |   5.47 |  0.65 |   4.08 |   5.66 |\n",
       "| 6 | 1110002E22Rik |  0.03 |  0.08 |  0.15 |  0.29 |  0.03 |  0.03 |  0.06 |  0.03 |   0.01 |   0.01 |   0.00 |  0.02 |   0.02 |   0.02 |\n",
       "\n"
      ],
      "text/plain": [
       "  gene_name     fpkm_CTRL_1 fpkm_CTRL_2 fpkm_CTRL_3 fpkm_CTRL_4 fpkm_LPS_48h_1\n",
       "1 0610009B22Rik 16.82       16.33       16.65       18.28       15.49         \n",
       "2 0610010F05Rik  5.96        7.00        6.11        5.85        6.88         \n",
       "3 0610010K14Rik 40.64       40.94       33.15       39.02       57.35         \n",
       "4 0610030E20Rik 13.23       14.48       13.86       12.90       11.52         \n",
       "5 0610040J01Rik  9.03        9.58        9.25       11.77        5.53         \n",
       "6 1110002E22Rik  0.03        0.08        0.15        0.29        0.03         \n",
       "  fpkm_LPS_48h_2 fpkm_LPS_48h_3 fpkm_LPS_48h_4 control1.FPKM control2.FPKM\n",
       "1 16.27          16.01          14.30            7.69         11.98       \n",
       "2  7.72           7.27           6.91            2.55          1.69       \n",
       "3 44.37          46.53          42.54          185.63        109.93       \n",
       "4 13.15          13.31          11.82            3.22          3.34       \n",
       "5  5.38           6.50           6.07            2.15          8.70       \n",
       "6  0.03           0.06           0.03            0.01          0.01       \n",
       "  control3.FPKM LPS1.FPKM LPS2.FPKM LPS3.FPKM\n",
       "1   9.78         2.08       8.20      7.40   \n",
       "2   2.45         4.35       2.52      1.63   \n",
       "3 172.15        77.28     152.60    142.58   \n",
       "4   4.41         1.61       3.71      3.97   \n",
       "5   5.47         0.65       4.08      5.66   \n",
       "6   0.00         0.02       0.02      0.02   "
      ]
     },
     "metadata": {},
     "output_type": "display_data"
    }
   ],
   "source": [
    "\n",
    "# 选择符合条件的列名\n",
    "keep_cols <- c(\"gene_name\",\n",
    "                grep(\"(CTRL|LPS[0-9]+|48h|control)\", colnames(bulk_df), value = TRUE))\n",
    "keep_cols <- keep_cols[!grepl(\"average|count\", keep_cols)]\n",
    "\n",
    "# 生成新的data.frame\n",
    "df_sub <- bulk_df[, keep_cols, drop = FALSE]\n",
    "\n",
    "# 查看结果\n",
    "head(df_sub)\n"
   ]
  },
  {
   "cell_type": "code",
   "execution_count": 23,
   "metadata": {
    "vscode": {
     "languageId": "r"
    }
   },
   "outputs": [],
   "source": [
    "#  bulk_df$gene_name <- toupper(bulk_df$gene_name)   # 转大写"
   ]
  },
  {
   "cell_type": "code",
   "execution_count": 11,
   "metadata": {
    "vscode": {
     "languageId": "r"
    }
   },
   "outputs": [],
   "source": [
    "colnames(df_sub)[colnames(df_sub) == \"gene_name\"] <- \"GeneSymbol\"\n"
   ]
  },
  {
   "cell_type": "code",
   "execution_count": 12,
   "metadata": {
    "vscode": {
     "languageId": "r"
    }
   },
   "outputs": [
    {
     "data": {
      "text/html": [
       "<table class=\"dataframe\">\n",
       "<caption>A data.frame: 6 × 15</caption>\n",
       "<thead>\n",
       "\t<tr><th></th><th scope=col>GeneSymbol</th><th scope=col>fpkm_CTRL_1</th><th scope=col>fpkm_CTRL_2</th><th scope=col>fpkm_CTRL_3</th><th scope=col>fpkm_CTRL_4</th><th scope=col>fpkm_LPS_48h_1</th><th scope=col>fpkm_LPS_48h_2</th><th scope=col>fpkm_LPS_48h_3</th><th scope=col>fpkm_LPS_48h_4</th><th scope=col>control1.FPKM</th><th scope=col>control2.FPKM</th><th scope=col>control3.FPKM</th><th scope=col>LPS1.FPKM</th><th scope=col>LPS2.FPKM</th><th scope=col>LPS3.FPKM</th></tr>\n",
       "\t<tr><th></th><th scope=col>&lt;chr&gt;</th><th scope=col>&lt;dbl&gt;</th><th scope=col>&lt;dbl&gt;</th><th scope=col>&lt;dbl&gt;</th><th scope=col>&lt;dbl&gt;</th><th scope=col>&lt;dbl&gt;</th><th scope=col>&lt;dbl&gt;</th><th scope=col>&lt;dbl&gt;</th><th scope=col>&lt;dbl&gt;</th><th scope=col>&lt;dbl&gt;</th><th scope=col>&lt;dbl&gt;</th><th scope=col>&lt;dbl&gt;</th><th scope=col>&lt;dbl&gt;</th><th scope=col>&lt;dbl&gt;</th><th scope=col>&lt;dbl&gt;</th></tr>\n",
       "</thead>\n",
       "<tbody>\n",
       "\t<tr><th scope=row>1</th><td>0610009B22Rik</td><td>16.82</td><td>16.33</td><td>16.65</td><td>18.28</td><td>15.49</td><td>16.27</td><td>16.01</td><td>14.30</td><td>  7.69</td><td> 11.98</td><td>  9.78</td><td> 2.08</td><td>  8.20</td><td>  7.40</td></tr>\n",
       "\t<tr><th scope=row>2</th><td>0610010F05Rik</td><td> 5.96</td><td> 7.00</td><td> 6.11</td><td> 5.85</td><td> 6.88</td><td> 7.72</td><td> 7.27</td><td> 6.91</td><td>  2.55</td><td>  1.69</td><td>  2.45</td><td> 4.35</td><td>  2.52</td><td>  1.63</td></tr>\n",
       "\t<tr><th scope=row>3</th><td>0610010K14Rik</td><td>40.64</td><td>40.94</td><td>33.15</td><td>39.02</td><td>57.35</td><td>44.37</td><td>46.53</td><td>42.54</td><td>185.63</td><td>109.93</td><td>172.15</td><td>77.28</td><td>152.60</td><td>142.58</td></tr>\n",
       "\t<tr><th scope=row>4</th><td>0610030E20Rik</td><td>13.23</td><td>14.48</td><td>13.86</td><td>12.90</td><td>11.52</td><td>13.15</td><td>13.31</td><td>11.82</td><td>  3.22</td><td>  3.34</td><td>  4.41</td><td> 1.61</td><td>  3.71</td><td>  3.97</td></tr>\n",
       "\t<tr><th scope=row>5</th><td>0610040J01Rik</td><td> 9.03</td><td> 9.58</td><td> 9.25</td><td>11.77</td><td> 5.53</td><td> 5.38</td><td> 6.50</td><td> 6.07</td><td>  2.15</td><td>  8.70</td><td>  5.47</td><td> 0.65</td><td>  4.08</td><td>  5.66</td></tr>\n",
       "\t<tr><th scope=row>6</th><td>1110002E22Rik</td><td> 0.03</td><td> 0.08</td><td> 0.15</td><td> 0.29</td><td> 0.03</td><td> 0.03</td><td> 0.06</td><td> 0.03</td><td>  0.01</td><td>  0.01</td><td>  0.00</td><td> 0.02</td><td>  0.02</td><td>  0.02</td></tr>\n",
       "</tbody>\n",
       "</table>\n"
      ],
      "text/latex": [
       "A data.frame: 6 × 15\n",
       "\\begin{tabular}{r|lllllllllllllll}\n",
       "  & GeneSymbol & fpkm\\_CTRL\\_1 & fpkm\\_CTRL\\_2 & fpkm\\_CTRL\\_3 & fpkm\\_CTRL\\_4 & fpkm\\_LPS\\_48h\\_1 & fpkm\\_LPS\\_48h\\_2 & fpkm\\_LPS\\_48h\\_3 & fpkm\\_LPS\\_48h\\_4 & control1.FPKM & control2.FPKM & control3.FPKM & LPS1.FPKM & LPS2.FPKM & LPS3.FPKM\\\\\n",
       "  & <chr> & <dbl> & <dbl> & <dbl> & <dbl> & <dbl> & <dbl> & <dbl> & <dbl> & <dbl> & <dbl> & <dbl> & <dbl> & <dbl> & <dbl>\\\\\n",
       "\\hline\n",
       "\t1 & 0610009B22Rik & 16.82 & 16.33 & 16.65 & 18.28 & 15.49 & 16.27 & 16.01 & 14.30 &   7.69 &  11.98 &   9.78 &  2.08 &   8.20 &   7.40\\\\\n",
       "\t2 & 0610010F05Rik &  5.96 &  7.00 &  6.11 &  5.85 &  6.88 &  7.72 &  7.27 &  6.91 &   2.55 &   1.69 &   2.45 &  4.35 &   2.52 &   1.63\\\\\n",
       "\t3 & 0610010K14Rik & 40.64 & 40.94 & 33.15 & 39.02 & 57.35 & 44.37 & 46.53 & 42.54 & 185.63 & 109.93 & 172.15 & 77.28 & 152.60 & 142.58\\\\\n",
       "\t4 & 0610030E20Rik & 13.23 & 14.48 & 13.86 & 12.90 & 11.52 & 13.15 & 13.31 & 11.82 &   3.22 &   3.34 &   4.41 &  1.61 &   3.71 &   3.97\\\\\n",
       "\t5 & 0610040J01Rik &  9.03 &  9.58 &  9.25 & 11.77 &  5.53 &  5.38 &  6.50 &  6.07 &   2.15 &   8.70 &   5.47 &  0.65 &   4.08 &   5.66\\\\\n",
       "\t6 & 1110002E22Rik &  0.03 &  0.08 &  0.15 &  0.29 &  0.03 &  0.03 &  0.06 &  0.03 &   0.01 &   0.01 &   0.00 &  0.02 &   0.02 &   0.02\\\\\n",
       "\\end{tabular}\n"
      ],
      "text/markdown": [
       "\n",
       "A data.frame: 6 × 15\n",
       "\n",
       "| <!--/--> | GeneSymbol &lt;chr&gt; | fpkm_CTRL_1 &lt;dbl&gt; | fpkm_CTRL_2 &lt;dbl&gt; | fpkm_CTRL_3 &lt;dbl&gt; | fpkm_CTRL_4 &lt;dbl&gt; | fpkm_LPS_48h_1 &lt;dbl&gt; | fpkm_LPS_48h_2 &lt;dbl&gt; | fpkm_LPS_48h_3 &lt;dbl&gt; | fpkm_LPS_48h_4 &lt;dbl&gt; | control1.FPKM &lt;dbl&gt; | control2.FPKM &lt;dbl&gt; | control3.FPKM &lt;dbl&gt; | LPS1.FPKM &lt;dbl&gt; | LPS2.FPKM &lt;dbl&gt; | LPS3.FPKM &lt;dbl&gt; |\n",
       "|---|---|---|---|---|---|---|---|---|---|---|---|---|---|---|---|\n",
       "| 1 | 0610009B22Rik | 16.82 | 16.33 | 16.65 | 18.28 | 15.49 | 16.27 | 16.01 | 14.30 |   7.69 |  11.98 |   9.78 |  2.08 |   8.20 |   7.40 |\n",
       "| 2 | 0610010F05Rik |  5.96 |  7.00 |  6.11 |  5.85 |  6.88 |  7.72 |  7.27 |  6.91 |   2.55 |   1.69 |   2.45 |  4.35 |   2.52 |   1.63 |\n",
       "| 3 | 0610010K14Rik | 40.64 | 40.94 | 33.15 | 39.02 | 57.35 | 44.37 | 46.53 | 42.54 | 185.63 | 109.93 | 172.15 | 77.28 | 152.60 | 142.58 |\n",
       "| 4 | 0610030E20Rik | 13.23 | 14.48 | 13.86 | 12.90 | 11.52 | 13.15 | 13.31 | 11.82 |   3.22 |   3.34 |   4.41 |  1.61 |   3.71 |   3.97 |\n",
       "| 5 | 0610040J01Rik |  9.03 |  9.58 |  9.25 | 11.77 |  5.53 |  5.38 |  6.50 |  6.07 |   2.15 |   8.70 |   5.47 |  0.65 |   4.08 |   5.66 |\n",
       "| 6 | 1110002E22Rik |  0.03 |  0.08 |  0.15 |  0.29 |  0.03 |  0.03 |  0.06 |  0.03 |   0.01 |   0.01 |   0.00 |  0.02 |   0.02 |   0.02 |\n",
       "\n"
      ],
      "text/plain": [
       "  GeneSymbol    fpkm_CTRL_1 fpkm_CTRL_2 fpkm_CTRL_3 fpkm_CTRL_4 fpkm_LPS_48h_1\n",
       "1 0610009B22Rik 16.82       16.33       16.65       18.28       15.49         \n",
       "2 0610010F05Rik  5.96        7.00        6.11        5.85        6.88         \n",
       "3 0610010K14Rik 40.64       40.94       33.15       39.02       57.35         \n",
       "4 0610030E20Rik 13.23       14.48       13.86       12.90       11.52         \n",
       "5 0610040J01Rik  9.03        9.58        9.25       11.77        5.53         \n",
       "6 1110002E22Rik  0.03        0.08        0.15        0.29        0.03         \n",
       "  fpkm_LPS_48h_2 fpkm_LPS_48h_3 fpkm_LPS_48h_4 control1.FPKM control2.FPKM\n",
       "1 16.27          16.01          14.30            7.69         11.98       \n",
       "2  7.72           7.27           6.91            2.55          1.69       \n",
       "3 44.37          46.53          42.54          185.63        109.93       \n",
       "4 13.15          13.31          11.82            3.22          3.34       \n",
       "5  5.38           6.50           6.07            2.15          8.70       \n",
       "6  0.03           0.06           0.03            0.01          0.01       \n",
       "  control3.FPKM LPS1.FPKM LPS2.FPKM LPS3.FPKM\n",
       "1   9.78         2.08       8.20      7.40   \n",
       "2   2.45         4.35       2.52      1.63   \n",
       "3 172.15        77.28     152.60    142.58   \n",
       "4   4.41         1.61       3.71      3.97   \n",
       "5   5.47         0.65       4.08      5.66   \n",
       "6   0.00         0.02       0.02      0.02   "
      ]
     },
     "metadata": {},
     "output_type": "display_data"
    }
   ],
   "source": [
    "head(df_sub)"
   ]
  },
  {
   "cell_type": "code",
   "execution_count": 13,
   "metadata": {
    "vscode": {
     "languageId": "r"
    }
   },
   "outputs": [],
   "source": [
    "library(data.table)"
   ]
  },
  {
   "cell_type": "code",
   "execution_count": 19,
   "metadata": {
    "vscode": {
     "languageId": "r"
    }
   },
   "outputs": [],
   "source": [
    "# 输出文件\n",
    "fwrite(df_sub,file = \"Bulk_data_need_edit.txt\",sep = \"\\t\",row.names = F)"
   ]
  },
  {
   "cell_type": "markdown",
   "metadata": {},
   "source": [
    "#### 手动修改一下列名（样本名），在样本前面加上GSE号，规范化"
   ]
  },
  {
   "cell_type": "code",
   "execution_count": 26,
   "metadata": {
    "vscode": {
     "languageId": "r"
    }
   },
   "outputs": [],
   "source": [
    "check_df = read.table(\"/home/guoliming/Brown/ALI_Gaoji/sc_bulk_analysis/1_bulk_data/Bulk_data.txt\",header = TRUE, sep = \"\\t\", stringsAsFactors = FALSE)"
   ]
  },
  {
   "cell_type": "code",
   "execution_count": 27,
   "metadata": {
    "vscode": {
     "languageId": "r"
    }
   },
   "outputs": [
    {
     "data": {
      "text/html": [
       "<table class=\"dataframe\">\n",
       "<caption>A data.frame: 6 × 15</caption>\n",
       "<thead>\n",
       "\t<tr><th></th><th scope=col>GeneSymbol</th><th scope=col>GSE193876_CTRL_1</th><th scope=col>GSE193876_CTRL_2</th><th scope=col>GSE193876_CTRL_3</th><th scope=col>GSE193876_CTRL_4</th><th scope=col>GSE193876_LPS_48h_1</th><th scope=col>GSE193876_LPS_48h_2</th><th scope=col>GSE193876_LPS_48h_3</th><th scope=col>GSE193876_LPS_48h_4</th><th scope=col>GSE247266_CTRL_1</th><th scope=col>GSE247266_CTRL_2</th><th scope=col>GSE247266_CTRL_3</th><th scope=col>GSE247266_LPS_1</th><th scope=col>GSE247266_LPS_2</th><th scope=col>GSE247266_LPS_3</th></tr>\n",
       "\t<tr><th></th><th scope=col>&lt;chr&gt;</th><th scope=col>&lt;dbl&gt;</th><th scope=col>&lt;dbl&gt;</th><th scope=col>&lt;dbl&gt;</th><th scope=col>&lt;dbl&gt;</th><th scope=col>&lt;dbl&gt;</th><th scope=col>&lt;dbl&gt;</th><th scope=col>&lt;dbl&gt;</th><th scope=col>&lt;dbl&gt;</th><th scope=col>&lt;dbl&gt;</th><th scope=col>&lt;dbl&gt;</th><th scope=col>&lt;dbl&gt;</th><th scope=col>&lt;dbl&gt;</th><th scope=col>&lt;dbl&gt;</th><th scope=col>&lt;dbl&gt;</th></tr>\n",
       "</thead>\n",
       "<tbody>\n",
       "\t<tr><th scope=row>1</th><td>0610009B22Rik</td><td>16.82</td><td>16.33</td><td>16.65</td><td>18.28</td><td>15.49</td><td>16.27</td><td>16.01</td><td>14.30</td><td>  7.69</td><td> 11.98</td><td>  9.78</td><td> 2.08</td><td>  8.20</td><td>  7.40</td></tr>\n",
       "\t<tr><th scope=row>2</th><td>0610010F05Rik</td><td> 5.96</td><td> 7.00</td><td> 6.11</td><td> 5.85</td><td> 6.88</td><td> 7.72</td><td> 7.27</td><td> 6.91</td><td>  2.55</td><td>  1.69</td><td>  2.45</td><td> 4.35</td><td>  2.52</td><td>  1.63</td></tr>\n",
       "\t<tr><th scope=row>3</th><td>0610010K14Rik</td><td>40.64</td><td>40.94</td><td>33.15</td><td>39.02</td><td>57.35</td><td>44.37</td><td>46.53</td><td>42.54</td><td>185.63</td><td>109.93</td><td>172.15</td><td>77.28</td><td>152.60</td><td>142.58</td></tr>\n",
       "\t<tr><th scope=row>4</th><td>0610030E20Rik</td><td>13.23</td><td>14.48</td><td>13.86</td><td>12.90</td><td>11.52</td><td>13.15</td><td>13.31</td><td>11.82</td><td>  3.22</td><td>  3.34</td><td>  4.41</td><td> 1.61</td><td>  3.71</td><td>  3.97</td></tr>\n",
       "\t<tr><th scope=row>5</th><td>0610040J01Rik</td><td> 9.03</td><td> 9.58</td><td> 9.25</td><td>11.77</td><td> 5.53</td><td> 5.38</td><td> 6.50</td><td> 6.07</td><td>  2.15</td><td>  8.70</td><td>  5.47</td><td> 0.65</td><td>  4.08</td><td>  5.66</td></tr>\n",
       "\t<tr><th scope=row>6</th><td>1110002E22Rik</td><td> 0.03</td><td> 0.08</td><td> 0.15</td><td> 0.29</td><td> 0.03</td><td> 0.03</td><td> 0.06</td><td> 0.03</td><td>  0.01</td><td>  0.01</td><td>  0.00</td><td> 0.02</td><td>  0.02</td><td>  0.02</td></tr>\n",
       "</tbody>\n",
       "</table>\n"
      ],
      "text/latex": [
       "A data.frame: 6 × 15\n",
       "\\begin{tabular}{r|lllllllllllllll}\n",
       "  & GeneSymbol & GSE193876\\_CTRL\\_1 & GSE193876\\_CTRL\\_2 & GSE193876\\_CTRL\\_3 & GSE193876\\_CTRL\\_4 & GSE193876\\_LPS\\_48h\\_1 & GSE193876\\_LPS\\_48h\\_2 & GSE193876\\_LPS\\_48h\\_3 & GSE193876\\_LPS\\_48h\\_4 & GSE247266\\_CTRL\\_1 & GSE247266\\_CTRL\\_2 & GSE247266\\_CTRL\\_3 & GSE247266\\_LPS\\_1 & GSE247266\\_LPS\\_2 & GSE247266\\_LPS\\_3\\\\\n",
       "  & <chr> & <dbl> & <dbl> & <dbl> & <dbl> & <dbl> & <dbl> & <dbl> & <dbl> & <dbl> & <dbl> & <dbl> & <dbl> & <dbl> & <dbl>\\\\\n",
       "\\hline\n",
       "\t1 & 0610009B22Rik & 16.82 & 16.33 & 16.65 & 18.28 & 15.49 & 16.27 & 16.01 & 14.30 &   7.69 &  11.98 &   9.78 &  2.08 &   8.20 &   7.40\\\\\n",
       "\t2 & 0610010F05Rik &  5.96 &  7.00 &  6.11 &  5.85 &  6.88 &  7.72 &  7.27 &  6.91 &   2.55 &   1.69 &   2.45 &  4.35 &   2.52 &   1.63\\\\\n",
       "\t3 & 0610010K14Rik & 40.64 & 40.94 & 33.15 & 39.02 & 57.35 & 44.37 & 46.53 & 42.54 & 185.63 & 109.93 & 172.15 & 77.28 & 152.60 & 142.58\\\\\n",
       "\t4 & 0610030E20Rik & 13.23 & 14.48 & 13.86 & 12.90 & 11.52 & 13.15 & 13.31 & 11.82 &   3.22 &   3.34 &   4.41 &  1.61 &   3.71 &   3.97\\\\\n",
       "\t5 & 0610040J01Rik &  9.03 &  9.58 &  9.25 & 11.77 &  5.53 &  5.38 &  6.50 &  6.07 &   2.15 &   8.70 &   5.47 &  0.65 &   4.08 &   5.66\\\\\n",
       "\t6 & 1110002E22Rik &  0.03 &  0.08 &  0.15 &  0.29 &  0.03 &  0.03 &  0.06 &  0.03 &   0.01 &   0.01 &   0.00 &  0.02 &   0.02 &   0.02\\\\\n",
       "\\end{tabular}\n"
      ],
      "text/markdown": [
       "\n",
       "A data.frame: 6 × 15\n",
       "\n",
       "| <!--/--> | GeneSymbol &lt;chr&gt; | GSE193876_CTRL_1 &lt;dbl&gt; | GSE193876_CTRL_2 &lt;dbl&gt; | GSE193876_CTRL_3 &lt;dbl&gt; | GSE193876_CTRL_4 &lt;dbl&gt; | GSE193876_LPS_48h_1 &lt;dbl&gt; | GSE193876_LPS_48h_2 &lt;dbl&gt; | GSE193876_LPS_48h_3 &lt;dbl&gt; | GSE193876_LPS_48h_4 &lt;dbl&gt; | GSE247266_CTRL_1 &lt;dbl&gt; | GSE247266_CTRL_2 &lt;dbl&gt; | GSE247266_CTRL_3 &lt;dbl&gt; | GSE247266_LPS_1 &lt;dbl&gt; | GSE247266_LPS_2 &lt;dbl&gt; | GSE247266_LPS_3 &lt;dbl&gt; |\n",
       "|---|---|---|---|---|---|---|---|---|---|---|---|---|---|---|---|\n",
       "| 1 | 0610009B22Rik | 16.82 | 16.33 | 16.65 | 18.28 | 15.49 | 16.27 | 16.01 | 14.30 |   7.69 |  11.98 |   9.78 |  2.08 |   8.20 |   7.40 |\n",
       "| 2 | 0610010F05Rik |  5.96 |  7.00 |  6.11 |  5.85 |  6.88 |  7.72 |  7.27 |  6.91 |   2.55 |   1.69 |   2.45 |  4.35 |   2.52 |   1.63 |\n",
       "| 3 | 0610010K14Rik | 40.64 | 40.94 | 33.15 | 39.02 | 57.35 | 44.37 | 46.53 | 42.54 | 185.63 | 109.93 | 172.15 | 77.28 | 152.60 | 142.58 |\n",
       "| 4 | 0610030E20Rik | 13.23 | 14.48 | 13.86 | 12.90 | 11.52 | 13.15 | 13.31 | 11.82 |   3.22 |   3.34 |   4.41 |  1.61 |   3.71 |   3.97 |\n",
       "| 5 | 0610040J01Rik |  9.03 |  9.58 |  9.25 | 11.77 |  5.53 |  5.38 |  6.50 |  6.07 |   2.15 |   8.70 |   5.47 |  0.65 |   4.08 |   5.66 |\n",
       "| 6 | 1110002E22Rik |  0.03 |  0.08 |  0.15 |  0.29 |  0.03 |  0.03 |  0.06 |  0.03 |   0.01 |   0.01 |   0.00 |  0.02 |   0.02 |   0.02 |\n",
       "\n"
      ],
      "text/plain": [
       "  GeneSymbol    GSE193876_CTRL_1 GSE193876_CTRL_2 GSE193876_CTRL_3\n",
       "1 0610009B22Rik 16.82            16.33            16.65           \n",
       "2 0610010F05Rik  5.96             7.00             6.11           \n",
       "3 0610010K14Rik 40.64            40.94            33.15           \n",
       "4 0610030E20Rik 13.23            14.48            13.86           \n",
       "5 0610040J01Rik  9.03             9.58             9.25           \n",
       "6 1110002E22Rik  0.03             0.08             0.15           \n",
       "  GSE193876_CTRL_4 GSE193876_LPS_48h_1 GSE193876_LPS_48h_2 GSE193876_LPS_48h_3\n",
       "1 18.28            15.49               16.27               16.01              \n",
       "2  5.85             6.88                7.72                7.27              \n",
       "3 39.02            57.35               44.37               46.53              \n",
       "4 12.90            11.52               13.15               13.31              \n",
       "5 11.77             5.53                5.38                6.50              \n",
       "6  0.29             0.03                0.03                0.06              \n",
       "  GSE193876_LPS_48h_4 GSE247266_CTRL_1 GSE247266_CTRL_2 GSE247266_CTRL_3\n",
       "1 14.30                 7.69            11.98             9.78          \n",
       "2  6.91                 2.55             1.69             2.45          \n",
       "3 42.54               185.63           109.93           172.15          \n",
       "4 11.82                 3.22             3.34             4.41          \n",
       "5  6.07                 2.15             8.70             5.47          \n",
       "6  0.03                 0.01             0.01             0.00          \n",
       "  GSE247266_LPS_1 GSE247266_LPS_2 GSE247266_LPS_3\n",
       "1  2.08             8.20            7.40         \n",
       "2  4.35             2.52            1.63         \n",
       "3 77.28           152.60          142.58         \n",
       "4  1.61             3.71            3.97         \n",
       "5  0.65             4.08            5.66         \n",
       "6  0.02             0.02            0.02         "
      ]
     },
     "metadata": {},
     "output_type": "display_data"
    }
   ],
   "source": [
    "head(check_df)"
   ]
  },
  {
   "cell_type": "markdown",
   "metadata": {},
   "source": [
    "### 输出表型"
   ]
  },
  {
   "cell_type": "code",
   "execution_count": 33,
   "metadata": {
    "vscode": {
     "languageId": "r"
    }
   },
   "outputs": [
    {
     "data": {
      "text/html": [
       "<table class=\"dataframe\">\n",
       "<caption>A data.frame: 6 × 2</caption>\n",
       "<thead>\n",
       "\t<tr><th></th><th scope=col>time</th><th scope=col>status</th></tr>\n",
       "\t<tr><th></th><th scope=col>&lt;dbl&gt;</th><th scope=col>&lt;dbl&gt;</th></tr>\n",
       "</thead>\n",
       "<tbody>\n",
       "\t<tr><th scope=row>GSE193876_CTRL_1</th><td>1</td><td>0</td></tr>\n",
       "\t<tr><th scope=row>GSE193876_CTRL_2</th><td>1</td><td>0</td></tr>\n",
       "\t<tr><th scope=row>GSE193876_CTRL_3</th><td>1</td><td>0</td></tr>\n",
       "\t<tr><th scope=row>GSE193876_CTRL_4</th><td>1</td><td>0</td></tr>\n",
       "\t<tr><th scope=row>GSE193876_LPS_48h_1</th><td>0</td><td>1</td></tr>\n",
       "\t<tr><th scope=row>GSE193876_LPS_48h_2</th><td>0</td><td>1</td></tr>\n",
       "</tbody>\n",
       "</table>\n"
      ],
      "text/latex": [
       "A data.frame: 6 × 2\n",
       "\\begin{tabular}{r|ll}\n",
       "  & time & status\\\\\n",
       "  & <dbl> & <dbl>\\\\\n",
       "\\hline\n",
       "\tGSE193876\\_CTRL\\_1 & 1 & 0\\\\\n",
       "\tGSE193876\\_CTRL\\_2 & 1 & 0\\\\\n",
       "\tGSE193876\\_CTRL\\_3 & 1 & 0\\\\\n",
       "\tGSE193876\\_CTRL\\_4 & 1 & 0\\\\\n",
       "\tGSE193876\\_LPS\\_48h\\_1 & 0 & 1\\\\\n",
       "\tGSE193876\\_LPS\\_48h\\_2 & 0 & 1\\\\\n",
       "\\end{tabular}\n"
      ],
      "text/markdown": [
       "\n",
       "A data.frame: 6 × 2\n",
       "\n",
       "| <!--/--> | time &lt;dbl&gt; | status &lt;dbl&gt; |\n",
       "|---|---|---|\n",
       "| GSE193876_CTRL_1 | 1 | 0 |\n",
       "| GSE193876_CTRL_2 | 1 | 0 |\n",
       "| GSE193876_CTRL_3 | 1 | 0 |\n",
       "| GSE193876_CTRL_4 | 1 | 0 |\n",
       "| GSE193876_LPS_48h_1 | 0 | 1 |\n",
       "| GSE193876_LPS_48h_2 | 0 | 1 |\n",
       "\n"
      ],
      "text/plain": [
       "                    time status\n",
       "GSE193876_CTRL_1    1    0     \n",
       "GSE193876_CTRL_2    1    0     \n",
       "GSE193876_CTRL_3    1    0     \n",
       "GSE193876_CTRL_4    1    0     \n",
       "GSE193876_LPS_48h_1 0    1     \n",
       "GSE193876_LPS_48h_2 0    1     "
      ]
     },
     "metadata": {},
     "output_type": "display_data"
    }
   ],
   "source": [
    "# 假设你的原始数据叫 df\n",
    "samples <- setdiff(colnames(check_df), \"GeneSymbol\")\n",
    "\n",
    "# 新建 data.frame，行名是样本，列是 Group\n",
    "phenotype_df <- data.frame(\n",
    "  status  = ifelse(grepl(\"LPS\", samples), 1,\n",
    "                 ifelse(grepl(\"CTRL\", samples), 0, NA)),\n",
    "  row.names = samples\n",
    ")\n",
    "\n",
    "phenotype_df$time <- ifelse(phenotype_df$status == 1, 0, 1)\n",
    "\n",
    "# 把 time 列放到前面\n",
    "phenotype_df <- phenotype_df[, c(\"time\", \"status\")]\n",
    "\n",
    "# 查看结果\n",
    "head(phenotype_df)\n",
    "\n"
   ]
  },
  {
   "cell_type": "code",
   "execution_count": 34,
   "metadata": {
    "vscode": {
     "languageId": "r"
    }
   },
   "outputs": [],
   "source": [
    "# 输出文件\n",
    "fwrite(phenotype_df,file = \"Phenotype.txt\",sep = \"\\t\",row.names = T)"
   ]
  },
  {
   "cell_type": "code",
   "execution_count": null,
   "metadata": {
    "vscode": {
     "languageId": "r"
    }
   },
   "outputs": [],
   "source": []
  }
 ],
 "metadata": {
  "kernelspec": {
   "display_name": "R",
   "language": "R",
   "name": "ir"
  },
  "language_info": {
   "codemirror_mode": "r",
   "file_extension": ".r",
   "mimetype": "text/x-r-source",
   "name": "R",
   "pygments_lexer": "r",
   "version": "4.4.3"
  }
 },
 "nbformat": 4,
 "nbformat_minor": 2
}
