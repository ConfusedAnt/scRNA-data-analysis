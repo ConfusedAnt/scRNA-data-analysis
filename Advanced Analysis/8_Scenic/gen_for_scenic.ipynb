{
 "cells": [
  {
   "cell_type": "code",
   "execution_count": 1,
   "metadata": {
    "vscode": {
     "languageId": "r"
    }
   },
   "outputs": [
    {
     "name": "stderr",
     "output_type": "stream",
     "text": [
      "Loading required package: SeuratObject\n",
      "\n",
      "Loading required package: sp\n",
      "\n",
      "‘SeuratObject’ was built with package ‘Matrix’ 1.7.3 but the current\n",
      "version is 1.7.4; it is recomended that you reinstall ‘SeuratObject’ as\n",
      "the ABI for ‘Matrix’ may have changed\n",
      "\n",
      "\n",
      "Attaching package: ‘SeuratObject’\n",
      "\n",
      "\n",
      "The following objects are masked from ‘package:base’:\n",
      "\n",
      "    intersect, t\n",
      "\n",
      "\n",
      "\n",
      "Attaching package: ‘dplyr’\n",
      "\n",
      "\n",
      "The following objects are masked from ‘package:stats’:\n",
      "\n",
      "    filter, lag\n",
      "\n",
      "\n",
      "The following objects are masked from ‘package:base’:\n",
      "\n",
      "    intersect, setdiff, setequal, union\n",
      "\n",
      "\n",
      "qs 0.27.3. Announcement: https://github.com/qsbase/qs/issues/103\n",
      "\n"
     ]
    }
   ],
   "source": [
    "## 加载R包\n",
    "library(Seurat)\n",
    "# library(SeuratData)\n",
    "library(dplyr)\n",
    "library(readr)\n",
    "library(qs)"
   ]
  },
  {
   "cell_type": "code",
   "execution_count": 2,
   "metadata": {
    "vscode": {
     "languageId": "r"
    }
   },
   "outputs": [],
   "source": [
    "mac_sub <- qread(\"/home/guoliming/Brown/ALI_Gaoji/sc_bulk_analysis_Epithelial/7_RNAseq/all_cells.qs\")\n"
   ]
  },
  {
   "cell_type": "code",
   "execution_count": 3,
   "metadata": {
    "vscode": {
     "languageId": "r"
    }
   },
   "outputs": [
    {
     "data": {
      "text/plain": [
       "An object of class Seurat \n",
       "34329 features across 28531 samples within 1 assay \n",
       "Active assay: RNA (34329 features, 0 variable features)\n",
       " 2 layers present: counts, data"
      ]
     },
     "metadata": {},
     "output_type": "display_data"
    }
   ],
   "source": [
    "mac_sub"
   ]
  },
  {
   "cell_type": "code",
   "execution_count": 4,
   "metadata": {
    "vscode": {
     "languageId": "r"
    }
   },
   "outputs": [
    {
     "name": "stderr",
     "output_type": "stream",
     "text": [
      "Warning message in asMethod(object):\n",
      "“sparse->dense coercion: allocating vector of size 7.3 GiB”\n"
     ]
    }
   ],
   "source": [
    "write.csv(t(as.matrix(mac_sub@assays$RNA@counts)),file = \"/mnt/data/guoliming/tmp/for.pyscenic.csv\")"
   ]
  },
  {
   "cell_type": "code",
   "execution_count": 3,
   "metadata": {
    "vscode": {
     "languageId": "r"
    }
   },
   "outputs": [],
   "source": [
    "# Macrophages <- qread(\"/home/guoliming/Brown/ALI_CRL/ALI/Macrophages/Outdata/Sub_annotion.qs\")\n",
    "# mac_sub  <- subset(Macrophages, subset = celltype %in% c(\"Macrophages_c2\",\"Macrophages_c9\",\"Macrophages_c10\"))\n",
    "# write.csv(t(as.matrix(mac_sub@assays$RNA@counts)),file = \"for.pyscenic.csv\")"
   ]
  },
  {
   "cell_type": "markdown",
   "metadata": {},
   "source": [
    "nohup bash scenic_mouse.bash  1>pySCENIC.log 2>&1 &"
   ]
  },
  {
   "cell_type": "code",
   "execution_count": null,
   "metadata": {
    "vscode": {
     "languageId": "r"
    }
   },
   "outputs": [],
   "source": [
    "# 运行的时间比较长，具体视细胞量而定\n",
    "# 2700个细胞10个线程需要运行约半小时\n",
    "# 10w个细胞20个线程需要运行5-7天"
   ]
  }
 ],
 "metadata": {
  "kernelspec": {
   "display_name": "R4.4.3",
   "language": "R",
   "name": "r4.4.3"
  },
  "language_info": {
   "codemirror_mode": "r",
   "file_extension": ".r",
   "mimetype": "text/x-r-source",
   "name": "R",
   "pygments_lexer": "r",
   "version": "4.4.3"
  }
 },
 "nbformat": 4,
 "nbformat_minor": 2
}
