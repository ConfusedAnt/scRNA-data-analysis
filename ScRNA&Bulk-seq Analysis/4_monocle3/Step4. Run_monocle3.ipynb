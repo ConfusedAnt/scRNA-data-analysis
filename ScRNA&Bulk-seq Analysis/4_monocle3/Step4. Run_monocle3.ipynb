{
 "cells": [
  {
   "cell_type": "code",
   "execution_count": null,
   "metadata": {
    "vscode": {
     "languageId": "r"
    }
   },
   "outputs": [],
   "source": [
    "rm(list = ls())\n",
    "library(Seurat)\n",
    "library(monocle3)\n",
    "library(dplyr)\n",
    "library(BiocParallel)\n",
    "library(ggplot2)\n",
    "library(qs)"
   ]
  },
  {
   "cell_type": "code",
   "execution_count": null,
   "metadata": {
    "vscode": {
     "languageId": "r"
    }
   },
   "outputs": [],
   "source": [
    "seurat.data = qread(\"/home/user/ALI/Macrophages/Outdata/Sub_annotion.qs\")"
   ]
  },
  {
   "cell_type": "code",
   "execution_count": null,
   "metadata": {
    "vscode": {
     "languageId": "r"
    }
   },
   "outputs": [],
   "source": [
    "# seurat.data  <- subset(seurat.data, subset = celltype %in% c(\"Macrophages_c2\", \"Macrophages_c9\", \"Macrophages_c10\",\"Macrophages_c5\"))"
   ]
  },
  {
   "cell_type": "code",
   "execution_count": null,
   "metadata": {
    "vscode": {
     "languageId": "r"
    }
   },
   "outputs": [],
   "source": [
    "levels(seurat.data)"
   ]
  },
  {
   "cell_type": "code",
   "execution_count": null,
   "metadata": {
    "vscode": {
     "languageId": "r"
    }
   },
   "outputs": [],
   "source": [
    "scRNA <- subset(seurat.data, subset = !grepl(\"\\\\(\", celltype))\n"
   ]
  },
  {
   "cell_type": "code",
   "execution_count": null,
   "metadata": {
    "vscode": {
     "languageId": "r"
    }
   },
   "outputs": [],
   "source": [
    "levels(scRNA)"
   ]
  },
  {
   "cell_type": "code",
   "execution_count": null,
   "metadata": {
    "vscode": {
     "languageId": "r"
    }
   },
   "outputs": [],
   "source": [
    "DimPlot(scRNA,pt.size = 0.8,group.by = \"celltype\",label = T)"
   ]
  },
  {
   "cell_type": "code",
   "execution_count": null,
   "metadata": {
    "vscode": {
     "languageId": "r"
    }
   },
   "outputs": [],
   "source": [
    "levels(Idents(scRNA)) #打出来细胞类型供复制\n",
    "# [1] \"CD4+ T-cells\"      \"Fibroblasts\"       \"B-cells\"          \n",
    "# [4] \"CD8+ T-cells\"      \"Neutrophils\"       \"Monocytes\"        \n",
    "# [7] \"Adipocytes\"        \"NK cells\"          \"Endothelial cells\"\n",
    " \n",
    "# 重设等级也可以不设\n",
    "# scRNA$celltype <- factor(scRNA$celltype,\n",
    "#                          levels = c(\"Endothelial cells\"))\n",
    " \n",
    "Idents(scRNA) <- scRNA$celltype"
   ]
  },
  {
   "cell_type": "code",
   "execution_count": null,
   "metadata": {
    "vscode": {
     "languageId": "r"
    }
   },
   "outputs": [],
   "source": [
    "expression_matrix <- GetAssayData(scRNA, assay = 'RNA',layer  = 'counts')\n",
    "cell_metadata <- scRNA@meta.data \n",
    "gene_annotation <- data.frame(gene_short_name = rownames(expression_matrix))\n",
    "rownames(gene_annotation) <- rownames(expression_matrix)\n",
    "cds <- new_cell_data_set(expression_matrix,\n",
    "                         cell_metadata = cell_metadata,\n",
    "                         gene_metadata = gene_annotation)"
   ]
  },
  {
   "cell_type": "code",
   "execution_count": null,
   "metadata": {
    "vscode": {
     "languageId": "r"
    }
   },
   "outputs": [],
   "source": [
    "cds <- preprocess_cds(cds, num_dim = 50)"
   ]
  },
  {
   "cell_type": "code",
   "execution_count": null,
   "metadata": {
    "vscode": {
     "languageId": "r"
    }
   },
   "outputs": [],
   "source": [
    "cds <- reduce_dimension(cds)\n",
    "plot_cells(cds, label_groups_by_cluster=FALSE,  color_cells_by = \"celltype\")"
   ]
  },
  {
   "cell_type": "code",
   "execution_count": null,
   "metadata": {
    "vscode": {
     "languageId": "r"
    }
   },
   "outputs": [],
   "source": [
    "# sub_cds <- cds[, colData(cds)$celltype %in% c(\"Macrophages_c5\", \"Macrophages_c2\")]"
   ]
  },
  {
   "cell_type": "code",
   "execution_count": null,
   "metadata": {
    "vscode": {
     "languageId": "r"
    }
   },
   "outputs": [],
   "source": [
    "cds = qread(\"/home/guoliming/Brown/ALI_Gaoji/sc_bulk_analysis_Epithelial/6_monocle2/Macrophages_pseudotime.qs\")"
   ]
  },
  {
   "cell_type": "code",
   "execution_count": null,
   "metadata": {
    "vscode": {
     "languageId": "r"
    }
   },
   "outputs": [],
   "source": [
    "# options(repr.plot.width=6, repr.plot.height=6)  # 单位英寸\n",
    "pdf(\"maerk_Clec4e.pdf\",width = 8,height = 8)\n",
    "ciliated_genes <- c(\"Clec4e\")\n",
    "\n",
    "p <- plot_cells(cds,cell_size=0.8,\n",
    "           genes=ciliated_genes,\n",
    "           label_cell_groups=FALSE,\n",
    "           show_trajectory_graph=FALSE)\n",
    "\n",
    "p + theme(\n",
    "  legend.title = element_text(size=16),   # 图例标题\n",
    "  legend.text = element_text(size=16),    # 图例文本\n",
    "  axis.text = element_text(size=20),      # 坐标轴文本\n",
    "  axis.title = element_text(size=20),      # 坐标轴标题\n",
    "plot.title  = element_text(size = 20, hjust = 1), # 主标题\n",
    ")& \n",
    "  NoAxes() &  \n",
    "  theme(\n",
    "    legend.title   = element_text(size = 16),   # 图例标题\n",
    "    legend.text    = element_text(size = 16),   # 图例文字\n",
    "    legend.key.size = unit(1, \"cm\")\n",
    "  )\n",
    "dev.off()"
   ]
  },
  {
   "cell_type": "code",
   "execution_count": null,
   "metadata": {
    "vscode": {
     "languageId": "r"
    }
   },
   "outputs": [],
   "source": [
    "library(patchwork)  # 或 cowplot\n",
    "\n",
    "pdf(\"maerk_M1.pdf\", width = 20, height = 12)\n",
    "ciliated_genes <- c(\"Nos2\",\"Arg1\",\"Mrc1\",\"Cd86\",\"Cxcl9\",\"Cxcl10\",\"Chil3\",\"Cd163\")\n",
    "\n",
    "plots <- lapply(ciliated_genes, function(g) {\n",
    "  plot_cells(\n",
    "    cds,\n",
    "    genes = g,\n",
    "    cell_size = 0.8,\n",
    "    label_cell_groups = FALSE,\n",
    "    show_trajectory_graph = FALSE\n",
    "  ) + \n",
    "    theme(\n",
    "      legend.title   = element_text(size=16),\n",
    "      legend.text    = element_text(size=16),\n",
    "      axis.text      = element_text(size=16),\n",
    "      axis.title     = element_text(size=16),\n",
    "      plot.title     = element_blank(),       # 去掉标题\n",
    "      legend.key.size = unit(1, \"cm\")\n",
    "    ) +\n",
    "    NoAxes()\n",
    "})\n",
    "\n",
    "# 每行4列排版\n",
    "p <- wrap_plots(plots, ncol = 4)\n",
    "print(p)\n",
    "\n",
    "dev.off()\n"
   ]
  },
  {
   "cell_type": "code",
   "execution_count": null,
   "metadata": {
    "vscode": {
     "languageId": "r"
    }
   },
   "outputs": [],
   "source": [
    "pdf(\"maerk_M1.pdf\",width = 12,height = 8)\n",
    "ciliated_genes <- c(\"Nos2\",\"Arg1\",\"Mrc1\",\"Cd86\",\"Cxcl9\",\"Cxcl10\",\"Chil3\",\"Cd163\")\n",
    "\n",
    "p <- plot_cells(cds,\n",
    "           genes=ciliated_genes,cell_size=0.8,\n",
    "           label_cell_groups=FALSE,\n",
    "           show_trajectory_graph=FALSE)\n",
    "\n",
    "p + theme(\n",
    "  legend.title = element_text(size=16),   # 图例标题\n",
    "  legend.text = element_text(size=16),    # 图例文本\n",
    "  axis.text = element_text(size=16),      # 坐标轴文本\n",
    "  axis.title = element_text(size=16),      # 坐标轴标题\n",
    "plot.title  = element_text(size = 16), # 主标题\n",
    ")& \n",
    "  NoAxes() &  \n",
    "  theme(\n",
    "    legend.title   = element_text(size = 16),   # 图例标题\n",
    "    legend.text    = element_text(size = 16),   # 图例文字\n",
    "    legend.key.size = unit(1, \"cm\")\n",
    "  )\n",
    "dev.off()"
   ]
  },
  {
   "cell_type": "code",
   "execution_count": null,
   "metadata": {
    "vscode": {
     "languageId": "r"
    }
   },
   "outputs": [],
   "source": [
    "cds <- cluster_cells(cds)\n",
    "plot_cells(cds, color_cells_by = \"partition\")"
   ]
  },
  {
   "cell_type": "code",
   "execution_count": null,
   "metadata": {
    "vscode": {
     "languageId": "r"
    }
   },
   "outputs": [],
   "source": [
    "cds <- learn_graph(cds)\n",
    "plot_cells(cds,\n",
    "           color_cells_by = \"celltype\",\n",
    "           label_groups_by_cluster=FALSE,\n",
    "           label_leaves=FALSE,\n",
    "           label_branch_points=FALSE,\n",
    "            trajectory_graph_segment_size = 1)"
   ]
  },
  {
   "cell_type": "code",
   "execution_count": null,
   "metadata": {
    "vscode": {
     "languageId": "r"
    }
   },
   "outputs": [],
   "source": [
    "library(ggplot2)\n",
    "\n",
    "pdf(\"Macrophages_pseudotime_celltype.pdf\", width=8, height=8)\n",
    "p <- plot_cells(cds,\n",
    "                color_cells_by = \"celltype\",cell_size=0.8,\n",
    "                label_groups_by_cluster=FALSE,\n",
    "                label_leaves=FALSE,\n",
    "                label_branch_points=FALSE,\n",
    "                # graph_label_size=20,\n",
    "                trajectory_graph_segment_size = 1.5)  # 节点标签字体\n",
    "\n",
    "p + theme(\n",
    "  legend.title = element_text(size=16),   # 图例标题\n",
    "  legend.text = element_text(size=16),    # 图例文本\n",
    "  axis.text = element_text(size=16),      # 坐标轴文本\n",
    "  axis.title = element_text(size=16),      # 坐标轴标题\n",
    "      # legend.title   = element_text(size = 16),   # 图例标题\n",
    "    # legend.text    = element_text(size = 16)   # 图例文字\n",
    "     \n",
    ")& NoAxes()\n",
    "\n",
    "dev.off()"
   ]
  },
  {
   "cell_type": "code",
   "execution_count": null,
   "metadata": {
    "vscode": {
     "languageId": "r"
    }
   },
   "outputs": [],
   "source": [
    "table(colData(cds)$celltype)"
   ]
  },
  {
   "cell_type": "code",
   "execution_count": null,
   "metadata": {
    "vscode": {
     "languageId": "r"
    }
   },
   "outputs": [],
   "source": [
    "# a helper function to identify the root principal points:\n",
    "get_earliest_principal_node <- function(cds, time_bin=\"Macrophages_c5\"){\n",
    "  cell_ids <- which(colData(cds)[, \"celltype\"] == time_bin)\n",
    "  \n",
    "  closest_vertex <-\n",
    "  cds@principal_graph_aux[[\"UMAP\"]]$pr_graph_cell_proj_closest_vertex\n",
    "  closest_vertex <- as.matrix(closest_vertex[colnames(cds), ])\n",
    "  root_pr_nodes <-\n",
    "  igraph::V(principal_graph(cds)[[\"UMAP\"]])$name[as.numeric(names\n",
    "  (which.max(table(closest_vertex[cell_ids,]))))]\n",
    "  \n",
    "  root_pr_nodes\n",
    "}\n",
    "cds <- order_cells(cds, root_pr_nodes=get_earliest_principal_node(cds))"
   ]
  },
  {
   "cell_type": "code",
   "execution_count": null,
   "metadata": {
    "vscode": {
     "languageId": "r"
    }
   },
   "outputs": [],
   "source": [
    "# options(repr.plot.width=6, repr.plot.height=6)  # 单位英寸\n",
    "pdf(\"Macrophages_pseudotime_5.pdf\",width = 10,height = 8)\n",
    "p <- plot_cells(cds,\n",
    "           color_cells_by = \"pseudotime\",cell_size=0.8,\n",
    "           label_cell_groups=TRUE,\n",
    "           label_leaves=FALSE,\n",
    "           label_branch_points=FALSE,\n",
    "           graph_label_size=4,trajectory_graph_segment_size = 1.5)\n",
    "p + theme(\n",
    "  legend.title = element_text(size=16),   # 图例标题\n",
    "  legend.text = element_text(size=16),    # 图例文本\n",
    "  axis.text = element_text(size=16),      # 坐标轴文本\n",
    "  axis.title = element_text(size=16),      # 坐标轴标题\n",
    "      # legend.title   = element_text(size = 16),   # 图例标题\n",
    "    # legend.text    = element_text(size = 16)   # 图例文字\n",
    ") & \n",
    "  NoAxes() &  \n",
    "  theme(\n",
    "    legend.title   = element_text(size = 16),   # 图例标题\n",
    "    legend.text    = element_text(size = 16),   # 图例文字\n",
    "  )\n",
    "dev.off()"
   ]
  },
  {
   "cell_type": "code",
   "execution_count": null,
   "metadata": {
    "vscode": {
     "languageId": "r"
    }
   },
   "outputs": [],
   "source": [
    "qsave(cds,\"Macrophages_pseudotime.qs\")"
   ]
  }
 ],
 "metadata": {
  "kernelspec": {
   "display_name": "R4.4.3",
   "language": "R",
   "name": "r4.4.3"
  },
  "language_info": {
   "codemirror_mode": "r",
   "file_extension": ".r",
   "mimetype": "text/x-r-source",
   "name": "R",
   "pygments_lexer": "r",
   "version": "4.4.3"
  }
 },
 "nbformat": 4,
 "nbformat_minor": 2
}
