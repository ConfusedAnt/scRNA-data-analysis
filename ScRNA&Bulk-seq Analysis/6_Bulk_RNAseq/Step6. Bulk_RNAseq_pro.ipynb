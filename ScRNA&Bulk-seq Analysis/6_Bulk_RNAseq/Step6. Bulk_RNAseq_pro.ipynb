{
 "cells": [
  {
   "cell_type": "markdown",
   "metadata": {},
   "source": [
    "### bulk 火山图"
   ]
  },
  {
   "cell_type": "code",
   "execution_count": null,
   "metadata": {
    "vscode": {
     "languageId": "r"
    }
   },
   "outputs": [],
   "source": [
    "library(ggplot2)\n",
    "library(dplyr)\n",
    "\n",
    "# 读取 CSV\n",
    "df <- read.csv(\"MvsK.csv\")\n",
    "\n",
    "# 检查列名\n",
    "head(df)\n"
   ]
  },
  {
   "cell_type": "code",
   "execution_count": null,
   "metadata": {
    "vscode": {
     "languageId": "r"
    }
   },
   "outputs": [],
   "source": [
    "df <- df %>%\n",
    "  mutate(\n",
    "    Significance = case_when(\n",
    "      Padjust < 0.05 & Log2FC > 2 ~ \"Up\",\n",
    "      Padjust < 0.05 & Log2FC < -2 ~ \"Down\",\n",
    "      TRUE ~ \"NS\"\n",
    "    )\n",
    "  )\n"
   ]
  },
  {
   "cell_type": "code",
   "execution_count": null,
   "metadata": {
    "vscode": {
     "languageId": "r"
    }
   },
   "outputs": [],
   "source": [
    "ggplot(df, aes(x = Log2FC, y = -log10(Padjust), color = Significance)) +\n",
    "  geom_point(alpha = 0.6, size = 2) +\n",
    "  scale_color_manual(values = c(\"Up\"=\"red\", \"Down\"=\"blue\", \"NS\"=\"grey\")) +\n",
    "  theme_minimal() +\n",
    "  xlab(\"Log2 Fold Change (LPS/CTRL)\") +\n",
    "  ylab(\"-log10(Padj)\") +\n",
    "  geom_vline(xintercept = c(-1,1), linetype=\"dashed\", color=\"black\") +\n",
    "  geom_hline(yintercept = -log10(0.05), linetype=\"dashed\", color=\"black\") +\n",
    "  theme(\n",
    "    legend.title = element_blank(),\n",
    "    axis.text = element_text(size=16),\n",
    "    axis.title = element_text(size=16)\n",
    "  )\n"
   ]
  },
  {
   "cell_type": "code",
   "execution_count": null,
   "metadata": {
    "vscode": {
     "languageId": "r"
    }
   },
   "outputs": [],
   "source": [
    "library(ggrepel)\n",
    "options(repr.plot.width=10, repr.plot.height=8)\n",
    "pdf(\"Volcano_MvsK.pdf\", width=10, height=8)\n",
    "top_genes <- df %>% filter(Padjust < 0.01 & abs(Log2FC) > 2)\n",
    "\n",
    "ggplot(df, aes(x = Log2FC, y = -log10(Padjust), color = Significance)) +\n",
    "  geom_point(alpha = 0.6, size = 2) +\n",
    "  geom_text_repel(data = top_genes, aes(label = Gene_name), size=4) +\n",
    "  scale_color_manual(values = c(\"Up\"=\"red\", \"Down\"=\"blue\", \"NS\"=\"grey\")) +\n",
    "  theme_minimal() +\n",
    "  xlab(\"Log2 Fold Change (M/K)\") +\n",
    "  ylab(\"-log10(Padj)\") +\n",
    "  geom_vline(xintercept = c(-2,2), linetype=\"dashed\", color=\"black\") +\n",
    "  geom_hline(yintercept = -log10(0.05), linetype=\"dashed\", color=\"black\") +\n",
    "  theme(\n",
    "    axis.text = element_text(size = 14),      # XY轴刻度字体大小\n",
    "    axis.title = element_text(size = 16),     # XY轴标题字体大小\n",
    "    legend.text = element_text(size = 12),    # 图例文字大小\n",
    "    legend.title = element_text(size = 14)    # 图例标题大小\n",
    "  )\n",
    "dev.off()"
   ]
  },
  {
   "cell_type": "markdown",
   "metadata": {},
   "source": [
    "## 三个数据集的venn图!!!!"
   ]
  },
  {
   "cell_type": "code",
   "execution_count": null,
   "metadata": {
    "vscode": {
     "languageId": "r"
    }
   },
   "outputs": [],
   "source": [
    "\n",
    "\n",
    "library(dplyr)\n",
    "library(readxl)\n",
    "library(VennDiagram)\n",
    "\n",
    "# 1. 读取 markers 文件\n",
    "markers <- read_excel(\"06.markers_just_macro.xlsx\")\n",
    "\n",
    "# 选择 cluster = c10 且 avg_log2FC > 1 的基因\n",
    "cluster2_genes <- markers %>%\n",
    "  filter(cluster == \"Macrophages_c10\", avg_log2FC > 1) %>%\n",
    "  pull(gene)\n",
    "\n",
    "# 2. 读取差异基因 CSV 文件\n",
    "df <- read.csv(\"MvsK.csv\")\n",
    "\n",
    "low_fc_genes <- df %>%\n",
    "  filter(Log2FC > 2, Padjust < 0.05) %>%\n",
    "  pull(Gene_name)\n",
    "\n",
    "# 3. 读取 SCENIC 文件的 TargetGene 列\n",
    "scenic <- read.csv(\"c10_scenic_gene_target.csv\")\n",
    "\n",
    "scenic_genes <- scenic %>%\n",
    "  pull(TargetGene)\n",
    "\n",
    "# 4. 绘制三集合 Venn 图\n",
    "venn.plot <- venn.diagram(\n",
    "  x = list(\n",
    "    Cluster2 = cluster2_genes,\n",
    "    LowFC    = low_fc_genes,\n",
    "    SCENIC   = scenic_genes\n",
    "  ),\n",
    "  filename = NULL,\n",
    "  fill = c(\"cornflowerblue\", \"darkorchid1\", \"seagreen3\"),\n",
    "  cat.col = c(\"cornflowerblue\", \"darkorchid1\", \"seagreen3\"),\n",
    "  cat.cex = 1.1,\n",
    "  cat.pos = c(-20, 20, 180)\n",
    ")\n",
    "\n",
    "pdf(file=\"c10_up_3sets.pdf\", width=6, height=6)\n",
    "grid.draw(venn.plot)\n",
    "dev.off()\n"
   ]
  },
  {
   "cell_type": "code",
   "execution_count": null,
   "metadata": {
    "vscode": {
     "languageId": "r"
    }
   },
   "outputs": [],
   "source": [
    "# 计算三个集合的交集基因\n",
    "common_genes <- Reduce(intersect, list(cluster2_genes, low_fc_genes, scenic_genes))\n",
    "\n",
    "# 找出交集基因在 MvsK.csv 中的 Log2FC 和 Padjust\n",
    "common_df <- df %>%\n",
    "  filter(Gene_name %in% common_genes) %>%\n",
    "  select(Gene_name, Log2FC, Padjust) %>%\n",
    "  arrange(desc(Log2FC))   # 按 Log2FC 从大到小排序\n",
    "\n",
    "# 打印结果\n",
    "print(common_df)\n",
    "\n",
    "# 保存到文件\n",
    "write.csv(common_df, \"c10_common_gene_Log2FC_3sets.csv\", row.names = FALSE)\n"
   ]
  },
  {
   "cell_type": "markdown",
   "metadata": {},
   "source": [
    "## 二个数据集的venn图!!!!（bulk & sigmarker）"
   ]
  },
  {
   "cell_type": "code",
   "execution_count": null,
   "metadata": {
    "vscode": {
     "languageId": "r"
    }
   },
   "outputs": [],
   "source": [
    "# library(dplyr)\n",
    "# library(readxl)\n",
    "# library(VennDiagram)\n",
    "\n",
    "# # 1. 读取 markers 文件\n",
    "# markers <- read_excel(\"06.markers_just_macro.xlsx\")\n",
    "\n",
    "# # 选择 cluster = 2 且 |avg_log2FC| > 2 的基因\n",
    "# cluster2_genes <- markers %>%\n",
    "#   filter(cluster == \"Macrophages_c10\", avg_log2FC > 1) %>%\n",
    "#   pull(gene)   # 提取 gene 列\n",
    "\n",
    "# # 2. 读取差异基因 CSV 文件\n",
    "# df <- read.csv(\"MvsK.csv\")\n",
    "\n",
    "\n",
    "# low_fc_genes <- df %>%\n",
    "#   filter(Log2FC > 2, Padjust < 0.05) %>%\n",
    "#   pull(Gene_name)   # 提取 Gene 列\n",
    "\n",
    "# # 3. 绘制 Venn 图\n",
    "# venn.plot <- venn.diagram(\n",
    "#   x = list(\n",
    "#     Cluster2 = cluster2_genes,\n",
    "#     LowFC = low_fc_genes\n",
    "#   ),\n",
    "#   filename = NULL,\n",
    "#   fill=c(\"cornflowerblue\", \"darkorchid1\"),\n",
    "# #   alpha = 0.5,\n",
    "# #   cex = 2,\n",
    "# cat.col = c(\"cornflowerblue\", \"darkorchid1\"),\n",
    "#   cat.cex = 1.1,\n",
    "#   cat.pos = c(-1, 1),\n",
    "# #   main = \"Venn Diagram\"\n",
    "# )\n",
    "\n",
    "# pdf(file=\"c10_up.pdf\", width=5, height=5)\n",
    "# grid.draw(venn.plot)\n",
    "# dev.off()"
   ]
  },
  {
   "cell_type": "code",
   "execution_count": null,
   "metadata": {
    "vscode": {
     "languageId": "r"
    }
   },
   "outputs": [],
   "source": [
    "# # 找出交集基因在 MvsK.csv 中的 Log2FC 和 Padjust\n",
    "# common_df <- df %>%\n",
    "#   filter(Gene_name %in% common_genes) %>%\n",
    "#   select(Gene_name, Log2FC, Padjust) %>%\n",
    "#   arrange(desc(Log2FC))   # 按 Log2FC 升序排列（从小到大）\n",
    "\n",
    "# # 打印结果\n",
    "# print(common_df)\n",
    "\n",
    "# # 保存到文件\n",
    "# write.csv(common_df, \"c10_common_gene_Log2FC_2.csv\", row.names = FALSE)\n"
   ]
  },
  {
   "cell_type": "markdown",
   "metadata": {},
   "source": [
    "### 交集基因在所有细胞亚型中得表达量气泡图"
   ]
  },
  {
   "cell_type": "code",
   "execution_count": null,
   "metadata": {
    "vscode": {
     "languageId": "r"
    }
   },
   "outputs": [],
   "source": [
    "library(Seurat)\n",
    "library(dplyr)\n",
    "library(patchwork)\n",
    "# library(readr)\n",
    "library(ggplot2)\n",
    "#有云服务器的，可开启并运算，这里我用4个线程：\n",
    "library(future)\n",
    "library(qs)\n",
    "# check the current active plan\n",
    "plan()\n",
    "# change the current plan to access parallelization\n",
    "plan(\"multisession\", workers =40)\n",
    "plan()\n",
    "\n",
    "#设置可用的内存\n",
    "options(future.globals.maxSize = 4 * 1024^3)\n",
    "plan(\"sequential\")\n",
    "future::plan()\n"
   ]
  },
  {
   "cell_type": "code",
   "execution_count": null,
   "metadata": {
    "vscode": {
     "languageId": "r"
    }
   },
   "outputs": [],
   "source": [
    "# seurat.data=qread(file = \"/home/guoliming/Brown/ALI_CRL/ALI/Outdata/Step3.Cluster_annotion.qs\")\n",
    "# other_cells  <- subset(seurat.data, subset = celltype %in% c(\"T cells\",\"B cells\",\"Other Myeloid cells\",\"Smooth muscle cells\",\"Platelets\"))\n",
    "\n",
    "# Endothelial <- qread(\"/home/guoliming/Brown/ALI_CRL/ALI/Endothelial/Outdata/Sub_annotion.qs\")\n",
    "# Epithelial <- qread(\"/home/guoliming/Brown/ALI_CRL/ALI/Epithelial/Outdata/Sub_annotion.qs\")\n",
    "# Fibroblast <- qread(\"/home/guoliming/Brown/ALI_CRL/ALI/Fibroblast/Outdata/Sub_annotion.qs\")\n",
    "\n",
    "# NK_cells <- qread(\"/home/guoliming/Brown/ALI_CRL/ALI/NK cells/Outdata/Sub_annotion.qs\")\n",
    "# Neutrophils <- qread(\"/home/guoliming/Brown/ALI_CRL/ALI/Neutrophils/Outdata/Sub_annotion.qs\")\n",
    "# Macrophages <- qread(\"/home/guoliming/Brown/ALI_CRL/ALI/Macrophages/Outdata/Sub_annotion.qs\")\n",
    "\n",
    "# # 合并为一个新的 Seurat 对象\n",
    "# seurat.data <- merge(other_cells, y = list(Endothelial, Epithelial,Fibroblast,NK_cells,Neutrophils,Macrophages), project = \"ALI_Selected\")\n",
    "\n",
    "# seurat.data <- subset(seurat.data, subset = !grepl(\"\\\\(\", celltype))\n",
    "\n",
    "# qsave(seurat.data, file = \"/home/guoliming/Brown/ALI_Gaoji/sc_bulk_analysis_Epithelial/7_RNAseq/all_cells.qs\")"
   ]
  },
  {
   "cell_type": "code",
   "execution_count": null,
   "metadata": {
    "vscode": {
     "languageId": "r"
    }
   },
   "outputs": [],
   "source": [
    "seurat.data = qread(file = \"/home/user/ALI/6_Bulk_RNAseq/all_cells.qs\")"
   ]
  },
  {
   "cell_type": "code",
   "execution_count": null,
   "metadata": {
    "vscode": {
     "languageId": "r"
    }
   },
   "outputs": [],
   "source": [
    "common_genes = c(\n",
    "\"Cxcl9\",\n",
    "\"Clec4e\",\n",
    "\"Hmox1\",\n",
    "\"Nos2\",\n",
    "\"Sod2\",\n",
    "\"Acod1\",\n",
    "\"Tfec\",\n",
    "\"Csf2rb\",\n",
    "\"Msr1\")\n"
   ]
  },
  {
   "cell_type": "code",
   "execution_count": null,
   "metadata": {
    "vscode": {
     "languageId": "r"
    }
   },
   "outputs": [],
   "source": [
    "\n",
    "# #绘制marker在各个cluster的气泡图\n",
    "pdf(file=\"common_genes_Bubble_logfc1.pdf\",width=20,height=12)\n",
    "cluster10Marker=common_genes\n",
    "DotPlot(object = seurat.data, features = cluster10Marker) + \n",
    "# RotatedAxis() +  # 旋转 X 轴文字，推荐 Seurat 自带函数\n",
    "theme(\n",
    "    axis.text.x = element_text(size = 16, angle = 45, hjust = 1),  # 横轴文字\n",
    "    axis.text.y = element_text(size = 16),                          # 纵轴文字\n",
    "    axis.title.x = element_blank(),  # 去掉X轴标题\n",
    "    axis.title.y = element_blank(),  # 去掉Y轴标题\n",
    "    legend.title = element_text(size = 16),\n",
    "    legend.text  = element_text(size = 16),\n",
    "    legend.key.size = unit(0.8, \"cm\")  # 图例符号大小\n",
    "  )\n",
    "dev.off()\n"
   ]
  }
 ],
 "metadata": {
  "kernelspec": {
   "display_name": "R",
   "language": "R",
   "name": "ir"
  },
  "language_info": {
   "codemirror_mode": "r",
   "file_extension": ".r",
   "mimetype": "text/x-r-source",
   "name": "R",
   "pygments_lexer": "r",
   "version": "4.4.3"
  }
 },
 "nbformat": 4,
 "nbformat_minor": 2
}
