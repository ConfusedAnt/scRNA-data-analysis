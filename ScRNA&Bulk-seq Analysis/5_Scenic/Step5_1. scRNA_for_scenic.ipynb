{
 "cells": [
  {
   "cell_type": "code",
   "execution_count": null,
   "metadata": {
    "vscode": {
     "languageId": "r"
    }
   },
   "outputs": [],
   "source": [
    "## 加载R包\n",
    "library(Seurat)\n",
    "# library(SeuratData)\n",
    "library(dplyr)\n",
    "library(readr)\n",
    "library(qs)"
   ]
  },
  {
   "cell_type": "code",
   "execution_count": 2,
   "metadata": {
    "vscode": {
     "languageId": "r"
    }
   },
   "outputs": [],
   "source": [
    "mac_sub <- qread(\"/home/user/ALI/6_Bulk_RNAseq/all_cells.qs\")\n"
   ]
  },
  {
   "cell_type": "code",
   "execution_count": 4,
   "metadata": {
    "vscode": {
     "languageId": "r"
    }
   },
   "outputs": [
    {
     "name": "stderr",
     "output_type": "stream",
     "text": [
      "Warning message in asMethod(object):\n",
      "“sparse->dense coercion: allocating vector of size 7.3 GiB”\n"
     ]
    }
   ],
   "source": [
    "write.csv(t(as.matrix(mac_sub@assays$RNA@counts)),file = \"/mnt/data/guoliming/tmp/for.pyscenic.csv\")"
   ]
  },
  {
   "cell_type": "markdown",
   "metadata": {},
   "source": [
    "nohup bash scenic_mouse.bash  1>pySCENIC.log 2>&1 &"
   ]
  },
  {
   "cell_type": "code",
   "execution_count": null,
   "metadata": {
    "vscode": {
     "languageId": "r"
    }
   },
   "outputs": [],
   "source": [
    "# 运行的时间比较长，具体视细胞量而定\n",
    "# 2700个细胞10个线程需要运行约半小时\n",
    "# 10w个细胞20个线程需要运行5-7天"
   ]
  }
 ],
 "metadata": {
  "kernelspec": {
   "display_name": "R4.4.3",
   "language": "R",
   "name": "r4.4.3"
  },
  "language_info": {
   "codemirror_mode": "r",
   "file_extension": ".r",
   "mimetype": "text/x-r-source",
   "name": "R",
   "pygments_lexer": "r",
   "version": "4.4.3"
  }
 },
 "nbformat": 4,
 "nbformat_minor": 2
}
