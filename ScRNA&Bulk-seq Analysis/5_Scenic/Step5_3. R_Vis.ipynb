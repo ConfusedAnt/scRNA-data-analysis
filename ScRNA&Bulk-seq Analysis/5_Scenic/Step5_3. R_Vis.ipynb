{
 "cells": [
  {
   "cell_type": "markdown",
   "id": "31616e07-da82-4e74-ad2d-305e0da0018e",
   "metadata": {},
   "source": [
    "## SCENIC.loom导入R里面进行可视化"
   ]
  },
  {
   "cell_type": "code",
   "execution_count": null,
   "id": "bc3c1a99-9c57-4f6a-a604-8a0ac91750a6",
   "metadata": {
    "vscode": {
     "languageId": "r"
    }
   },
   "outputs": [],
   "source": [
    "#加载R包：\n",
    "rm(list=ls())\n",
    "library(Seurat)\n",
    "library(SCopeLoomR)\n",
    "library(AUCell)\n",
    "library(SCENIC)\n",
    "library(dplyr)\n",
    "library(KernSmooth)\n",
    "library(RColorBrewer)\n",
    "library(plotly)\n",
    "library(BiocParallel)\n",
    "library(grid)\n",
    "library(ComplexHeatmap)\n",
    "library(data.table)\n",
    "# library(scRNAseq)\n",
    "library(patchwork)\n",
    "library(ggplot2) \n",
    "library(stringr)\n",
    "library(circlize)\n",
    "library(qs)"
   ]
  },
  {
   "cell_type": "code",
   "execution_count": null,
   "id": "68c8391d-99e1-4b5b-9a83-cc4685ebc7a8",
   "metadata": {
    "vscode": {
     "languageId": "r"
    }
   },
   "outputs": [],
   "source": [
    "source(\"../custom_seurat_functions.R\")"
   ]
  },
  {
   "cell_type": "markdown",
   "id": "2d498bfa-e354-4cf0-a41b-e3ef432abc13",
   "metadata": {},
   "source": [
    "### Step1. 提取 out_SCENIC.loom 信息"
   ]
  },
  {
   "cell_type": "code",
   "execution_count": null,
   "id": "10c0815d-519f-40f4-910b-7ecfd157af8a",
   "metadata": {
    "vscode": {
     "languageId": "r"
    }
   },
   "outputs": [],
   "source": [
    "#### 1.提取 out_SCENIC.loom 信息\n",
    "loom <- open_loom('out_SCENIC.loom') \n",
    "\n",
    "regulons_incidMat <- get_regulons(loom, column.attr.name=\"Regulons\")\n",
    "regulons_incidMat[1:4,1:4] "
   ]
  },
  {
   "cell_type": "code",
   "execution_count": null,
   "id": "1cd389fb-a2d0-4e26-93b5-31ea468540aa",
   "metadata": {
    "vscode": {
     "languageId": "r"
    }
   },
   "outputs": [],
   "source": [
    "regulons <- regulonsToGeneLists(regulons_incidMat)\n",
    "regulonAUC <- get_regulons_AUC(loom,column.attr.name='RegulonsAUC')\n",
    "regulonAucThresholds <- get_regulon_thresholds(loom)\n",
    "tail(regulonAucThresholds[order(as.numeric(names(regulonAucThresholds)))])"
   ]
  },
  {
   "cell_type": "code",
   "execution_count": null,
   "id": "629ce0a1-da00-4d54-98b6-e2aa718e0707",
   "metadata": {
    "vscode": {
     "languageId": "r"
    }
   },
   "outputs": [],
   "source": [
    "embeddings <- get_embeddings(loom)  \n",
    "close_loom(loom)\n",
    "\n",
    "rownames(regulonAUC)"
   ]
  },
  {
   "cell_type": "markdown",
   "id": "c69d6ce7-9efe-4b99-ac89-904d9c39d181",
   "metadata": {},
   "source": [
    "### Step2. 加载Seurat Data"
   ]
  },
  {
   "cell_type": "code",
   "execution_count": null,
   "id": "4fab6090",
   "metadata": {
    "vscode": {
     "languageId": "r"
    }
   },
   "outputs": [],
   "source": [
    "# Macrophages <- qread(\"/home/guoliming/Brown/ALI_CRL/ALI/Macrophages/Outdata/Sub_annotion.qs\")\n",
    "# seurat.data  <- subset(Macrophages, subset = celltype %in% c(\"Macrophages_c2\",\"Macrophages_c9\",\"Macrophages_c10\"))\n",
    "# seurat.data <- subset(Macrophages, subset = !grepl(\"\\\\(\", celltype))\n",
    "\n",
    "seurat.data <- qread(\"/home/guoliming/Brown/ALI_Gaoji/sc_bulk_analysis_Epithelial/7_RNAseq/all_cells.qs\")\n"
   ]
  },
  {
   "cell_type": "code",
   "execution_count": null,
   "id": "7cb2f967",
   "metadata": {
    "vscode": {
     "languageId": "r"
    }
   },
   "outputs": [],
   "source": [
    "# qsave(seurat.data,file=\"Macro_Sub_annotion.qs\")"
   ]
  },
  {
   "cell_type": "code",
   "execution_count": null,
   "id": "8716a419-950f-43ed-ad01-5deecb71644f",
   "metadata": {
    "vscode": {
     "languageId": "r"
    }
   },
   "outputs": [],
   "source": [
    "### 2.加载SeuratData\n",
    "# seurat.data = qread(file = \"./Outdata/Step1.pySCENIC_test_seurat.qs\")\n",
    "#seurat.data = readRDS(\"./pbmc3k.test.seurat.Rds\")\n",
    "# seurat.data <- seurat.data %>% NormalizeData(verbose = F) %>%\n",
    "#   FindVariableFeatures(selection.method = \"vst\", nfeatures = 2000, verbose = F) %>% \n",
    "#   ScaleData(verbose = F) %>%\n",
    "#   RunPCA(npcs = 30, verbose = F)\n",
    "\n",
    "# n.pcs = 30\n",
    "# seurat.data <- seurat.data %>% \n",
    "#   RunUMAP(reduction = \"pca\", dims = 1:n.pcs, verbose = F) %>% \n",
    "#   FindNeighbors(reduction = \"pca\", k.param = 10, dims = 1:n.pcs)"
   ]
  },
  {
   "cell_type": "code",
   "execution_count": null,
   "id": "b288a9ee-5f89-4117-8c3c-b9679306076a",
   "metadata": {
    "vscode": {
     "languageId": "r"
    }
   },
   "outputs": [],
   "source": [
    "# 这里有自带的注释\n",
    "# seurat.data$seurat_annotations[is.na(seurat.data$seurat_annotations)] = \"B\"\n",
    "# Idents(seurat.data) <- \"seurat_annotations\"\n",
    "\n",
    "# options(repr.plot.width = 6, repr.plot.height = 4.5)\n",
    "# DimPlot(seurat.data, reduction = \"umap\", label=T) "
   ]
  },
  {
   "cell_type": "code",
   "execution_count": null,
   "id": "3c6bc6ea-fd71-4475-a432-1881d80350fc",
   "metadata": {
    "vscode": {
     "languageId": "r"
    }
   },
   "outputs": [],
   "source": [
    "## 把SCENIC的结果与seurat数据合并\n",
    "sub_regulonAUC <- regulonAUC[,match(colnames(seurat.data),colnames(regulonAUC))]\n",
    "#确认是否一致\n",
    "identical(colnames(sub_regulonAUC), colnames(seurat.data))\n",
    "dim(sub_regulonAUC)"
   ]
  },
  {
   "cell_type": "code",
   "execution_count": null,
   "id": "6884f4b3-11ba-45f4-9dd7-0df9760714b9",
   "metadata": {
    "vscode": {
     "languageId": "r"
    }
   },
   "outputs": [],
   "source": [
    "cellTypes <- data.frame(row.names = colnames(seurat.data), \n",
    "                        celltype = seurat.data$celltype)\n",
    "head(cellTypes)"
   ]
  },
  {
   "cell_type": "code",
   "execution_count": null,
   "id": "8c5b4ffc-610c-4e85-a67f-3a80bca15f2e",
   "metadata": {
    "vscode": {
     "languageId": "r"
    }
   },
   "outputs": [],
   "source": [
    "sub_regulonAUC[1:4,1:4] "
   ]
  },
  {
   "cell_type": "code",
   "execution_count": null,
   "id": "82d5e8ab",
   "metadata": {
    "vscode": {
     "languageId": "r"
    }
   },
   "outputs": [],
   "source": [
    "library(SummarizedExperiment)"
   ]
  },
  {
   "cell_type": "code",
   "execution_count": null,
   "id": "e7f33e9f-d765-4636-b10c-6539eaaf9279",
   "metadata": {
    "vscode": {
     "languageId": "r"
    }
   },
   "outputs": [],
   "source": [
    "scenic_res = assay(sub_regulonAUC) %>% as.matrix()\n",
    "seurat.data[[\"scenic\"]] <- SeuratObject::CreateAssayObject(counts = scenic_res)\n",
    "seurat.data <- SeuratObject::SetAssayData(seurat.data, slot = \"scale.data\",\n",
    "                                  new.data = scenic_res, assay = \"scenic\")"
   ]
  },
  {
   "cell_type": "code",
   "execution_count": null,
   "id": "858d673b-d583-44ec-98e6-bbace65970fb",
   "metadata": {
    "vscode": {
     "languageId": "r"
    }
   },
   "outputs": [],
   "source": [
    "seurat.data"
   ]
  },
  {
   "cell_type": "markdown",
   "id": "087012ab",
   "metadata": {},
   "source": [
    "## 保存Tf-target的对应关系"
   ]
  },
  {
   "cell_type": "code",
   "execution_count": null,
   "id": "c798c498",
   "metadata": {
    "vscode": {
     "languageId": "r"
    }
   },
   "outputs": [],
   "source": [
    "tf_targets <- tibble(\n",
    "  TF = rep(names(regulons), sapply(regulons, length)),  # TF 名称重复\n",
    "  TargetGene = unlist(regulons)                        # 对应靶基因\n",
    ")\n",
    "\n",
    "# 导出为 CSV\n",
    "write.csv(tf_targets, \"SCENIC_TF_Targets.csv\", row.names = FALSE)"
   ]
  },
  {
   "cell_type": "markdown",
   "id": "52126204",
   "metadata": {},
   "source": [
    "## 得到细胞亚群特异性TF"
   ]
  },
  {
   "cell_type": "code",
   "execution_count": null,
   "id": "6f23b1ab",
   "metadata": {
    "vscode": {
     "languageId": "r"
    }
   },
   "outputs": [],
   "source": [
    "### 4.1. TF活性均值\n",
    "# 看看不同单细胞亚群的转录因子活性平均值\n",
    "# Split the cells by cluster:\n",
    "selectedResolution <- \"celltype\" # select resolution\n",
    "cellsPerGroup <- split(rownames(cellTypes), \n",
    "                       cellTypes[,selectedResolution])\n",
    "\n",
    "# 去除extened regulons\n",
    "sub_regulonAUC <- sub_regulonAUC[onlyNonDuplicatedExtended(rownames(sub_regulonAUC)),] \n",
    "dim(sub_regulonAUC)\n",
    "\n",
    "# Calculate average expression:\n",
    "regulonActivity_byGroup <- sapply(cellsPerGroup,\n",
    "                                  function(cells) \n",
    "                                    rowMeans(getAUC(sub_regulonAUC)[,cells]))\n",
    "\n",
    "# Scale expression. \n",
    "# Scale函数是对列进行归一化，所以要把regulonActivity_byGroup转置成细胞为行，基因为列\n",
    "# 参考：https://www.jianshu.com/p/115d07af3029\n",
    "regulonActivity_byGroup_Scaled <- t(scale(t(regulonActivity_byGroup),\n",
    "                                          center = T, scale=T)) \n",
    "# 同一个regulon在不同cluster的scale处理\n",
    "dim(regulonActivity_byGroup_Scaled)\n",
    "regulonActivity_byGroup_Scaled=na.omit(regulonActivity_byGroup_Scaled)"
   ]
  },
  {
   "cell_type": "markdown",
   "id": "9b88f0e2",
   "metadata": {},
   "source": [
    "## 可视化fc>3的"
   ]
  },
  {
   "cell_type": "code",
   "execution_count": null,
   "id": "889e4378",
   "metadata": {
    "vscode": {
     "languageId": "r"
    }
   },
   "outputs": [],
   "source": [
    "# ### 4.3 其他查看TF方式\n",
    "# rss=regulonActivity_byGroup_Scaled\n",
    "# head(rss)\n",
    "# df = do.call(rbind,\n",
    "#              lapply(1:ncol(rss), function(i){\n",
    "#                dat = data.frame(\n",
    "#                  path = rownames(rss),\n",
    "#                  cluster = colnames(rss)[i],\n",
    "#                  sd.1 = rss[,i],\n",
    "#                  sd.2 = apply(rss[,-i], 1, median)  \n",
    "#                )\n",
    "#              }))\n",
    "# df$fc = df$sd.1 - df$sd.2\n",
    "\n",
    "# ## 可视化fc>3的\n",
    "\n",
    "# Macrophages_c2_tf <- df %>%\n",
    "#   filter(cluster %in% c(\"Macrophages_c2\",\"Macrophages_c10\",\"Macrophages_c9\")) %>% \n",
    "#   filter(fc > 3) %>% \n",
    "#   # top_n(5, fc) %>% \n",
    "# arrange(desc(fc))\n",
    "\n",
    "# # top5 <- Macrophages_c2_tf %>% group_by(cluster) %>% top_n(5, fc)\n",
    "# rowcn = data.frame(path = Macrophages_c2_tf$cluster) \n",
    "# n = rss[Macrophages_c2_tf$path,] \n",
    "# #rownames(rowcn) = rownames(n)\n",
    "\n",
    "# options(repr.plot.width = 12, repr.plot.height = 8)\n",
    "\n",
    "# pdf(\"pheatmap_fc3.pdf\", width=12, height=8)\n",
    "# pheatmap(n,\n",
    "#          annotation_row = rowcn,\n",
    "#          show_rownames = T,\n",
    "#          fontsize = 15)\n",
    "# dev.off()"
   ]
  },
  {
   "cell_type": "markdown",
   "id": "a96a4746",
   "metadata": {},
   "source": [
    "## 可视化top3的"
   ]
  },
  {
   "cell_type": "code",
   "execution_count": null,
   "id": "f53cf16b",
   "metadata": {
    "vscode": {
     "languageId": "r"
    }
   },
   "outputs": [],
   "source": [
    "### 4.3 其他查看TF方式\n",
    "rss=regulonActivity_byGroup_Scaled\n",
    "# head(rss)\n",
    "df = do.call(rbind,\n",
    "             lapply(1:ncol(rss), function(i){\n",
    "               dat = data.frame(\n",
    "                 path = rownames(rss),\n",
    "                 cluster = colnames(rss)[i],\n",
    "                 sd.1 = rss[,i],\n",
    "                 sd.2 = apply(rss[,-i], 1, median)  \n",
    "               )\n",
    "             }))\n",
    "df$fc = df$sd.1 - df$sd.2\n",
    "\n",
    "## 可视化top5的\n",
    "\n",
    "Macrophages_c2_tf <- df %>%\n",
    "  filter(cluster %in% c(\"Macrophages_c2\",\"Macrophages_c10\",\"Macrophages_c9\")) %>% \n",
    "  # filter(fc > 3) %>% \n",
    "  # top_n(5, fc) %>% \n",
    "arrange(desc(fc))\n",
    "\n",
    "Macrophages_c2_tf <- Macrophages_c2_tf %>% group_by(cluster) %>% top_n(3, fc)\n",
    "rowcn = data.frame(path = Macrophages_c2_tf$cluster) \n",
    "n = rss[Macrophages_c2_tf$path,] \n",
    "#rownames(rowcn) = rownames(n)\n",
    "\n",
    "# top5\n",
    "options(repr.plot.width = 12, repr.plot.height = 6)\n",
    "\n",
    "pdf(\"pheatmap_top3_.pdf\", width=12, height=6)\n",
    "pheatmap(n,\n",
    "         annotation_row = rowcn,\n",
    "         show_rownames = T,\n",
    "         fontsize = 15)\n",
    "dev.off()\n",
    "         "
   ]
  },
  {
   "cell_type": "code",
   "execution_count": null,
   "id": "3b7c44ef",
   "metadata": {
    "vscode": {
     "languageId": "r"
    }
   },
   "outputs": [],
   "source": [
    "unique(Macrophages_c2_tf$cluster)"
   ]
  },
  {
   "cell_type": "code",
   "execution_count": null,
   "id": "7c063aab",
   "metadata": {
    "vscode": {
     "languageId": "r"
    }
   },
   "outputs": [],
   "source": [
    "write.csv(Macrophages_c2_tf,\n",
    "          file = \"Macrophages_tf_Top3.csv\",\n",
    "          row.names = FALSE)   # 不要行名"
   ]
  },
  {
   "cell_type": "markdown",
   "id": "6de93358",
   "metadata": {},
   "source": [
    "## 可选-bulk-sigmarker & scenic调控基因求交集（这部分在6_Bulk_RNAseq可做）"
   ]
  },
  {
   "cell_type": "code",
   "execution_count": null,
   "id": "9b2ac3f0",
   "metadata": {
    "vscode": {
     "languageId": "r"
    }
   },
   "outputs": [],
   "source": [
    "# 加载包\n",
    "library(dplyr)\n",
    "\n",
    "# SCENIC_TF_Targets为TF-Target对应表格\n",
    "scenic_df <- read.csv(\"/home/guoliming/Brown/ALI_Gaoji/sc_bulk_analysis_Epithelial/8_scenic/SCENIC_TF_Targets.csv\")\n",
    "\n",
    "### common_genes_Log2FC_Padj为bulk-RNA差异表达基因和逆时序分析的交集\n",
    "rna_df <- read.csv(\"/home/guoliming/Brown/ALI_Gaoji/sc_bulk_analysis_Epithelial/7_RNAseq/c2_common_gene_Log2FC_2.csv\")\n",
    "\n",
    "# 确保列名一致\n",
    "colnames(scenic_df)[1:2]  # 应该是 \"TF\" 和 \"TargetGene\"\n",
    "colnames(rna_df)[1]       # 应该是 \"Gene_name\""
   ]
  },
  {
   "cell_type": "code",
   "execution_count": null,
   "id": "53d1d235",
   "metadata": {
    "vscode": {
     "languageId": "r"
    }
   },
   "outputs": [],
   "source": [
    "Macrophages_c2_tf"
   ]
  },
  {
   "cell_type": "code",
   "execution_count": null,
   "id": "c2dfc481",
   "metadata": {
    "vscode": {
     "languageId": "r"
    }
   },
   "outputs": [],
   "source": [
    "Macrophages_c2_tf_gene <- Macrophages_c2_tf %>%\n",
    "  filter(cluster == \"Macrophages_c2\")\n",
    "\n",
    "scenic_filtered <- scenic_df %>%\n",
    "  filter(TF %in% Macrophages_c2_tf_gene$path)"
   ]
  },
  {
   "cell_type": "code",
   "execution_count": null,
   "id": "0d362608",
   "metadata": {
    "vscode": {
     "languageId": "r"
    }
   },
   "outputs": [],
   "source": [
    "scenic_filtered\n",
    "write.csv(scenic_filtered,\n",
    "          file = \"c2_scenic_gene_target.csv\",\n",
    "          row.names = FALSE)   # 不要行名"
   ]
  },
  {
   "cell_type": "code",
   "execution_count": null,
   "id": "e61ee777",
   "metadata": {
    "vscode": {
     "languageId": "r"
    }
   },
   "outputs": [],
   "source": [
    "# 取交集\n",
    "inter_genes <- intersect(unique(scenic_filtered$TargetGene),\n",
    "                         rna_df$Gene_name)\n",
    "\n",
    "# 转换为 data.frame\n",
    "inter_genes_df <- data.frame(Gene = inter_genes)\n",
    "\n",
    "# 写出到 CSV\n",
    "write.csv(inter_genes_df, \"c2___intersect_genes.csv\", row.names = FALSE)\n"
   ]
  },
  {
   "cell_type": "code",
   "execution_count": null,
   "id": "e41c58c6",
   "metadata": {
    "vscode": {
     "languageId": "r"
    }
   },
   "outputs": [],
   "source": [
    "inter_genes"
   ]
  },
  {
   "cell_type": "markdown",
   "id": "efaf079b",
   "metadata": {},
   "source": [
    "## 可视化"
   ]
  },
  {
   "cell_type": "code",
   "execution_count": null,
   "id": "3a30f560",
   "metadata": {
    "vscode": {
     "languageId": "r"
    }
   },
   "outputs": [],
   "source": [
    "## 绘制单个基因在不同亚型的表达量\n",
    "regulonsToPlot = c(\"Stat2(+)\",\"Rreb1(+)\",\"Stat1(+)\")\n",
    "regulonsToPlot %in% row.names(sub_regulonAUC)\n",
    "# Vis\n",
    "p1 = DotPlot(seurat.data, features = unique(regulonsToPlot), assay = \"scenic\") + coord_flip() + RotatedAxis()\n",
    "p2 = VlnPlot(seurat.data, features = regulonsToPlot, assay = \"scenic\",pt.size = 0)&labs(y=\"TF activity\")\n",
    "p3 = RidgePlot(seurat.data, features = regulonsToPlot, assay = \"scenic\" , ncol = 2)&labs(x=\"TF activity\")\n",
    "# p4 = FeaturePlot(seurat.data,features = regulonsToPlot)\n",
    "\n",
    "options(repr.plot.width = 15, repr.plot.height = 7)\n",
    "wrap_plots(p1\n",
    "# ,p2,p3\n",
    "# ,p4\n",
    ")"
   ]
  }
 ],
 "metadata": {
  "kernelspec": {
   "display_name": "R4.4.3",
   "language": "R",
   "name": "r4.4.3"
  },
  "language_info": {
   "codemirror_mode": "r",
   "file_extension": ".r",
   "mimetype": "text/x-r-source",
   "name": "R",
   "pygments_lexer": "r",
   "version": "4.4.3"
  }
 },
 "nbformat": 4,
 "nbformat_minor": 5
}
