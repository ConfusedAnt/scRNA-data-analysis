{
 "cells": [
  {
   "cell_type": "markdown",
   "metadata": {},
   "source": [
    "### 读取不同的Bulk数据"
   ]
  },
  {
   "cell_type": "code",
   "execution_count": null,
   "metadata": {
    "vscode": {
     "languageId": "r"
    }
   },
   "outputs": [],
   "source": [
    "# 设置工作目录\n",
    "data_dir <- \"/home/user/sc_bulk_analysis/1_bulk_data\"\n",
    "\n",
    "# 主文件路径\n",
    "main_file <- file.path(data_dir, \"GSE193876_gene_counts_FPKM_TPM_matrix.txt\")\n",
    "\n",
    "# 读取主文件\n",
    "main_df <- read.table(main_file, header = TRUE, sep = \"\\t\", stringsAsFactors = FALSE)\n",
    "\n",
    "# 只保留 id、gene_name 以及列名中含 fpkm_CTRL 或 fpkm_LPS 的列\n",
    "cols_to_keep <- c(\"gene_name\", grep(\"fpkm_(CTRL|LPS)\", colnames(main_df), value = TRUE))\n",
    "main_df <- main_df[, cols_to_keep]\n",
    "\n",
    "# 列出目录下所有 txt 文件（排除主文件）\n",
    "all_files <- list.files(data_dir, pattern = \"\\\\.txt$\", full.names = TRUE)\n",
    "other_files <- setdiff(all_files, main_file)\n",
    "\n",
    "# 循环读取其他文件并做合并（交集）\n",
    "for(f in other_files){\n",
    "  temp_df <- read.table(f, header = TRUE, sep = \"\\t\", stringsAsFactors = FALSE)\n",
    "  temp_df <- temp_df[, !(colnames(temp_df) %in% \"id\")]  # 删除id列\n",
    "  main_df <- merge(main_df, temp_df, by = c(\"gene_name\"))\n",
    "}\n",
    "\n",
    "# 查看合并结果\n",
    "head(main_df)\n",
    "\n",
    "# 保存结果\n",
    "write.table(main_df, file = file.path(data_dir, \"merged_intersect.txt\"), \n",
    "            sep = \"\\t\", row.names = FALSE, quote = FALSE)"
   ]
  },
  {
   "cell_type": "code",
   "execution_count": null,
   "metadata": {
    "vscode": {
     "languageId": "r"
    }
   },
   "outputs": [],
   "source": [
    "nrow(main_df)"
   ]
  },
  {
   "cell_type": "markdown",
   "metadata": {},
   "source": [
    "### 每次只需要改这个筛选规则就可以了"
   ]
  },
  {
   "cell_type": "code",
   "execution_count": null,
   "metadata": {
    "vscode": {
     "languageId": "r"
    }
   },
   "outputs": [],
   "source": [
    "data_dir <- \"/home/user/sc_bulk_analysis/1_bulk_data\"\n",
    "\n",
    "# 主文件路径\n",
    "bulk_file <- file.path(data_dir, \"merged_intersect.txt\")\n",
    "bulk_df <- read.table(bulk_file, header = TRUE, sep = \"\\t\", stringsAsFactors = FALSE)"
   ]
  },
  {
   "cell_type": "code",
   "execution_count": null,
   "metadata": {
    "vscode": {
     "languageId": "r"
    }
   },
   "outputs": [],
   "source": [
    "\n",
    "# 选择符合条件的列名\n",
    "keep_cols <- c(\"gene_name\",\n",
    "                grep(\"(CTRL|LPS[0-9]+|48h|control)\", colnames(bulk_df), value = TRUE))\n",
    "keep_cols <- keep_cols[!grepl(\"average|count\", keep_cols)]\n",
    "\n",
    "# 生成新的data.frame\n",
    "df_sub <- bulk_df[, keep_cols, drop = FALSE]\n",
    "\n",
    "# 查看结果\n",
    "head(df_sub)\n"
   ]
  },
  {
   "cell_type": "code",
   "execution_count": null,
   "metadata": {
    "vscode": {
     "languageId": "r"
    }
   },
   "outputs": [],
   "source": [
    "colnames(df_sub)[colnames(df_sub) == \"gene_name\"] <- \"GeneSymbol\"\n"
   ]
  },
  {
   "cell_type": "code",
   "execution_count": null,
   "metadata": {
    "vscode": {
     "languageId": "r"
    }
   },
   "outputs": [],
   "source": [
    "head(df_sub)"
   ]
  },
  {
   "cell_type": "code",
   "execution_count": null,
   "metadata": {
    "vscode": {
     "languageId": "r"
    }
   },
   "outputs": [],
   "source": [
    "library(data.table)"
   ]
  },
  {
   "cell_type": "code",
   "execution_count": null,
   "metadata": {
    "vscode": {
     "languageId": "r"
    }
   },
   "outputs": [],
   "source": [
    "# 输出文件\n",
    "fwrite(df_sub,file = \"Bulk_data_need_edit.txt\",sep = \"\\t\",row.names = F)"
   ]
  },
  {
   "cell_type": "markdown",
   "metadata": {},
   "source": [
    "#### 手动修改一下列名（样本名），在样本前面加上GSE号，规范化"
   ]
  },
  {
   "cell_type": "code",
   "execution_count": null,
   "metadata": {
    "vscode": {
     "languageId": "r"
    }
   },
   "outputs": [],
   "source": [
    "check_df = read.table(\"/home/guoliming/Brown/ALI_Gaoji/sc_bulk_analysis/1_bulk_data/Bulk_data.txt\",header = TRUE, sep = \"\\t\", stringsAsFactors = FALSE)"
   ]
  },
  {
   "cell_type": "code",
   "execution_count": null,
   "metadata": {
    "vscode": {
     "languageId": "r"
    }
   },
   "outputs": [],
   "source": [
    "head(check_df)"
   ]
  },
  {
   "cell_type": "markdown",
   "metadata": {},
   "source": [
    "### 输出表型"
   ]
  },
  {
   "cell_type": "code",
   "execution_count": null,
   "metadata": {
    "vscode": {
     "languageId": "r"
    }
   },
   "outputs": [],
   "source": [
    "# 假设你的原始数据叫 df\n",
    "samples <- setdiff(colnames(check_df), \"GeneSymbol\")\n",
    "\n",
    "# 新建 data.frame，行名是样本，列是 Group\n",
    "phenotype_df <- data.frame(\n",
    "  status  = ifelse(grepl(\"LPS\", samples), 1,\n",
    "                 ifelse(grepl(\"CTRL\", samples), 0, NA)),\n",
    "  row.names = samples\n",
    ")\n",
    "\n",
    "phenotype_df$time <- ifelse(phenotype_df$status == 1, 0, 1)\n",
    "\n",
    "# 把 time 列放到前面\n",
    "phenotype_df <- phenotype_df[, c(\"time\", \"status\")]\n",
    "\n",
    "# 查看结果\n",
    "head(phenotype_df)\n",
    "\n"
   ]
  },
  {
   "cell_type": "code",
   "execution_count": null,
   "metadata": {
    "vscode": {
     "languageId": "r"
    }
   },
   "outputs": [],
   "source": [
    "# 输出文件\n",
    "fwrite(phenotype_df,file = \"Phenotype.txt\",sep = \"\\t\",row.names = T)"
   ]
  },
  {
   "cell_type": "code",
   "execution_count": null,
   "metadata": {
    "vscode": {
     "languageId": "r"
    }
   },
   "outputs": [],
   "source": []
  }
 ],
 "metadata": {
  "kernelspec": {
   "display_name": "R",
   "language": "R",
   "name": "ir"
  },
  "language_info": {
   "codemirror_mode": "r",
   "file_extension": ".r",
   "mimetype": "text/x-r-source",
   "name": "R",
   "pygments_lexer": "r",
   "version": "4.4.3"
  }
 },
 "nbformat": 4,
 "nbformat_minor": 2
}
