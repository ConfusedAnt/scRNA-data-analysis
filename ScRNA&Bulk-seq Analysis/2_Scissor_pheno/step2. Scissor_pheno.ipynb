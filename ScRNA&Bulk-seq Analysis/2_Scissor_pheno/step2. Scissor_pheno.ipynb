{
 "cells": [
  {
   "cell_type": "markdown",
   "id": "8cc4885c",
   "metadata": {},
   "source": [
    "Scissor R包github在 https://github.com/sunduanchen/Scissor."
   ]
  },
  {
   "cell_type": "code",
   "execution_count": null,
   "id": "c22ef426",
   "metadata": {
    "vscode": {
     "languageId": "r"
    }
   },
   "outputs": [],
   "source": [
    "#安装\n",
    "#devtools::install_github('sunduanchen/Scissor')"
   ]
  },
  {
   "cell_type": "markdown",
   "id": "19eb013b",
   "metadata": {},
   "source": [
    "## 不同细胞类型的Scissor，只要修改celltype即可"
   ]
  },
  {
   "cell_type": "code",
   "execution_count": null,
   "id": "22cd8e7c",
   "metadata": {
    "vscode": {
     "languageId": "r"
    }
   },
   "outputs": [],
   "source": [
    "celltype <- \"Macrophages\"  ###修改细胞类型的名称"
   ]
  },
  {
   "cell_type": "code",
   "execution_count": null,
   "id": "71df85b6",
   "metadata": {
    "vscode": {
     "languageId": "r"
    }
   },
   "outputs": [],
   "source": [
    "library(Seurat)\n",
    "library(preprocessCore)\n",
    "# library(scAB)\n",
    "library(Scissor)\n",
    "library(qs)\n",
    "library(patchwork)"
   ]
  },
  {
   "cell_type": "code",
   "execution_count": null,
   "id": "e6cb39d8",
   "metadata": {
    "vscode": {
     "languageId": "r"
    }
   },
   "outputs": [],
   "source": [
    "bulk_df <- read.table(\"../1_bulk_data/Bulk_data.txt\", header = TRUE, sep = \"\\t\", stringsAsFactors = FALSE)\n",
    "Phenotype_df <- read.table(\"../1_bulk_data/Phenotype.txt\",row.names = 1, header = TRUE, sep = \"\\t\", stringsAsFactors = FALSE)"
   ]
  },
  {
   "cell_type": "code",
   "execution_count": null,
   "id": "38b41d0e",
   "metadata": {
    "vscode": {
     "languageId": "r"
    }
   },
   "outputs": [],
   "source": [
    "# 假设 bulk_df 已经读取\n",
    "rownames(bulk_df) <- bulk_df$GeneSymbol   # 将 GeneSymbol 列设为行名\n",
    "bulk_df$GeneSymbol <- NULL                # 删除 GeneSymbol 列"
   ]
  },
  {
   "cell_type": "code",
   "execution_count": null,
   "id": "2586f867",
   "metadata": {
    "vscode": {
     "languageId": "r"
    }
   },
   "outputs": [],
   "source": [
    "#样本名称需保持一致\n",
    "table(colnames(bulk_df) == row.names(Phenotype_df))"
   ]
  },
  {
   "cell_type": "code",
   "execution_count": null,
   "id": "7a203db2",
   "metadata": {
    "vscode": {
     "languageId": "r"
    }
   },
   "outputs": [],
   "source": [
    "sc_dataset = qread(paste0(\"/home/guoliming/Brown/ALI_CRL/ALI/\",celltype,\"/Outdata/Sub_annotion.qs\"))"
   ]
  },
  {
   "cell_type": "code",
   "execution_count": null,
   "id": "e31d5361",
   "metadata": {
    "vscode": {
     "languageId": "r"
    }
   },
   "outputs": [],
   "source": [
    "# Idents(sc_dataset) <- sc_dataset@meta.data$RNA_snn_res.0.1"
   ]
  },
  {
   "cell_type": "code",
   "execution_count": null,
   "id": "5cd8b71f",
   "metadata": {
    "vscode": {
     "languageId": "r"
    }
   },
   "outputs": [],
   "source": [
    "UMAP_celltype <- DimPlot(sc_dataset, reduction =\"umap\",\n",
    "                         group.by=\"celltype\",label = T)  ## 用RNA_snn_res.0.1进行sessors\n",
    "                        # label = T)\n",
    "options(repr.plot.width = 6, repr.plot.height = 4.5)\n",
    "UMAP_celltype"
   ]
  },
  {
   "cell_type": "code",
   "execution_count": null,
   "id": "6902d4f1",
   "metadata": {
    "vscode": {
     "languageId": "r"
    }
   },
   "outputs": [],
   "source": [
    "levels(sc_dataset)"
   ]
  },
  {
   "cell_type": "markdown",
   "id": "8710e48b",
   "metadata": {},
   "source": [
    "### 运行Scissor"
   ]
  },
  {
   "cell_type": "code",
   "execution_count": null,
   "id": "e2656c85",
   "metadata": {
    "vscode": {
     "languageId": "r"
    }
   },
   "outputs": [],
   "source": [
    "Scissor <- function (bulk_dataset, sc_dataset, phenotype, tag = NULL, alpha = NULL, \n",
    "                     cutoff = 0.2, family = c(\"gaussian\", \"binomial\", \"cox\"), \n",
    "                     Save_file = \"Scissor_inputs.RData\", Load_file = NULL) \n",
    "{\n",
    "  library(Seurat)\n",
    "  library(Matrix)\n",
    "  library(preprocessCore)\n",
    "  if (is.null(Load_file)) {\n",
    "    common <- intersect(rownames(bulk_dataset), rownames(sc_dataset))\n",
    "    if (length(common) == 0) {\n",
    "      stop(\"There is no common genes between the given single-cell and bulk samples.\")\n",
    "    }\n",
    "    if (class(sc_dataset) == \"Seurat\") {\n",
    "      sc_exprs <- as.matrix(sc_dataset@assays$RNA@data)\n",
    "      network <- as.matrix(sc_dataset@graphs$RNA_snn)\n",
    "    }\n",
    "    else {\n",
    "      sc_exprs <- as.matrix(sc_dataset)\n",
    "      Seurat_tmp <- CreateSeuratObject(sc_dataset)\n",
    "      Seurat_tmp <- FindVariableFeatures(Seurat_tmp, selection.method = \"vst\", \n",
    "                                         verbose = F)\n",
    "      Seurat_tmp <- ScaleData(Seurat_tmp, verbose = F)\n",
    "      Seurat_tmp <- RunPCA(Seurat_tmp, features = VariableFeatures(Seurat_tmp), \n",
    "                           verbose = F)\n",
    "      Seurat_tmp <- FindNeighbors(Seurat_tmp, dims = 1:10, \n",
    "                                  verbose = F)\n",
    "      network <- as.matrix(Seurat_tmp@graphs$RNA_snn)\n",
    "    }\n",
    "    diag(network) <- 0\n",
    "    network[which(network != 0)] <- 1\n",
    "    dataset0 <- cbind(bulk_dataset[common, ], sc_exprs[common, \n",
    "    ])\n",
    "    dataset1 <- normalize.quantiles(as.matrix(dataset0))\n",
    "    rownames(dataset1) <- rownames(dataset0)\n",
    "    colnames(dataset1) <- colnames(dataset0)\n",
    "    Expression_bulk <- dataset1[, 1:ncol(bulk_dataset)]\n",
    "    Expression_cell <- dataset1[, (ncol(bulk_dataset) + \n",
    "                                     1):ncol(dataset1)]\n",
    "    X <- cor(Expression_bulk, Expression_cell)\n",
    "    quality_check <- quantile(X)\n",
    "    print(\"|**************************************************|\")\n",
    "    print(\"Performing quality-check for the correlations\")\n",
    "    print(\"The five-number summary of correlations:\")\n",
    "    print(quality_check)\n",
    "    print(\"|**************************************************|\")\n",
    "    if (quality_check[3] < 0.01) {\n",
    "      warning(\"The median correlation between the single-cell and bulk samples is relatively low.\")\n",
    "    }\n",
    "    if (family == \"binomial\") {\n",
    "      Y <- as.numeric(phenotype)\n",
    "      z <- table(Y)\n",
    "      if (length(z) != length(tag)) {\n",
    "        stop(\"The length differs between tags and phenotypes. Please check Scissor inputs and selected regression type.\")\n",
    "      }\n",
    "      else {\n",
    "        print(sprintf(\"Current phenotype contains %d %s and %d %s samples.\", \n",
    "                      z[1], tag[1], z[2], tag[2]))\n",
    "        print(\"Perform logistic regression on the given phenotypes:\")\n",
    "      }\n",
    "    }\n",
    "    if (family == \"gaussian\") {\n",
    "      Y <- as.numeric(phenotype)\n",
    "      z <- table(Y)\n",
    "      if (length(z) != length(tag)) {\n",
    "        stop(\"The length differs between tags and phenotypes. Please check Scissor inputs and selected regression type.\")\n",
    "      }\n",
    "      else {\n",
    "        tmp <- paste(z, tag)\n",
    "        print(paste0(\"Current phenotype contains \", \n",
    "                     paste(tmp[1:(length(z) - 1)], collapse = \", \"), \n",
    "                     \", and \", tmp[length(z)], \" samples.\"))\n",
    "        print(\"Perform linear regression on the given phenotypes:\")\n",
    "      }\n",
    "    }\n",
    "    if (family == \"cox\") {\n",
    "      Y <- as.matrix(phenotype)\n",
    "      if (ncol(Y) != 2) {\n",
    "        stop(\"The size of survival data is wrong. Please check Scissor inputs and selected regression type.\")\n",
    "      }\n",
    "      else {\n",
    "        print(\"Perform cox regression on the given clinical outcomes:\")\n",
    "      }\n",
    "    }\n",
    "    save(X, Y, network, Expression_bulk, Expression_cell, \n",
    "         file = Save_file)\n",
    "  }\n",
    "  else {\n",
    "    load(Load_file)\n",
    "  }\n",
    "  if (is.null(alpha)) {\n",
    "    alpha <- c(0.005, 0.01, 0.05, 0.1, 0.2, 0.3, 0.4, 0.5, \n",
    "               0.6, 0.7, 0.8, 0.9)\n",
    "  }\n",
    "  for (i in 1:length(alpha)) {\n",
    "    set.seed(123)\n",
    "    fit0 <- APML1(X, Y, family = family, penalty = \"Net\", \n",
    "                  alpha = alpha[i], Omega = network, nlambda = 100, \n",
    "                  nfolds = min(10, nrow(X)))\n",
    "    fit1 <- APML1(X, Y, family = family, penalty = \"Net\", \n",
    "                  alpha = alpha[i], Omega = network, lambda = fit0$lambda.min)\n",
    "    if (family == \"binomial\") {\n",
    "      Coefs <- as.numeric(fit1$Beta[2:(ncol(X) + 1)])\n",
    "    }\n",
    "    else {\n",
    "      Coefs <- as.numeric(fit1$Beta)\n",
    "    }\n",
    "    Cell1 <- colnames(X)[which(Coefs > 0)]\n",
    "    Cell2 <- colnames(X)[which(Coefs < 0)]\n",
    "    percentage <- (length(Cell1) + length(Cell2))/ncol(X)\n",
    "    print(sprintf(\"alpha = %s\", alpha[i]))\n",
    "    print(sprintf(\"Scissor identified %d Scissor+ cells and %d Scissor- cells.\", \n",
    "                  length(Cell1), length(Cell2)))\n",
    "    print(sprintf(\"The percentage of selected cell is: %s%%\", \n",
    "                  formatC(percentage * 100, format = \"f\", digits = 3)))\n",
    "    if (percentage < cutoff) {\n",
    "      break\n",
    "    }\n",
    "    cat(\"\\n\")\n",
    "  }\n",
    "  print(\"|**************************************************|\")\n",
    "  return(list(para = list(alpha = alpha[i], lambda = fit0$lambda.min, \n",
    "                          family = family), Coefs = Coefs, Scissor_pos = Cell1, \n",
    "              Scissor_neg = Cell2))\n",
    "}"
   ]
  },
  {
   "cell_type": "markdown",
   "id": "76e6bac8",
   "metadata": {},
   "source": [
    "再次运行："
   ]
  },
  {
   "cell_type": "code",
   "execution_count": null,
   "id": "f9123cb0",
   "metadata": {
    "vscode": {
     "languageId": "r"
    }
   },
   "outputs": [],
   "source": [
    "infos1 <- Scissor(bulk_df, sc_dataset, Phenotype_df, alpha = 0.05, \n",
    "                  family = \"cox\", Save_file = paste0(celltype,\".RData\"))"
   ]
  },
  {
   "cell_type": "code",
   "execution_count": null,
   "id": "32708c7a",
   "metadata": {
    "vscode": {
     "languageId": "r"
    }
   },
   "outputs": [],
   "source": [
    "pdf(paste0(\"Bulk1_DimPlot_\", celltype, \".pdf\"), height = 8, width = 20) #单位是英寸\n",
    "\n",
    "# 创建 Scissor 标记\n",
    "Scissor_select <- rep(\"Neutral\", ncol(sc_dataset))  # 先统一设为 Neutral\n",
    "names(Scissor_select) <- colnames(sc_dataset)\n",
    "Scissor_select[infos1$Scissor_pos] <- \"Scissor+\"\n",
    "Scissor_select[infos1$Scissor_neg] <- \"Scissor-\"\n",
    "\n",
    "# 添加到 Seurat 对象\n",
    "sc_dataset <- AddMetaData(sc_dataset, metadata = Scissor_select, col.name = \"scissor\")\n",
    "\n",
    "# 强制设置 factor 顺序，确保颜色对应\n",
    "sc_dataset$scissor <- factor(sc_dataset$scissor, levels = c(\"Neutral\", \"Scissor+\", \"Scissor-\"))\n",
    "\n",
    "# 绘制 UMAP\n",
    "UMAP_scissor <- DimPlot(sc_dataset, reduction = 'umap', \n",
    "                        group.by = 'scissor',\n",
    "                        cols = c('grey','royalblue','indianred1'), \n",
    "                        pt.size = 0.001)\n",
    "\n",
    "# 并排显示\n",
    "options(repr.plot.width = 20, repr.plot.height = 8)\n",
    "patchwork::wrap_plots(plots = list(UMAP_celltype, UMAP_scissor), ncol = 2)\n",
    "\n",
    "dev.off()\n"
   ]
  },
  {
   "cell_type": "code",
   "execution_count": null,
   "id": "f771712b",
   "metadata": {
    "vscode": {
     "languageId": "r"
    }
   },
   "outputs": [],
   "source": [
    "library(gplots)\n",
    "\n",
    "pdf(paste0(\"Bulk1_Balloonplot_\", celltype, \".pdf\"), height = 10, width = 18)\n",
    "\n",
    "# 调整边距以免标签被切掉\n",
    "op <- par(mar = c(6, 8, 4, 2))  \n",
    "\n",
    "tbl <- table(sc_dataset$scissor, sc_dataset$celltype)\n",
    "\n",
    "balloonplot(\n",
    "  tbl,\n",
    "  main = paste0(\"Bulk1_Balloonplot_\", celltype),\n",
    "  xlab = \"Cell type\",        # 如果不需要可不传\n",
    "  ylab = \"Scissor\",          # 如果不需要可不传\n",
    "  dotsize = 2,               # 最大点大小（根据设备调节）\n",
    "  dotchar = 19,\n",
    "  dotcolor = \"steelblue\",\n",
    "\n",
    "  # 下面这两个是关键：控制轴/标签文字大小 和 气泡内数字大小\n",
    "  text.size  = 1.6,          # 控制行/列标签与边缘文字（相当于 cex）\n",
    "  text.color = \"black\",\n",
    "\n",
    "  label = TRUE,              # 是否在气泡上显示数值\n",
    "  label.size = 1.4,          # 气泡内数值大小（相当于 cex）\n",
    "  label.color = \"white\",\n",
    "  # label.digits = 0,          # 小数位\n",
    "\n",
    "  show.margins = FALSE\n",
    ")\n",
    "\n",
    "par(op)\n",
    "dev.off()"
   ]
  }
 ],
 "metadata": {
  "kernelspec": {
   "display_name": "R",
   "language": "R",
   "name": "ir"
  },
  "language_info": {
   "codemirror_mode": "r",
   "file_extension": ".r",
   "mimetype": "text/x-r-source",
   "name": "R",
   "pygments_lexer": "r",
   "version": "4.4.3"
  }
 },
 "nbformat": 4,
 "nbformat_minor": 5
}
