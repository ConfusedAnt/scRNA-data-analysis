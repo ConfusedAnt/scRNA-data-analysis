{
 "cells": [
  {
   "cell_type": "code",
   "execution_count": null,
   "id": "cc40b601",
   "metadata": {
    "vscode": {
     "languageId": "r"
    }
   },
   "outputs": [],
   "source": [
    "library(Seurat)\n",
    "library(dplyr)\n",
    "library(patchwork)\n",
    "# library(readr)\n",
    "library(ggplot2)\n",
    "#有云服务器的，可开启并运算，这里我用4个线程：\n",
    "library(future)\n",
    "library(qs)\n",
    "# check the current active plan\n",
    "plan()\n",
    "# change the current plan to access parallelization\n",
    "plan(\"multisession\", workers =40)\n",
    "plan()\n",
    "\n",
    "#设置可用的内存\n",
    "options(future.globals.maxSize = 4 * 1024^3)\n",
    "plan(\"sequential\")\n",
    "future::plan()\n"
   ]
  },
  {
   "cell_type": "markdown",
   "id": "984393eb",
   "metadata": {},
   "source": [
    "### ————————合并需要分析的细胞类型————————"
   ]
  },
  {
   "cell_type": "code",
   "execution_count": null,
   "id": "359fea75",
   "metadata": {
    "vscode": {
     "languageId": "r"
    }
   },
   "outputs": [],
   "source": [
    "# # 读取数据\n",
    "# Endothelial <- qread(\"/home/user/ALI/Endothelial/Outdata/Sub_annotion.qs\")\n",
    "# Epithelial <- qread(\"/home/user/ALI/Epithelial/Outdata/Sub_annotion.qs\")\n",
    "# Fibroblast <- qread(\"/home/user/ALI/Fibroblast/Outdata/Sub_annotion.qs\")\n",
    "\n",
    "# NK_cells <- qread(\"/home/user/ALI/NK cells/Outdata/Sub_annotion.qs\")\n",
    "# Neutrophils <- qread(\"/home/user/ALI/Neutrophils/Outdata/Sub_annotion.qs\")\n",
    "# Macrophages <- qread(\"/home/user/ALI/Macrophages/Outdata/Sub_annotion.qs\")\n",
    "\n",
    "# # 挑选指定 celltype\n",
    "# endo_sub <- subset(Endothelial, subset = celltype %in% c(\"Endothelial_c3\", \"Endothelial_c4\"))\n",
    "# epi_sub  <- subset(Epithelial, subset = celltype %in% c(\"Epithelial_c1\",\"Epithelial_c10\"))\n",
    "# fib_sub  <- subset(Fibroblast, subset = celltype %in% c(\"Fibroblast_c0\", \"Fibroblast_c9\", \"Fibroblast_c10\"))\n",
    "\n",
    "# nk_sub <- subset(NK_cells, subset = celltype %in% c(\"NK_c1\", \"NK_c5\"))\n",
    "# neu_sub  <- subset(Neutrophils, subset = celltype %in% c(\"Neutrophils_c2\",\"Neutrophils_c5\"))\n",
    "# mac_sub  <- subset(Macrophages, subset = celltype %in% c(\"Macrophages_c1\", \"Macrophages_c2\", \"Macrophages_c7\", \"Macrophages_c9\", \"Macrophages_c10\",\"Macrophages_c11\", \"Macrophages_c12\"))\n",
    "\n",
    "# # 合并为一个新的 Seurat 对象\n",
    "# seurat.data <- merge(endo_sub, y = list(epi_sub, fib_sub,nk_sub,neu_sub,mac_sub), project = \"ALI_Selected\")\n",
    "\n",
    "# # 检查结果\n",
    "# table(seurat.data$celltype)\n"
   ]
  },
  {
   "cell_type": "code",
   "execution_count": null,
   "id": "f2a1d9eb",
   "metadata": {
    "vscode": {
     "languageId": "r"
    }
   },
   "outputs": [],
   "source": [
    "# seurat.data = qread(\"Combined_Selected_Celltypes.qs\")"
   ]
  },
  {
   "cell_type": "code",
   "execution_count": null,
   "id": "1869960e",
   "metadata": {
    "vscode": {
     "languageId": "r"
    }
   },
   "outputs": [],
   "source": [
    "# seurat.data <- NormalizeData(object = seurat.data, normalization.method = \"LogNormalize\", scale.factor = 10000)"
   ]
  },
  {
   "cell_type": "code",
   "execution_count": null,
   "id": "485ab256",
   "metadata": {
    "vscode": {
     "languageId": "r"
    }
   },
   "outputs": [],
   "source": [
    "# 2.5 保存数据\n",
    "# qsave(seurat.data, file = \"Combined_Selected_Celltypes.qs\")"
   ]
  },
  {
   "cell_type": "markdown",
   "id": "5677e6aa",
   "metadata": {},
   "source": [
    "### ————————合并需要分析的细胞类型————————"
   ]
  },
  {
   "cell_type": "markdown",
   "id": "83f44917-6e46-4875-9513-554a8f6c4d16",
   "metadata": {},
   "source": [
    "## Step1. 构建cellchat对象"
   ]
  },
  {
   "cell_type": "code",
   "execution_count": null,
   "id": "61ddc1dc-cb9a-4421-941f-cc1636db4785",
   "metadata": {
    "vscode": {
     "languageId": "r"
    }
   },
   "outputs": [],
   "source": [
    "#remotes::install_github(\"sqjin/CellChat\")\n",
    "library(CellChat)\n",
    "library(patchwork)\n",
    "library(Seurat)\n",
    "# library(SeuratData)\n",
    "library(qs)\n",
    "# AvailableData()\n",
    "# InstallData(\"pbmc3k\")"
   ]
  },
  {
   "cell_type": "code",
   "execution_count": null,
   "id": "a991c47e",
   "metadata": {
    "vscode": {
     "languageId": "r"
    }
   },
   "outputs": [],
   "source": [
    "seurat.data = qread(\"Combined_Selected_Celltypes.qs\")"
   ]
  },
  {
   "cell_type": "code",
   "execution_count": null,
   "id": "b0612f7c",
   "metadata": {
    "vscode": {
     "languageId": "r"
    }
   },
   "outputs": [],
   "source": [
    "table(seurat.data@meta.data$celltype)"
   ]
  },
  {
   "cell_type": "code",
   "execution_count": null,
   "id": "c504d00e-7cc2-4137-9d15-aa077f04b9ec",
   "metadata": {
    "vscode": {
     "languageId": "r"
    }
   },
   "outputs": [],
   "source": [
    "## 1.2 构建cellchat对象\n",
    "#pbmc3k里的seurat_annotations有一些NA注释，过滤掉\n",
    "data.input = seurat.data@assays$RNA@data\n",
    "meta.data =  seurat.data@meta.data\n",
    "meta.data = meta.data[!is.na(meta.data$celltype),]\n",
    "data.input = data.input[,row.names(meta.data)]\n",
    "\n",
    "#设置因子水平\n",
    "meta.data$celltype = factor(meta.data$celltype,\n",
    "                                    #   levels = c(\"Epithelial_c0\", \"Epithelial_c1\", \"Epithelial_c2\", \"Epithelial_c3\", \"Epithelial_c4\", \n",
    "                                    #                 \"Epithelial_c5\", \"Epithelial_c6\", \"Epithelial_c7\", \"Epithelial_c8\", \"Epithelial_c9\")\n",
    "                                                    )\n",
    "\n",
    "### 1.3 Create a CellChat object\n",
    "cellchat <- createCellChat(object = data.input, \n",
    "                           meta = meta.data, \n",
    "                           group.by = \"celltype\")"
   ]
  },
  {
   "cell_type": "code",
   "execution_count": null,
   "id": "04f3baa9-c934-44f4-b08c-4e5f600e3174",
   "metadata": {
    "vscode": {
     "languageId": "r"
    }
   },
   "outputs": [],
   "source": [
    "###可在cellchat对象的meta插槽中添加表型信息\n",
    "# 添加meta.data信息\n",
    "cellchat <- addMeta(cellchat, meta = meta.data)\n",
    "\n",
    "# 设置默认的labels\n",
    "levels(cellchat@idents) # show factor levels of the cell labels\n",
    "# cellchat <- setIdent(cellchat, ident.use = \"new.labels\") \n",
    "# groupSize <- as.numeric(table(cellchat@idents)) # number of cells in each cell group"
   ]
  },
  {
   "cell_type": "markdown",
   "id": "8e5b9645-6fa8-4cd1-b057-702e7d8b405a",
   "metadata": {},
   "source": [
    "## Step2. 加载CellChatDB数据库"
   ]
  },
  {
   "cell_type": "code",
   "execution_count": null,
   "id": "1b274448-eacf-4922-931b-8a861dae44f4",
   "metadata": {
    "vscode": {
     "languageId": "r"
    }
   },
   "outputs": [],
   "source": [
    "### 1.4 加载CellChat受配体数据库\n",
    "# CellChatDB <- CellChatDB.human # use CellChatDB.mouse if running on mouse data\n",
    "CellChatDB <- CellChatDB.mouse # use CellChatDB.mouse if running on mouse data\n",
    "showDatabaseCategory(CellChatDB)"
   ]
  },
  {
   "cell_type": "code",
   "execution_count": null,
   "id": "2a298ea4-d0bf-49de-a1fa-87aed955821c",
   "metadata": {
    "vscode": {
     "languageId": "r"
    }
   },
   "outputs": [],
   "source": [
    "# Show the structure of the database\n",
    "dplyr::glimpse(CellChatDB$interaction)"
   ]
  },
  {
   "cell_type": "code",
   "execution_count": null,
   "id": "83e2575e",
   "metadata": {
    "vscode": {
     "languageId": "r"
    }
   },
   "outputs": [],
   "source": [
    "\n",
    "# Fix \"H2-BI\" and \"H2-Ea-ps\" typo in CellChatDB.mouse\n",
    "CellChatDB$interaction[\"H2-BI_KIR3DL1\",\"interaction_name\"] = \"H2-BL_KIR3DL1\"\n",
    "CellChatDB$interaction[\"H2-BI_KIR3DL1\",\"ligand\"] = \"H2-Bl\"\n",
    "CellChatDB$interaction[\"H2-BI_KIR3DL1\",\"interaction_name_2\"] = \"H2-bl - Kir3dl1\"\n",
    "rownames(CellChatDB$interaction)[rownames(CellChatDB$interaction) == \"H2-BI_KIR3DL1\"] = \"H2-BL_KIR3DL1\"\n",
    "\n",
    "CellChatDB$interaction[\"H2-EA-PS_CD4\",\"interaction_name\"] = \"H2-EA_CD4\"\n",
    "CellChatDB$interaction[\"H2-EA-PS_CD4\",\"ligand\"] = \"H2-Ea\"\n",
    "CellChatDB$interaction[\"H2-EA-PS_CD4\",\"interaction_name_2\"] = \"H2-ea - Cd4\"\n",
    "rownames(CellChatDB$interaction)[rownames(CellChatDB$interaction) == \"H2-EA-PS_CD4\"] = \"H2-EA_CD4\""
   ]
  },
  {
   "cell_type": "code",
   "execution_count": null,
   "id": "528a8a37-22e8-4537-8410-93278b9e1668",
   "metadata": {
    "vscode": {
     "languageId": "r"
    }
   },
   "outputs": [],
   "source": [
    "# use a subset of CellChatDB for cell-cell communication analysis\n",
    "#CellChatDB.use <- subsetDB(CellChatDB, search = \"Secreted Signaling\") # use Secreted Signaling\n",
    "CellChatDB.use <- CellChatDB # simply use the default CellChatDB\n",
    "cellchat@DB <- CellChatDB.use"
   ]
  },
  {
   "cell_type": "markdown",
   "id": "e9f57923-533c-4f63-b39f-cef4020c8b1f",
   "metadata": {},
   "source": [
    "## Step3. 对表达数据进行预处理"
   ]
  },
  {
   "cell_type": "code",
   "execution_count": null,
   "id": "1a16a5aa-597b-4e77-b7e9-1061e4d8d86e",
   "metadata": {
    "vscode": {
     "languageId": "r"
    }
   },
   "outputs": [],
   "source": [
    "cellchat <- subsetData(cellchat) # This step is necessary even if using the whole database\n",
    "future::plan(\"multisession\", workers = 2) # do parallel\n",
    "\n",
    "\n",
    "# cellchat <- updateCellChat(cellchat) 如果报错Error in data.use[RsubunitsV, ] : subscript out of bounds)，执行这行代码\n",
    "\n",
    "cellchat <- identifyOverExpressedGenes(cellchat)\n",
    "cellchat <- identifyOverExpressedInteractions(cellchat)\n"
   ]
  },
  {
   "cell_type": "markdown",
   "id": "d3053cbc-a11a-4536-8c26-da55af607586",
   "metadata": {},
   "source": [
    "## Step4. 计算通讯概率，推断细胞通讯网络"
   ]
  },
  {
   "cell_type": "code",
   "execution_count": null,
   "id": "da1fea97-8cd5-4283-9ca0-188e7eed8c0a",
   "metadata": {
    "vscode": {
     "languageId": "r"
    }
   },
   "outputs": [],
   "source": [
    "cellchat <- computeCommunProb(cellchat,population.size = F)\n",
    "# Filter out the cell-cell communication if there are only few number of cells in certain cell groups\n",
    "cellchat <- filterCommunication(cellchat, min.cells = 10)"
   ]
  },
  {
   "cell_type": "markdown",
   "id": "b09ef16b-e9e0-450d-8444-84af0aa30167",
   "metadata": {},
   "source": [
    "## Step5. 提取预测的细胞通讯网络为data frame"
   ]
  },
  {
   "cell_type": "code",
   "execution_count": null,
   "id": "96f090e5",
   "metadata": {
    "vscode": {
     "languageId": "r"
    }
   },
   "outputs": [],
   "source": [
    "head(cellchat@meta)"
   ]
  },
  {
   "cell_type": "code",
   "execution_count": null,
   "id": "4ca3380f-52ec-40cf-8017-be4704c8fc39",
   "metadata": {
    "vscode": {
     "languageId": "r"
    }
   },
   "outputs": [],
   "source": [
    "# 作者提供了函数subsetCommunication去提取用户感兴趣的配受体对强度为data.frame：\n",
    "#获取所有的配受体对以及其通讯概率\n",
    "df.net <- subsetCommunication(cellchat)\n",
    "head(df.net)"
   ]
  },
  {
   "cell_type": "code",
   "execution_count": null,
   "id": "9840d8b6-8de1-4848-be70-4bebddf97743",
   "metadata": {
    "vscode": {
     "languageId": "r"
    }
   },
   "outputs": [],
   "source": [
    "#以通路为单位提取通讯信息\n",
    "df.pathway = subsetCommunication(cellchat,slot.name = \"netP\")\n",
    "head(df.pathway)"
   ]
  },
  {
   "cell_type": "code",
   "execution_count": null,
   "id": "99bc3835-7304-4d78-b1fe-2e1eba07ead9",
   "metadata": {
    "vscode": {
     "languageId": "r"
    }
   },
   "outputs": [],
   "source": [
    "levels(cellchat@idents)"
   ]
  },
  {
   "cell_type": "code",
   "execution_count": null,
   "id": "ba8f076a-5e10-4f70-b875-c30afb5a12a9",
   "metadata": {
    "vscode": {
     "languageId": "r"
    }
   },
   "outputs": [],
   "source": [
    "# 对感兴趣的细胞提取受配体信息\n",
    "# 这里的 source.use = c(1) 指的是Naive CD4 T，2和3分别对应Memory CD4 T和CD14+ Mono：\n",
    "df.net.sub <- subsetCommunication(cellchat, sources.use = c(1,2), targets.use = c(3))\n",
    "head(df.net.sub)"
   ]
  },
  {
   "cell_type": "code",
   "execution_count": null,
   "id": "e82c50ab-703a-4f43-a951-99dc88d6c5c1",
   "metadata": {
    "vscode": {
     "languageId": "r"
    }
   },
   "outputs": [],
   "source": [
    "# 对感兴趣的通路提取受配体信息\n",
    "df.net.sub <- subsetCommunication(cellchat, signaling = c(\"CCL\", \"CXCL\"))\n",
    "head(df.net.sub)"
   ]
  },
  {
   "cell_type": "code",
   "execution_count": null,
   "id": "c7b5ba85",
   "metadata": {
    "vscode": {
     "languageId": "r"
    }
   },
   "outputs": [],
   "source": [
    "qsave(cellchat, file = \"CellChat_Res.qs\")"
   ]
  },
  {
   "cell_type": "markdown",
   "id": "ae73b872-8d7a-4311-bf0f-feab2bff9e8d",
   "metadata": {},
   "source": [
    "## Step6. 在信号通路水平推断细胞通讯"
   ]
  },
  {
   "cell_type": "code",
   "execution_count": null,
   "id": "37ee0a0b-a70f-475f-b645-eadc07cc1a34",
   "metadata": {
    "vscode": {
     "languageId": "r"
    }
   },
   "outputs": [],
   "source": [
    "cellchat <- computeCommunProbPathway(cellchat)\n",
    "head(cellchat@net)"
   ]
  },
  {
   "cell_type": "code",
   "execution_count": null,
   "id": "0a2ebea3-d14b-4d7a-be54-27b46c561b8c",
   "metadata": {
    "vscode": {
     "languageId": "r"
    }
   },
   "outputs": [],
   "source": [
    "head(cellchat@netP)"
   ]
  },
  {
   "cell_type": "markdown",
   "id": "ff1e886b-ea7a-4c2e-8bba-afbae08b6b43",
   "metadata": {},
   "source": [
    "## Step7. 计算加和的cell-cell通讯网络"
   ]
  },
  {
   "cell_type": "code",
   "execution_count": null,
   "id": "3f8618a4-0a75-4924-a266-bcc363095e02",
   "metadata": {
    "vscode": {
     "languageId": "r"
    }
   },
   "outputs": [],
   "source": [
    "cellchat <- aggregateNet(cellchat)"
   ]
  },
  {
   "cell_type": "markdown",
   "id": "15cd1da8",
   "metadata": {},
   "source": [
    "## 绘图"
   ]
  },
  {
   "cell_type": "code",
   "execution_count": null,
   "id": "facdd552",
   "metadata": {
    "vscode": {
     "languageId": "r"
    }
   },
   "outputs": [],
   "source": [
    "#remotes::install_github(\"sqjin/CellChat\")\n",
    "library(CellChat)\n",
    "library(patchwork)\n",
    "library(Seurat)\n",
    "# library(SeuratData)\n",
    "library(qs)\n",
    "# AvailableData()\n",
    "# InstallData(\"pbmc3k\")"
   ]
  },
  {
   "cell_type": "code",
   "execution_count": null,
   "id": "998f1a99",
   "metadata": {
    "vscode": {
     "languageId": "r"
    }
   },
   "outputs": [],
   "source": [
    "cellchat = qread(file = \"CellChat_Res_2.qs\")"
   ]
  },
  {
   "cell_type": "code",
   "execution_count": null,
   "id": "ca09cfb8",
   "metadata": {
    "vscode": {
     "languageId": "r"
    }
   },
   "outputs": [],
   "source": [
    "cellchat@net$count"
   ]
  },
  {
   "cell_type": "code",
   "execution_count": null,
   "id": "1cdcbf81-7ae7-4d89-a00c-295647876da6",
   "metadata": {
    "vscode": {
     "languageId": "r"
    }
   },
   "outputs": [],
   "source": [
    "groupSize <- as.numeric(table(cellchat@idents))\n",
    "par(mfrow = c(1,2), xpd=TRUE)\n",
    "p1 = netVisual_circle(cellchat@net$count, vertex.weight = groupSize,\n",
    "                 weight.scale = T, label.edge= F,\n",
    "                 title.name = \"Number of interactions\",\n",
    "                 vertex.label.cex = 0.6)\n",
    "p2 = netVisual_circle(cellchat@net$weight, vertex.weight = groupSize,\n",
    "                 weight.scale = T, label.edge= F,\n",
    "                 title.name = \"Interaction weights/strength\",\n",
    "                 vertex.label.cex = 0.6)"
   ]
  },
  {
   "cell_type": "code",
   "execution_count": null,
   "id": "dbbe0ef1",
   "metadata": {
    "vscode": {
     "languageId": "r"
    }
   },
   "outputs": [],
   "source": [
    "pdf(\"circle_plot_p1.pdf\", width = 12, height = 12) # 放大画布\n",
    "print(p1)\n",
    "dev.off()\n",
    "pdf(\"circle_plot_p2.pdf\", width = 12, height = 12) # 放大画布\n",
    "print(p2)\n",
    "dev.off()\n"
   ]
  },
  {
   "cell_type": "code",
   "execution_count": null,
   "id": "fcb4b867-f1ba-4835-a896-2bf5b20516b5",
   "metadata": {
    "vscode": {
     "languageId": "r"
    }
   },
   "outputs": [],
   "source": [
    "mat <- cellchat@net$weight\n",
    "par(mfrow = c(3,3), xpd=TRUE)\n",
    "for (i in 1:nrow(mat)) {\n",
    "  mat2 <- matrix(0, nrow = nrow(mat), ncol = ncol(mat), dimnames = dimnames(mat))\n",
    "  mat2[i, ] <- mat[i, ]\n",
    "  p1 = netVisual_circle(mat2, vertex.weight = groupSize,\n",
    "                   weight.scale = T, edge.weight.max = max(mat),\n",
    "                   title.name = rownames(mat)[i])\n",
    "}"
   ]
  },
  {
   "cell_type": "code",
   "execution_count": null,
   "metadata": {
    "vscode": {
     "languageId": "r"
    }
   },
   "outputs": [],
   "source": [
    "# Compute the network centrality scores\n",
    "cellchat <- netAnalysis_computeCentrality(cellchat, slot.name = \"netP\") # the slot 'netP' means the inferred intercellular communication network of signaling pathways\n",
    "# Visualize the computed centrality scores using heatmap, allowing ready identification of major signaling roles of cell groups\n",
    "cellchat@netP$pathways\n",
    "# pathways.show = \"CXCL\"\n",
    "# netAnalysis_signalingRole_network(cellchat,\n",
    "#                                   signaling = pathways.show,\n",
    "#                                   width = 8, height = 2.5,\n",
    "#                                   font.size = 10)"
   ]
  },
  {
   "cell_type": "code",
   "execution_count": null,
   "metadata": {
    "vscode": {
     "languageId": "r"
    }
   },
   "outputs": [],
   "source": [
    "# Signaling role analysis on the aggregated cell-cell communication network from all signaling pathways\n",
    "gg1 <- netAnalysis_signalingRole_scatter(cellchat)+ggtitle(\"All pathway\")\n",
    "\n",
    "# options(repr.plot.width = 9, repr.plot.height = 9)\n",
    "pdf(\"2d_scattor.pdf\", width = 9, height = 9) # 放大画布\n",
    "gg1\n",
    "dev.off()\n"
   ]
  },
  {
   "cell_type": "code",
   "execution_count": null,
   "id": "59edbbd3-e87b-47b6-8801-de7cb5f1d763",
   "metadata": {
    "vscode": {
     "languageId": "r"
    }
   },
   "outputs": [],
   "source": [
    "library(ComplexHeatmap)\n",
    "\n",
    "# Signaling role analysis on the aggregated cell-cell communication network from all signaling pathways\n",
    "ht1 <- netAnalysis_signalingRole_heatmap(cellchat, pattern = \"outgoing\")\n",
    "ht2 <- netAnalysis_signalingRole_heatmap(cellchat, pattern = \"incoming\")"
   ]
  },
  {
   "cell_type": "code",
   "execution_count": null,
   "id": "6078a733",
   "metadata": {
    "vscode": {
     "languageId": "r"
    }
   },
   "outputs": [],
   "source": [
    "library(CellChat)\n",
    "library(ComplexHeatmap)\n",
    "library(grid)\n",
    "\n",
    "# 生成热图对象\n",
    "ht1 <- netAnalysis_signalingRole_heatmap(cellchat, font.size = 8, width = 10, height = 20, pattern = \"incoming\")\n",
    "\n",
    "pdf(\"heatmap_incoming.pdf\", width = 8, height = 12)\n",
    "# 调整行名字体大小和行名显示宽度\n",
    "draw(\n",
    "  ht1\n",
    ")\n",
    "dev.off()"
   ]
  },
  {
   "cell_type": "code",
   "execution_count": null,
   "id": "58ab5aba",
   "metadata": {
    "vscode": {
     "languageId": "r"
    }
   },
   "outputs": [],
   "source": [
    "### Bubble plot\n",
    "# show all the significant interactions (L-R pairs) from some cell groups (defined by 'sources.use') to other cell groups (defined by 'targets.use')\n",
    "pdf(\"LR_Pairs_Bubble.pdf\", width = 10, height = 20)\n",
    "# options(repr.plot.width = 10, repr.plot.height = 20)\n",
    "netVisual_bubble(cellchat, sources.use = 1, targets.use = c(2:17), remove.isolate = FALSE)\n",
    "dev.off()   "
   ]
  },
  {
   "cell_type": "code",
   "execution_count": null,
   "id": "d811cb70",
   "metadata": {
    "vscode": {
     "languageId": "r"
    }
   },
   "outputs": [],
   "source": [
    "# show all the significant interactions (L-R pairs) associated with certain signaling pathways\n",
    "netVisual_bubble(cellchat, sources.use = 1, targets.use = c(1:17), \n",
    "                 signaling = c(\"PECAM1\",\"CDH5\",\"PTPRM\",\"KIT\",\"EPHB\",\"CADM\"), remove.isolate = FALSE)\n",
    "    #             signaling = c(\n",
    "    #                 \"TNF\",\n",
    "    # \"IL1\",\n",
    "    # \"CCL\",\n",
    "    # \"CXCL\",\n",
    "    # \"VEGF\",\n",
    "    # \"PDGF\",\n",
    "    # \"MHC-I\",\n",
    "    # \"MHC-II\",\n",
    "    # \"NOTCH\"\n",
    "    # ), remove.isolate = FALSE)"
   ]
  },
  {
   "cell_type": "code",
   "execution_count": null,
   "id": "aa103715",
   "metadata": {
    "vscode": {
     "languageId": "r"
    }
   },
   "outputs": [],
   "source": [
    "# 感兴趣的pathway\n",
    "# Signaling role analysis on the cell-cell communication networks of interest\n",
    "gg2 <- netAnalysis_signalingRole_scatter(cellchat, signaling = c(\"PECAM1\",\"CDH5\",\"PTPRM\",\"KIT\",\"EPHB\",\"CADM\"))+ggtitle(\"\")\n",
    "\n",
    "options(repr.plot.width = 9, repr.plot.height = 4)\n",
    "gg2"
   ]
  },
  {
   "cell_type": "code",
   "execution_count": null,
   "id": "499564df",
   "metadata": {
    "vscode": {
     "languageId": "r"
    }
   },
   "outputs": [],
   "source": [
    "## 当然也支持可视化指定的pathway：\n",
    "# Signaling role analysis on the cell-cell communication networks of interest\n",
    "sig1 <- netAnalysis_signalingRole_heatmap(cellchat, pattern = \"outgoing\",signaling = c(\"TNF\",\n",
    "    \"IL1\",\n",
    "    \"CCL\",\n",
    "    \"CXCL\",\n",
    "    \"VEGF\",\n",
    "    \"PDGF\",\n",
    "    \"MHC-I\",\n",
    "    \"MHC-II\",\n",
    "    \"NOTCH\"\n",
    "    # \"PECAM1\",\"CDH5\",\"PTPRM\",\"KIT\",\"EPHB\",\"CADM\"\n",
    "    ))\n",
    "sig2 <- netAnalysis_signalingRole_heatmap(cellchat, pattern = \"incoming\",signaling = c(\"TNF\",\n",
    "    \"IL1\",\n",
    "    \"CCL\",\n",
    "    \"CXCL\",\n",
    "    \"VEGF\",\n",
    "    \"PDGF\",\n",
    "    \"MHC-I\",\n",
    "    \"MHC-II\",\n",
    "    \"NOTCH\"\n",
    "    # \"PECAM1\",\"CDH5\",\"PTPRM\",\"KIT\",\"EPHB\",\"CADM\"\n",
    "    ))"
   ]
  }
 ],
 "metadata": {
  "kernelspec": {
   "display_name": "R",
   "language": "R",
   "name": "ir"
  },
  "language_info": {
   "codemirror_mode": "r",
   "file_extension": ".r",
   "mimetype": "text/x-r-source",
   "name": "R",
   "pygments_lexer": "r",
   "version": "4.4.3"
  }
 },
 "nbformat": 4,
 "nbformat_minor": 5
}
